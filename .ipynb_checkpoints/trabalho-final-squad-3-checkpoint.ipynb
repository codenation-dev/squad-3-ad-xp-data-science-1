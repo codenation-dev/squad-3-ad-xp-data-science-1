{
 "cells": [
  {
   "cell_type": "markdown",
   "metadata": {
    "colab_type": "text",
    "id": "0TgaIUHdhHMc"
   },
   "source": [
    "# Preparando o ambiente "
   ]
  },
  {
   "cell_type": "code",
   "execution_count": 1,
   "metadata": {
    "colab": {},
    "colab_type": "code",
    "id": "iQ8r--hx_2yz"
   },
   "outputs": [],
   "source": [
    "from math import sqrt\n",
    "import numpy as np\n",
    "import pandas as pd\n",
    "import warnings\n",
    "import matplotlib.pyplot as plt\n",
    "import pandas_profiling\n",
    "from scipy import stats\n",
    "from sklearn.preprocessing import MinMaxScaler\n",
    "from sklearn.decomposition import PCA\n",
    "from sklearn.cluster import KMeans\n",
    "from itertools import cycle\n",
    "import seaborn as sns\n",
    "sns.set(style=\"ticks\", color_codes=True)\n",
    "\n",
    "warnings.simplefilter(action='ignore', category=FutureWarning)\n",
    "pd.options.display.max_rows = 999"
   ]
  },
  {
   "cell_type": "code",
   "execution_count": 3,
   "metadata": {
    "colab": {},
    "colab_type": "code",
    "id": "QM4IU59QKFEB"
   },
   "outputs": [],
   "source": [
    "df_mkt = pd.read_csv('../data/estaticos_market.csv')"
   ]
  },
  {
   "cell_type": "markdown",
   "metadata": {},
   "source": [
    "# Limpeza dos dados"
   ]
  },
  {
   "cell_type": "markdown",
   "metadata": {
    "colab_type": "text",
    "id": "GnbwKcTJhTkG"
   },
   "source": [
    "## Remoção por dados faltantes"
   ]
  },
  {
   "cell_type": "code",
   "execution_count": 4,
   "metadata": {
    "colab": {
     "base_uri": "https://localhost:8080/",
     "height": 102
    },
    "colab_type": "code",
    "id": "XGCf4by9IQS4",
    "outputId": "375d5a5e-7e2e-4c5d-8f42-8cabe6eb4882"
   },
   "outputs": [
    {
     "name": "stdout",
     "output_type": "stream",
     "text": [
      "<class 'pandas.core.frame.DataFrame'>\n",
      "RangeIndex: 462298 entries, 0 to 462297\n",
      "Columns: 182 entries, Unnamed: 0 to qt_filiais\n",
      "dtypes: bool(9), float64(144), int64(2), object(27)\n",
      "memory usage: 614.1+ MB\n"
     ]
    }
   ],
   "source": [
    "df_mkt.info()"
   ]
  },
  {
   "cell_type": "code",
   "execution_count": 5,
   "metadata": {
    "colab": {},
    "colab_type": "code",
    "id": "8Ds-fmneFhWm"
   },
   "outputs": [],
   "source": [
    "df = pd.DataFrame(df_mkt.isna().sum() / df_mkt.shape[0], columns=['per_na'])\n",
    "df_ = df[df['per_na'] > 0.5]"
   ]
  },
  {
   "cell_type": "code",
   "execution_count": 6,
   "metadata": {
    "colab": {},
    "colab_type": "code",
    "id": "GGeyd6I1FU3J"
   },
   "outputs": [],
   "source": [
    "columns_to_drop = list(df_.transpose().columns)\n",
    "columns_to_drop.append('Unnamed: 0')\n",
    "\n",
    "\n",
    "df_mkt_dropped = df_mkt.drop(columns=columns_to_drop)"
   ]
  },
  {
   "cell_type": "markdown",
   "metadata": {
    "colab_type": "text",
    "id": "e4bnSkPNhhHa"
   },
   "source": [
    "## Remoção das variáveis por significado em relação ao contexto"
   ]
  },
  {
   "cell_type": "code",
   "execution_count": 7,
   "metadata": {
    "colab": {
     "base_uri": "https://localhost:8080/",
     "height": 952
    },
    "colab_type": "code",
    "id": "zb1dn8kaJI6j",
    "outputId": "69ebbdd1-20fc-427a-94bd-5fe582f3cabe"
   },
   "outputs": [
    {
     "name": "stdout",
     "output_type": "stream",
     "text": [
      "<class 'pandas.core.frame.DataFrame'>\n",
      "RangeIndex: 462298 entries, 0 to 462297\n",
      "Data columns (total 50 columns):\n",
      "id                                       462298 non-null object\n",
      "fl_matriz                                462298 non-null bool\n",
      "de_natureza_juridica                     462298 non-null object\n",
      "sg_uf                                    462298 non-null object\n",
      "natureza_juridica_macro                  462298 non-null object\n",
      "de_ramo                                  462298 non-null object\n",
      "setor                                    460371 non-null object\n",
      "idade_empresa_anos                       462298 non-null float64\n",
      "idade_emp_cat                            462298 non-null object\n",
      "fl_me                                    462298 non-null bool\n",
      "fl_sa                                    462298 non-null bool\n",
      "fl_epp                                   462298 non-null bool\n",
      "fl_mei                                   462298 non-null bool\n",
      "fl_ltda                                  462298 non-null bool\n",
      "dt_situacao                              462292 non-null object\n",
      "fl_st_especial                           462298 non-null bool\n",
      "fl_email                                 462298 non-null bool\n",
      "fl_telefone                              462298 non-null bool\n",
      "fl_rm                                    462298 non-null object\n",
      "nm_divisao                               460371 non-null object\n",
      "nm_segmento                              460371 non-null object\n",
      "fl_spa                                   460371 non-null object\n",
      "fl_antt                                  460371 non-null object\n",
      "fl_veiculo                               460371 non-null object\n",
      "fl_optante_simples                       379585 non-null object\n",
      "vl_total_veiculos_pesados_grupo          460371 non-null float64\n",
      "vl_total_veiculos_leves_grupo            460371 non-null float64\n",
      "fl_optante_simei                         379585 non-null object\n",
      "sg_uf_matriz                             460359 non-null object\n",
      "de_saude_tributaria                      447447 non-null object\n",
      "de_saude_rescencia                       447447 non-null object\n",
      "nu_meses_rescencia                       417022 non-null float64\n",
      "de_nivel_atividade                       451130 non-null object\n",
      "fl_simples_irregular                     460371 non-null object\n",
      "empsetorcensitariofaixarendapopulacao    318469 non-null float64\n",
      "nm_meso_regiao                           403600 non-null object\n",
      "nm_micro_regiao                          403600 non-null object\n",
      "fl_passivel_iss                          460371 non-null object\n",
      "qt_socios                                347207 non-null float64\n",
      "qt_socios_pf                             347207 non-null float64\n",
      "qt_socios_pj                             347207 non-null float64\n",
      "idade_media_socios                       310696 non-null float64\n",
      "idade_maxima_socios                      310696 non-null float64\n",
      "idade_minima_socios                      310696 non-null float64\n",
      "qt_socios_st_regular                     307381 non-null float64\n",
      "de_faixa_faturamento_estimado            434785 non-null object\n",
      "de_faixa_faturamento_estimado_grupo      434785 non-null object\n",
      "vl_faturamento_estimado_aux              434785 non-null float64\n",
      "vl_faturamento_estimado_grupo_aux        434785 non-null float64\n",
      "qt_filiais                               462298 non-null int64\n",
      "dtypes: bool(9), float64(14), int64(1), object(26)\n",
      "memory usage: 148.6+ MB\n"
     ]
    }
   ],
   "source": [
    "df_mkt_dropped.info()"
   ]
  },
  {
   "cell_type": "code",
   "execution_count": 8,
   "metadata": {
    "colab": {},
    "colab_type": "code",
    "id": "RU5IMPulCPH3"
   },
   "outputs": [],
   "source": [
    "columns_to_drop = [\n",
    "    'fl_email', 'fl_telefone', 'fl_matriz', 'sg_uf_matriz', 'nm_segmento', 'de_ramo', 'idade_empresa_anos', 'dt_situacao', 'fl_sa', 'fl_mei',\n",
    "    'fl_me', 'fl_epp', 'fl_ltda', 'fl_st_especial', 'fl_spa', 'fl_optante_simei', 'fl_simples_irregular', 'idade_maxima_socios',\n",
    "    'de_natureza_juridica', 'de_faixa_faturamento_estimado', 'vl_faturamento_estimado_aux', 'vl_faturamento_estimado_grupo_aux', 'fl_veiculo', \n",
    "    'vl_total_veiculos_pesados_grupo', 'vl_total_veiculos_leves_grupo', 'fl_antt', 'nm_divisao', 'nm_meso_regiao', 'nm_micro_regiao', \n",
    "    'qt_socios_pf', 'qt_socios_pj', 'idade_media_socios', 'empsetorcensitariofaixarendapopulacao', 'fl_passivel_iss', 'idade_minima_socios', \n",
    "    'qt_socios_st_regular', 'qt_socios', 'de_saude_rescencia', 'nu_meses_rescencia', 'qt_filiais', 'fl_optante_simples'\n",
    "]\n",
    "\n",
    "df_mkt_dropped_intuition = df_mkt_dropped.drop(columns=columns_to_drop)"
   ]
  },
  {
   "cell_type": "markdown",
   "metadata": {
    "colab_type": "text",
    "id": "F8fX4P6gjDry"
   },
   "source": [
    "### Explicando as variáveis removidas"
   ]
  },
  {
   "cell_type": "markdown",
   "metadata": {
    "colab_type": "text",
    "id": "L_xxrcT_g88t"
   },
   "source": [
    "- ### `fl_email`:  boolean value, true if the company has a phone number registered in IRS database. \n",
    "  - Acreditamos não ser uma variável de alta relevância para o contexto do problema\n",
    "- ### `fl_telefone`: boolean value, true if the cnpj has an email registered at the IRF database\n",
    "  - Acreditamos não ser uma variável de alta relevância para o contexto do problema\n",
    "- ### `fl_matriz`: boolean value, true if the CNPJ corresponds to the \"matriz\". \n",
    "  - ~93% dos dos registros eram matriz\n",
    "- ### `sg_uf_matriz`: character, state of the main office location\n",
    "  - Sendo que ~93% dos dados correspondem a matriz, esta informação não agrega muito sendo que temos dados de localização\n",
    "- ### `nm_segmento`: character, name description of the primary economic activity cluster of the company\n",
    "  - Acreditamos ser uma variável relevante porém existem outros dados que representam a atividade econômica de uma maneira mais abrangente i.e. setor, o qual mantemos no dataset\n",
    "- ### `de_ramo`: description of a macro activity category/branch based on the CNAE code\n",
    "  - Mesma análise da variável anterior\n",
    "- ### `nm_divisao`: character, name description of the primary economic activity of the company\n",
    "  - Mesma análise da variável anterior\n",
    "- ### `idade_empresa_anos`: numeric value, age of the company.\n",
    "  - Optamos por uma variável mais abrangente i.e. `idade_emp_cat`, que representa a idade da empresa em intervalos\n",
    "- ### `dt_situacao`: date when the \"de_situacao\" was registered by the IRS.\n",
    "  - Acreditamos não ser uma variável de alta relevância para o contexto do problema\n",
    "- ### `fl_sa`: boolean value, true if the company has the term 'SA' in the end of its legal name.\n",
    "  - Esta variável pode representar o tamanho da empresa, porém optamos pela variável `de_faixa_faturamento_estimado_grupo`, que pode representar o tamanho da empresa de uma maneira mais precisa.  Além disso, 98% é falso\n",
    "- ### `fl_mei`: boolean value, true if the company has the term 'MEI' in the end of its legal name\n",
    "  - Mesma análise da variável anterior\n",
    "- ### `fl_me`: boolean value, true if the company has the term 'ME' in the end of its legal name\n",
    "  - Mesma análise da variável anterior\n",
    "- ### `fl_epp`: boolean value, true if the company has the term 'EPP' in the end of its legal name\n",
    "  - Mesma análise da variável anterior\n",
    "- ### `fl_ltda`: boolean value, true if the company has the term 'LTDA' in the end of its legal name\n",
    "  - Mesma análise da variável anterior\n",
    "- ### `fl_st_especial`: : boolean value, true if dt_situacao_especial is not null. If it is not null means that some extraordinary situation is identified by the IRS. \n",
    "  - Acreditamos não ser uma variável de alta relevância para o contexto do problema. Além disso 99,9% é falso\n",
    "- ### `fl_spa`:  boolean, true if the company has it's own fuel station\n",
    "  - Rejeitamos esta variável por que 99,9% dos valores são `False` \n",
    "- ### `fl_optante_simei`: boolean, true if the company is taxed as an MEI - Individual Micro Entrepreneur\n",
    "  - Esta variável pode representar o tamanho da empresa, porém optamos pela variável `de_faixa_faturamento_estimado_grupo`, que pode representar o tamanho da empresa de uma maneira mais precisa\n",
    "- ### `fl_simples_irregular`: boolean, true if the company is taxed under the SIMPLES regime and has a impeditive CNAE\n",
    "  - Rejeitamos esta variável por que 99,9% dos valores são `False`\n",
    "- ### `idade_media_socios`: numeric value, average age of the partners of the cnpj\n",
    "  - Acreditamos não ser uma variável de alta relevância para o contexto do problema\n",
    "- ### `idade_maxima_socios`: same as above but with max metric\n",
    "  - Acreditamos não ser uma variável de alta relevância para o contexto do problema\n",
    "- ### `de_natureza_juridica`: character, juridic nature of the company\n",
    "  - Como `natureza_juridica_macro` é um pouco mais abrangente, optamos por ela. Como iremos aplicar técnicas de codificação nas variáveis categoricas estamos escolhendo as mais abrangentes para evitar alta dimensionalidade\n",
    "- ### `de_faixa_faturamento_estimado`: character value, class of the estimated revenue of the company\n",
    "  - Optamos por utilizar a variável `de_faixa_faturamento_estimado_grupo`, pois acreditamos representar melhor a magnitude da empresa considerando as filiais\n",
    "- ### `vl_faturamento_estimado_aux`: numeric value, value of the estimated revenue\n",
    "  - Mesma análise da variável anterior\n",
    "- ### `vl_faturamento_estimado_grupo_aux`: numeric value, sum of the estimated revenue for the matrix company and the branches\n",
    "  - Mesma análise da variável anterior\n",
    "- ### `fl_veiculo`: boolean, true if the company owns at least one vehicle\n",
    "  - Acreditamos não ser uma variável de alta relevância para o contexto do problema. Além disso 93,3% é true.\n",
    "- ### `vl_total_veiculos_pesados_grupo`: numeric, economic value of the heavy weight vehicles of the economic group of the company\n",
    "  - Acreditamos não ser uma variável de alta relevância para o contexto do problema. Além que 95% das empresas não possuem veiculos pesados\n",
    "- ### `vl_total_veiculos_leves_grupo`: numeric, economic value of the light weight vehicles of the economic group of the company\n",
    "  - Acreditamos não ser uma variável de alta relevância para o contexto do problema, além de que 92% das empresas não possui veiculos leves\n",
    "- ### `fl_antt`: boolean, true if the company is certified by ANTT for trasnportation purposes\n",
    "  - Acreditamos não ser uma variável de alta relevância para o contexto do problema, além de 99% ser false\n",
    "- ### `nm_meso_regiao`: character, name of the meso region where the company is located\n",
    "  - Optamos pela variável `sg_uf` que representa o estado da empresa\n",
    "- ### `nm_micro_regiao`: character, name of the micro region where the company is located\n",
    "  - Mesma análise da variável anterior\n",
    "- ### `qt_socios_pf`: integer value, quantity of partners/shareholders of the cnpj that are persons\n",
    "  - Acreditamos não ser uma variável de alta relevância para o contexto do problema\n",
    "- ### `qt_socios_pj`: integer value, quantity of partners/shareholders of the cnpj that are persons\n",
    "  - Acreditamos não ser uma variável de alta relevância para o contexto do problema, fora que 99% das empresas não tem sócios PJ\n",
    "- ### `empsetorcensitariofaixarendapopulacao`: numeric, average income from a sample of residents in a census unity\n",
    "  - Acreditamos não ser uma variável de alta relevância para o contexto do problema\n",
    "- ### `fl_passivel_iss`: boolean, true if the company performs any activity that is taxable under ISS - Tax under services\n",
    "  - Acreditamos não ser uma variável de alta relevância para o contexto do problema\n",
    "- ### `idade_minima_socios`: same as above but wiht min metric\n",
    "  - Acreditamos não ser uma variável de alta relevância para o contexto do problema\n",
    "- ### `qt_socios`: integer value, quantity of partners/shareholders of the cnpj\n",
    "  - Além de acreditarmos não ser uma variável de alta relevância, foi rejeitada porque 75% dos valores é a constante (1)\n",
    "- ### `qt_socios_st_regular`: integer value, quantity of partners with regular situation under IRS - Receita Federal\n",
    "  - Também acreditamos não ser uma variável de alta relevância para o contexto do problema\n",
    "- ### `de_saude_rescencia`: character, indicates time of update of the most lagged input of the indicator\n",
    "  - Rejeitado porque 85% dos valores é a constante (acima de 1 ano), não é significativo para o negócio\n",
    "- ### `qt_filiais`: integer, the number of branches that the company has\n",
    "  - Cerca de 90% das amostras é zero, isso quer dizer que a maioria não tem filiais, desta forma acreditarmos não ser uma variável de alta relevância\n",
    "- ### `fl_optante_simples`: boolean, true if the company is taxed according to SIMPLES regime\n",
    "  - Mesma análise da variável anterior"
   ]
  },
  {
   "cell_type": "markdown",
   "metadata": {
    "colab_type": "text",
    "id": "ek7S369PPw9O"
   },
   "source": [
    "### Explicando variáveis escolhidas"
   ]
  },
  {
   "cell_type": "markdown",
   "metadata": {
    "colab_type": "text",
    "id": "k0VHu_a5i9lF"
   },
   "source": [
    "- ### `id`: character, identification of the company\n",
    "  - Obviamente necessitamos da identificação da empresa\n",
    "- ### `sg_uf`: character, initials of the name of the state of the company.\n",
    "  - Representa a localização da empresa\n",
    "- ### `natureza_juridica_macro`: a macro legal category for \"natureza jurídica\".\n",
    "  - Representa a natureza juridica, ou seja, o regime jurídico em que ela se enquadra\n",
    "- ### `setor`: character, economic sector of the company (Industry, Services, Agrobusiness, Etc.)\n",
    "  - Representa o setor econômico da empresa, classificando a empresa de uma maneira mais abrangente\n",
    "- ### `idade_emp_cat`: character, age of the company by ranges\n",
    "  - Representa a idade da empresa em categorias. Optamos por esta variável em intervalos por ser mais abrangente.\n",
    "- ### `fl_rm`: character, true if the company address is located in an metropolitan area\n",
    "  - Temos apenas a localização da empresa em termos de estado, assim esta informação pode agregar\n",
    "- ### `de_saude_tributaria`: character, indicator of health tax status, Green if all tax are OK, Red if none are OK\n",
    "  - Representa a saúde da empresa\n",
    "- ### `de_nivel_atividade`: character, probability of being operating, ALTA high probality, BAIXA, low probality\n",
    "  - Representa a probabilidade de estar operando\n",
    "- ### `de_faixa_faturamento_estimado_grupo`: character value, class of the sum of estimated revenue for the matrix company and branches\n",
    "  - Optamos utilizar esta variável para representar a magnitude da empresa "
   ]
  },
  {
   "cell_type": "markdown",
   "metadata": {
    "colab_type": "text",
    "id": "qACGQAeyrXl7"
   },
   "source": [
    "# Preparação dos dados"
   ]
  },
  {
   "cell_type": "code",
   "execution_count": 9,
   "metadata": {
    "colab": {
     "base_uri": "https://localhost:8080/",
     "height": 255
    },
    "colab_type": "code",
    "id": "7Jo_5SW9rm-Y",
    "outputId": "364ffad3-fe92-4f1f-bb4e-e77782cdffd4"
   },
   "outputs": [
    {
     "name": "stdout",
     "output_type": "stream",
     "text": [
      "<class 'pandas.core.frame.DataFrame'>\n",
      "RangeIndex: 462298 entries, 0 to 462297\n",
      "Data columns (total 9 columns):\n",
      "id                                     462298 non-null object\n",
      "sg_uf                                  462298 non-null object\n",
      "natureza_juridica_macro                462298 non-null object\n",
      "setor                                  460371 non-null object\n",
      "idade_emp_cat                          462298 non-null object\n",
      "fl_rm                                  462298 non-null object\n",
      "de_saude_tributaria                    447447 non-null object\n",
      "de_nivel_atividade                     451130 non-null object\n",
      "de_faixa_faturamento_estimado_grupo    434785 non-null object\n",
      "dtypes: object(9)\n",
      "memory usage: 31.7+ MB\n"
     ]
    }
   ],
   "source": [
    "df_mkt_dropped_intuition.info()"
   ]
  },
  {
   "cell_type": "markdown",
   "metadata": {
    "colab_type": "text",
    "id": "SwM_cEnLkcVv"
   },
   "source": [
    "## Preenchendo valores `NaN`"
   ]
  },
  {
   "cell_type": "code",
   "execution_count": 10,
   "metadata": {
    "colab": {
     "base_uri": "https://localhost:8080/",
     "height": 187
    },
    "colab_type": "code",
    "id": "QMAUeOpSr4I8",
    "outputId": "b10bb9af-f707-463e-c62e-35635a23595e"
   },
   "outputs": [
    {
     "data": {
      "text/plain": [
       "id                                     0.000000\n",
       "sg_uf                                  0.000000\n",
       "natureza_juridica_macro                0.000000\n",
       "setor                                  0.004168\n",
       "idade_emp_cat                          0.000000\n",
       "fl_rm                                  0.000000\n",
       "de_saude_tributaria                    0.032124\n",
       "de_nivel_atividade                     0.024158\n",
       "de_faixa_faturamento_estimado_grupo    0.059514\n",
       "dtype: float64"
      ]
     },
     "execution_count": 10,
     "metadata": {},
     "output_type": "execute_result"
    }
   ],
   "source": [
    "df_mkt_dropped_intuition.isna().sum() / df_mkt_dropped_intuition.shape[0]"
   ]
  },
  {
   "cell_type": "markdown",
   "metadata": {
    "colab_type": "text",
    "id": "YKKyQtcilKoq"
   },
   "source": [
    "### `setor`:\n",
    "  - Esta variável tem uma distribuição similar considerando `COMÉRCIO`  e `SERVIÇO`. Contudo, optamos pela mais frequênte. Além do mais, como não são muitos valores nulos não influencia muito na distribuição"
   ]
  },
  {
   "cell_type": "code",
   "execution_count": 11,
   "metadata": {
    "colab": {
     "base_uri": "https://localhost:8080/",
     "height": 119
    },
    "colab_type": "code",
    "id": "syqBf8kdlVOY",
    "outputId": "5a119a3c-c259-44cd-b7fa-379841ccda00"
   },
   "outputs": [
    {
     "data": {
      "text/plain": [
       "COMERCIO            0.458813\n",
       "SERVIÇO             0.411937\n",
       "INDUSTRIA           0.067105\n",
       "CONSTRUÇÃO CIVIL    0.055093\n",
       "AGROPECUARIA        0.007053\n",
       "Name: setor, dtype: float64"
      ]
     },
     "execution_count": 11,
     "metadata": {},
     "output_type": "execute_result"
    }
   ],
   "source": [
    "df_mkt_dropped_intuition['setor'].value_counts(normalize=True) \n"
   ]
  },
  {
   "cell_type": "code",
   "execution_count": 12,
   "metadata": {
    "colab": {},
    "colab_type": "code",
    "id": "AlBaUMKPs5OK"
   },
   "outputs": [],
   "source": [
    "df_mkt_dropped_intuition['setor'].fillna(value='COMERCIO', inplace=True)"
   ]
  },
  {
   "cell_type": "markdown",
   "metadata": {
    "colab_type": "text",
    "id": "Et5g4tmRl6Zv"
   },
   "source": [
    "### `de_saude_tributaria`:\n",
    "  - Como a variável é bem distribuída, achamos interessante utilizar a média. Contudo, como é uma variável categórica não faria sentido, então optamos pela mais frequênte."
   ]
  },
  {
   "cell_type": "code",
   "execution_count": 13,
   "metadata": {
    "colab": {
     "base_uri": "https://localhost:8080/",
     "height": 136
    },
    "colab_type": "code",
    "id": "qXoY1c6bmBcz",
    "outputId": "f51cc6e0-cad2-46e5-a9d3-66971e35d04d"
   },
   "outputs": [
    {
     "data": {
      "text/plain": [
       "VERDE       0.325022\n",
       "AZUL        0.235179\n",
       "AMARELO     0.203477\n",
       "CINZA       0.143076\n",
       "LARANJA     0.080716\n",
       "VERMELHO    0.012531\n",
       "Name: de_saude_tributaria, dtype: float64"
      ]
     },
     "execution_count": 13,
     "metadata": {},
     "output_type": "execute_result"
    }
   ],
   "source": [
    "df_mkt_dropped_intuition['de_saude_tributaria'].value_counts(normalize=True)"
   ]
  },
  {
   "cell_type": "code",
   "execution_count": 14,
   "metadata": {
    "colab": {},
    "colab_type": "code",
    "id": "ShiCWq5Ct9DP"
   },
   "outputs": [],
   "source": [
    "df_mkt_dropped_intuition['de_saude_tributaria'].fillna(value='VERDE', inplace=True)"
   ]
  },
  {
   "cell_type": "markdown",
   "metadata": {
    "colab_type": "text",
    "id": "losxi58Zmu91"
   },
   "source": [
    "### `de_nivel_atividade`:\n",
    "  - Neste caso, os valores `MEDIA` e `ALTA` tem a maior proporção para esta variável, sendo 48% e 34%. Por mais que sejam similares optamos por preencher com a moda (`MEDIA`). Como apenas 2.4% dos dados estão `NaN` não influência tanto na distribuição dos dados."
   ]
  },
  {
   "cell_type": "code",
   "execution_count": 15,
   "metadata": {
    "colab": {
     "base_uri": "https://localhost:8080/",
     "height": 102
    },
    "colab_type": "code",
    "id": "Lf1C8T-fnkEM",
    "outputId": "401b3108-4c56-401f-9736-858067bd9d2c"
   },
   "outputs": [
    {
     "data": {
      "text/plain": [
       "MEDIA          0.483118\n",
       "ALTA           0.337475\n",
       "BAIXA          0.168643\n",
       "MUITO BAIXA    0.010764\n",
       "Name: de_nivel_atividade, dtype: float64"
      ]
     },
     "execution_count": 15,
     "metadata": {},
     "output_type": "execute_result"
    }
   ],
   "source": [
    "df_mkt_dropped_intuition['de_nivel_atividade'].value_counts(normalize=True)"
   ]
  },
  {
   "cell_type": "code",
   "execution_count": 16,
   "metadata": {
    "colab": {},
    "colab_type": "code",
    "id": "cCAGF8crujzg"
   },
   "outputs": [],
   "source": [
    "df_mkt_dropped_intuition['de_nivel_atividade'].fillna(value='MEDIA', inplace=True)"
   ]
  },
  {
   "cell_type": "markdown",
   "metadata": {
    "colab_type": "text",
    "id": "DOnWhK9vo8Qv"
   },
   "source": [
    "### `de_faixa_faturamento_estimado_grupo`:\n",
    "  - Para esta variável optamos também preencher com a moda"
   ]
  },
  {
   "cell_type": "code",
   "execution_count": 17,
   "metadata": {
    "colab": {
     "base_uri": "https://localhost:8080/",
     "height": 221
    },
    "colab_type": "code",
    "id": "NtxNEOx2pKnq",
    "outputId": "dbab5175-3dbb-486c-d3eb-ff0a5bde9568"
   },
   "outputs": [
    {
     "data": {
      "text/plain": [
       "DE R$ 81.000,01 A R$ 360.000,00             0.580981\n",
       "ATE R$ 81.000,00                            0.225670\n",
       "DE R$ 360.000,01 A R$ 1.500.000,00          0.123031\n",
       "DE R$ 1.500.000,01 A R$ 4.800.000,00        0.030969\n",
       "DE R$ 4.800.000,01 A R$ 10.000.000,00       0.009326\n",
       "ACIMA DE 1 BILHAO DE REAIS                  0.008310\n",
       "DE R$ 10.000.000,01 A R$ 30.000.000,00      0.008275\n",
       "DE R$ 30.000.000,01 A R$ 100.000.000,00     0.007040\n",
       "DE R$ 100.000.000,01 A R$ 300.000.000,00    0.003641\n",
       "DE R$ 500.000.000,01 A 1 BILHAO DE REAIS    0.001555\n",
       "DE R$ 300.000.000,01 A R$ 500.000.000,00    0.001201\n",
       "Name: de_faixa_faturamento_estimado_grupo, dtype: float64"
      ]
     },
     "execution_count": 17,
     "metadata": {},
     "output_type": "execute_result"
    }
   ],
   "source": [
    "df_mkt_dropped_intuition['de_faixa_faturamento_estimado_grupo'].value_counts() / df_mkt_dropped_intuition['de_faixa_faturamento_estimado_grupo'].count()"
   ]
  },
  {
   "cell_type": "code",
   "execution_count": 18,
   "metadata": {
    "colab": {},
    "colab_type": "code",
    "id": "vnMmMR_Vy010"
   },
   "outputs": [],
   "source": [
    "df_mkt_dropped_intuition['de_faixa_faturamento_estimado_grupo'].fillna(value='DE R$ 81.000,01 A R$ 360.000,00', inplace=True)"
   ]
  },
  {
   "cell_type": "markdown",
   "metadata": {
    "colab_type": "text",
    "id": "4-KyU1E4_I4D"
   },
   "source": [
    "## Tranformando coluna `id` no index"
   ]
  },
  {
   "cell_type": "code",
   "execution_count": 19,
   "metadata": {
    "colab": {},
    "colab_type": "code",
    "id": "bPjWn40G_Nci"
   },
   "outputs": [],
   "source": [
    "df_mkt_index = df_mkt_dropped_intuition.set_index('id')"
   ]
  },
  {
   "cell_type": "markdown",
   "metadata": {
    "colab_type": "text",
    "id": "cNsaFv3T2i1k"
   },
   "source": [
    "## Codificando variáveis categóricas com _LabelEncoding_ e _OneHotEncoding_ \n"
   ]
  },
  {
   "cell_type": "code",
   "execution_count": 20,
   "metadata": {
    "colab": {
     "base_uri": "https://localhost:8080/",
     "height": 145
    },
    "colab_type": "code",
    "id": "3Y3-TcCX-v2B",
    "outputId": "825e8e38-453c-4359-dd89-f0911641db78"
   },
   "outputs": [
    {
     "data": {
      "text/html": [
       "<style  type=\"text/css\" >\n",
       "</style><table id=\"T_92bea912_fbf2_11e9_a9eb_d89c67fe7deb\" ><thead>    <tr>        <th class=\"col_heading level0 col0\" >sg_uf</th>        <th class=\"col_heading level0 col1\" >natureza_juridica_macro</th>        <th class=\"col_heading level0 col2\" >setor</th>        <th class=\"col_heading level0 col3\" >idade_emp_cat</th>        <th class=\"col_heading level0 col4\" >fl_rm</th>        <th class=\"col_heading level0 col5\" >de_saude_tributaria</th>        <th class=\"col_heading level0 col6\" >de_nivel_atividade</th>        <th class=\"col_heading level0 col7\" >de_faixa_faturamento_estimado_grupo</th>    </tr></thead><tbody>\n",
       "                <tr>\n",
       "                                <td id=\"T_92bea912_fbf2_11e9_a9eb_d89c67fe7debrow0_col0\" class=\"data row0 col0\" >RN</td>\n",
       "                        <td id=\"T_92bea912_fbf2_11e9_a9eb_d89c67fe7debrow0_col1\" class=\"data row0 col1\" >ENTIDADES EMPRESARIAIS</td>\n",
       "                        <td id=\"T_92bea912_fbf2_11e9_a9eb_d89c67fe7debrow0_col2\" class=\"data row0 col2\" >CONSTRUÇÃO CIVIL</td>\n",
       "                        <td id=\"T_92bea912_fbf2_11e9_a9eb_d89c67fe7debrow0_col3\" class=\"data row0 col3\" >10 a 15</td>\n",
       "                        <td id=\"T_92bea912_fbf2_11e9_a9eb_d89c67fe7debrow0_col4\" class=\"data row0 col4\" >SIM</td>\n",
       "                        <td id=\"T_92bea912_fbf2_11e9_a9eb_d89c67fe7debrow0_col5\" class=\"data row0 col5\" >VERDE</td>\n",
       "                        <td id=\"T_92bea912_fbf2_11e9_a9eb_d89c67fe7debrow0_col6\" class=\"data row0 col6\" >ALTA</td>\n",
       "                        <td id=\"T_92bea912_fbf2_11e9_a9eb_d89c67fe7debrow0_col7\" class=\"data row0 col7\" >DE R$ 1.500.000,01 A R$ 4.800.000,00</td>\n",
       "            </tr>\n",
       "            <tr>\n",
       "                                <td id=\"T_92bea912_fbf2_11e9_a9eb_d89c67fe7debrow1_col0\" class=\"data row1 col0\" >PI</td>\n",
       "                        <td id=\"T_92bea912_fbf2_11e9_a9eb_d89c67fe7debrow1_col1\" class=\"data row1 col1\" >OUTROS</td>\n",
       "                        <td id=\"T_92bea912_fbf2_11e9_a9eb_d89c67fe7debrow1_col2\" class=\"data row1 col2\" >SERVIÇO</td>\n",
       "                        <td id=\"T_92bea912_fbf2_11e9_a9eb_d89c67fe7debrow1_col3\" class=\"data row1 col3\" >1 a 5</td>\n",
       "                        <td id=\"T_92bea912_fbf2_11e9_a9eb_d89c67fe7debrow1_col4\" class=\"data row1 col4\" >SIM</td>\n",
       "                        <td id=\"T_92bea912_fbf2_11e9_a9eb_d89c67fe7debrow1_col5\" class=\"data row1 col5\" >CINZA</td>\n",
       "                        <td id=\"T_92bea912_fbf2_11e9_a9eb_d89c67fe7debrow1_col6\" class=\"data row1 col6\" >BAIXA</td>\n",
       "                        <td id=\"T_92bea912_fbf2_11e9_a9eb_d89c67fe7debrow1_col7\" class=\"data row1 col7\" >DE R$ 81.000,01 A R$ 360.000,00</td>\n",
       "            </tr>\n",
       "            <tr>\n",
       "                                <td id=\"T_92bea912_fbf2_11e9_a9eb_d89c67fe7debrow2_col0\" class=\"data row2 col0\" >AM</td>\n",
       "                        <td id=\"T_92bea912_fbf2_11e9_a9eb_d89c67fe7debrow2_col1\" class=\"data row2 col1\" >OUTROS</td>\n",
       "                        <td id=\"T_92bea912_fbf2_11e9_a9eb_d89c67fe7debrow2_col2\" class=\"data row2 col2\" >SERVIÇO</td>\n",
       "                        <td id=\"T_92bea912_fbf2_11e9_a9eb_d89c67fe7debrow2_col3\" class=\"data row2 col3\" >5 a 10</td>\n",
       "                        <td id=\"T_92bea912_fbf2_11e9_a9eb_d89c67fe7debrow2_col4\" class=\"data row2 col4\" >SIM</td>\n",
       "                        <td id=\"T_92bea912_fbf2_11e9_a9eb_d89c67fe7debrow2_col5\" class=\"data row2 col5\" >AMARELO</td>\n",
       "                        <td id=\"T_92bea912_fbf2_11e9_a9eb_d89c67fe7debrow2_col6\" class=\"data row2 col6\" >MEDIA</td>\n",
       "                        <td id=\"T_92bea912_fbf2_11e9_a9eb_d89c67fe7debrow2_col7\" class=\"data row2 col7\" >ATE R$ 81.000,00</td>\n",
       "            </tr>\n",
       "            <tr>\n",
       "                                <td id=\"T_92bea912_fbf2_11e9_a9eb_d89c67fe7debrow3_col0\" class=\"data row3 col0\" >AM</td>\n",
       "                        <td id=\"T_92bea912_fbf2_11e9_a9eb_d89c67fe7debrow3_col1\" class=\"data row3 col1\" >OUTROS</td>\n",
       "                        <td id=\"T_92bea912_fbf2_11e9_a9eb_d89c67fe7debrow3_col2\" class=\"data row3 col2\" >SERVIÇO</td>\n",
       "                        <td id=\"T_92bea912_fbf2_11e9_a9eb_d89c67fe7debrow3_col3\" class=\"data row3 col3\" >5 a 10</td>\n",
       "                        <td id=\"T_92bea912_fbf2_11e9_a9eb_d89c67fe7debrow3_col4\" class=\"data row3 col4\" >SIM</td>\n",
       "                        <td id=\"T_92bea912_fbf2_11e9_a9eb_d89c67fe7debrow3_col5\" class=\"data row3 col5\" >AMARELO</td>\n",
       "                        <td id=\"T_92bea912_fbf2_11e9_a9eb_d89c67fe7debrow3_col6\" class=\"data row3 col6\" >MEDIA</td>\n",
       "                        <td id=\"T_92bea912_fbf2_11e9_a9eb_d89c67fe7debrow3_col7\" class=\"data row3 col7\" >DE R$ 81.000,01 A R$ 360.000,00</td>\n",
       "            </tr>\n",
       "            <tr>\n",
       "                                <td id=\"T_92bea912_fbf2_11e9_a9eb_d89c67fe7debrow4_col0\" class=\"data row4 col0\" >RN</td>\n",
       "                        <td id=\"T_92bea912_fbf2_11e9_a9eb_d89c67fe7debrow4_col1\" class=\"data row4 col1\" >OUTROS</td>\n",
       "                        <td id=\"T_92bea912_fbf2_11e9_a9eb_d89c67fe7debrow4_col2\" class=\"data row4 col2\" >SERVIÇO</td>\n",
       "                        <td id=\"T_92bea912_fbf2_11e9_a9eb_d89c67fe7debrow4_col3\" class=\"data row4 col3\" >1 a 5</td>\n",
       "                        <td id=\"T_92bea912_fbf2_11e9_a9eb_d89c67fe7debrow4_col4\" class=\"data row4 col4\" >SIM</td>\n",
       "                        <td id=\"T_92bea912_fbf2_11e9_a9eb_d89c67fe7debrow4_col5\" class=\"data row4 col5\" >VERDE</td>\n",
       "                        <td id=\"T_92bea912_fbf2_11e9_a9eb_d89c67fe7debrow4_col6\" class=\"data row4 col6\" >ALTA</td>\n",
       "                        <td id=\"T_92bea912_fbf2_11e9_a9eb_d89c67fe7debrow4_col7\" class=\"data row4 col7\" >DE R$ 81.000,01 A R$ 360.000,00</td>\n",
       "            </tr>\n",
       "    </tbody></table>"
      ],
      "text/plain": [
       "<pandas.io.formats.style.Styler at 0x7f180ae847f0>"
      ]
     },
     "execution_count": 20,
     "metadata": {},
     "output_type": "execute_result"
    }
   ],
   "source": [
    "df_mkt_index.head().style.hide_index()"
   ]
  },
  {
   "cell_type": "markdown",
   "metadata": {
    "colab_type": "text",
    "id": "7L3rcLSa-fmp"
   },
   "source": [
    "### _LabelEncoding_\n",
    "  - Optamos por utilizar _LabelEnconding_ nas variáveis categóricas que represantam uma escala"
   ]
  },
  {
   "cell_type": "markdown",
   "metadata": {
    "colab_type": "text",
    "id": "Hfzvp_OBEBdM"
   },
   "source": [
    "#### `idade_emp_cat`: `'<= 1', '1 a 5', '5 a 10', '10 a 15', '15 a 20', '> 20'`"
   ]
  },
  {
   "cell_type": "code",
   "execution_count": 21,
   "metadata": {
    "colab": {},
    "colab_type": "code",
    "id": "5ndT6HZt_BDI"
   },
   "outputs": [],
   "source": [
    "df_mkt_index.loc[df_mkt_index['idade_emp_cat'] == '<= 1', 'idade_emp_cat'] = 0\n",
    "df_mkt_index.loc[df_mkt_index['idade_emp_cat'] == '1 a 5', 'idade_emp_cat'] = 1\n",
    "df_mkt_index.loc[df_mkt_index['idade_emp_cat'] == '5 a 10', 'idade_emp_cat'] = 2\n",
    "df_mkt_index.loc[df_mkt_index['idade_emp_cat'] == '10 a 15', 'idade_emp_cat'] = 3\n",
    "df_mkt_index.loc[df_mkt_index['idade_emp_cat'] == '15 a 20', 'idade_emp_cat'] = 4\n",
    "df_mkt_index.loc[df_mkt_index['idade_emp_cat'] == '> 20', 'idade_emp_cat'] = 5"
   ]
  },
  {
   "cell_type": "markdown",
   "metadata": {
    "colab_type": "text",
    "id": "Xsp5JjLhE7vN"
   },
   "source": [
    "#### `de_nivel_atividade`: `'MUITO BAIXA', 'BAIXA', 'MEDIA', 'ALTA'`"
   ]
  },
  {
   "cell_type": "code",
   "execution_count": 22,
   "metadata": {
    "colab": {},
    "colab_type": "code",
    "id": "zGor1MMKEoaB"
   },
   "outputs": [],
   "source": [
    "df_mkt_index.loc[df_mkt_index['de_nivel_atividade'] == 'MUITO BAIXA', 'de_nivel_atividade'] = 0\n",
    "df_mkt_index.loc[df_mkt_index['de_nivel_atividade'] == 'BAIXA', 'de_nivel_atividade'] = 1\n",
    "df_mkt_index.loc[df_mkt_index['de_nivel_atividade'] == 'MEDIA', 'de_nivel_atividade'] = 2\n",
    "df_mkt_index.loc[df_mkt_index['de_nivel_atividade'] == 'ALTA', 'de_nivel_atividade'] = 3"
   ]
  },
  {
   "cell_type": "markdown",
   "metadata": {
    "colab_type": "text",
    "id": "lnu7kzHaE8ZT"
   },
   "source": [
    "#### `de_faixa_faturamento_estimado_grupo`: \n",
    "  - `'ATE R$ 81.000,00'`\n",
    "  - `'DE R$ 81.000,01 A R$ 360.000,00'`\n",
    "  - `'DE R$ 360.000,01 A R$ 1.500.000,00'`\n",
    "  - `'DE R$ 1.500.000,01 A R$ 4.800.000,00'` \n",
    "  - `'DE R$ 4.800.000,01 A R$ 10.000.000,00'`\n",
    "  - `'DE R$ 10.000.000,01 A R$ 30.000.000,00'`\n",
    "  - `'DE R$ 30.000.000,01 A R$ 100.000.000,00'`\n",
    "  - `'DE R$ 100.000.000,01 A R$ 300.000.000,00'`\n",
    "  - `'DE R$ 300.000.000,01 A R$ 500.000.000,00'`\n",
    "  - `'DE R$ 500.000.000,01 A 1 BILHAO DE REAIS'`\n",
    "  - `'ACIMA DE 1 BILHAO DE REAIS'`"
   ]
  },
  {
   "cell_type": "code",
   "execution_count": 23,
   "metadata": {
    "colab": {},
    "colab_type": "code",
    "id": "j3ClaTHjEnZF"
   },
   "outputs": [],
   "source": [
    "df_mkt_index.loc[df_mkt_index['de_faixa_faturamento_estimado_grupo'] == 'ATE R$ 81.000,00', 'de_faixa_faturamento_estimado_grupo'] = 0\n",
    "df_mkt_index.loc[df_mkt_index['de_faixa_faturamento_estimado_grupo'] == 'DE R$ 81.000,01 A R$ 360.000,00', 'de_faixa_faturamento_estimado_grupo'] = 1\n",
    "df_mkt_index.loc[df_mkt_index['de_faixa_faturamento_estimado_grupo'] == 'DE R$ 360.000,01 A R$ 1.500.000,00', 'de_faixa_faturamento_estimado_grupo'] = 2\n",
    "df_mkt_index.loc[df_mkt_index['de_faixa_faturamento_estimado_grupo'] == 'DE R$ 1.500.000,01 A R$ 4.800.000,00', 'de_faixa_faturamento_estimado_grupo'] = 3\n",
    "df_mkt_index.loc[df_mkt_index['de_faixa_faturamento_estimado_grupo'] == 'DE R$ 4.800.000,01 A R$ 10.000.000,00', 'de_faixa_faturamento_estimado_grupo'] = 4\n",
    "df_mkt_index.loc[df_mkt_index['de_faixa_faturamento_estimado_grupo'] == 'DE R$ 10.000.000,01 A R$ 30.000.000,00', 'de_faixa_faturamento_estimado_grupo'] = 5\n",
    "df_mkt_index.loc[df_mkt_index['de_faixa_faturamento_estimado_grupo'] == 'DE R$ 30.000.000,01 A R$ 100.000.000,00', 'de_faixa_faturamento_estimado_grupo'] = 6\n",
    "df_mkt_index.loc[df_mkt_index['de_faixa_faturamento_estimado_grupo'] == 'DE R$ 100.000.000,01 A R$ 300.000.000,00', 'de_faixa_faturamento_estimado_grupo'] = 7\n",
    "df_mkt_index.loc[df_mkt_index['de_faixa_faturamento_estimado_grupo'] == 'DE R$ 300.000.000,01 A R$ 500.000.000,00', 'de_faixa_faturamento_estimado_grupo'] = 8\n",
    "df_mkt_index.loc[df_mkt_index['de_faixa_faturamento_estimado_grupo'] == 'DE R$ 500.000.000,01 A 1 BILHAO DE REAIS', 'de_faixa_faturamento_estimado_grupo'] = 9\n",
    "df_mkt_index.loc[df_mkt_index['de_faixa_faturamento_estimado_grupo'] == 'ACIMA DE 1 BILHAO DE REAIS', 'de_faixa_faturamento_estimado_grupo'] = 10"
   ]
  },
  {
   "cell_type": "code",
   "execution_count": 24,
   "metadata": {},
   "outputs": [
    {
     "data": {
      "text/html": [
       "<div>\n",
       "<style scoped>\n",
       "    .dataframe tbody tr th:only-of-type {\n",
       "        vertical-align: middle;\n",
       "    }\n",
       "\n",
       "    .dataframe tbody tr th {\n",
       "        vertical-align: top;\n",
       "    }\n",
       "\n",
       "    .dataframe thead th {\n",
       "        text-align: right;\n",
       "    }\n",
       "</style>\n",
       "<table border=\"1\" class=\"dataframe\">\n",
       "  <thead>\n",
       "    <tr style=\"text-align: right;\">\n",
       "      <th></th>\n",
       "      <th>sg_uf</th>\n",
       "      <th>natureza_juridica_macro</th>\n",
       "      <th>setor</th>\n",
       "      <th>idade_emp_cat</th>\n",
       "      <th>fl_rm</th>\n",
       "      <th>de_saude_tributaria</th>\n",
       "      <th>de_nivel_atividade</th>\n",
       "      <th>de_faixa_faturamento_estimado_grupo</th>\n",
       "    </tr>\n",
       "    <tr>\n",
       "      <th>id</th>\n",
       "      <th></th>\n",
       "      <th></th>\n",
       "      <th></th>\n",
       "      <th></th>\n",
       "      <th></th>\n",
       "      <th></th>\n",
       "      <th></th>\n",
       "      <th></th>\n",
       "    </tr>\n",
       "  </thead>\n",
       "  <tbody>\n",
       "    <tr>\n",
       "      <th>a6984c3ae395090e3bee8ad63c3758b110de096d5d819583a784a113726db849</th>\n",
       "      <td>RN</td>\n",
       "      <td>ENTIDADES EMPRESARIAIS</td>\n",
       "      <td>CONSTRUÇÃO CIVIL</td>\n",
       "      <td>3</td>\n",
       "      <td>SIM</td>\n",
       "      <td>VERDE</td>\n",
       "      <td>3</td>\n",
       "      <td>3</td>\n",
       "    </tr>\n",
       "    <tr>\n",
       "      <th>6178f41ade1365e44bc2c46654c2c8c0eaae27dcb476c47fdef50b33f4f56f05</th>\n",
       "      <td>PI</td>\n",
       "      <td>OUTROS</td>\n",
       "      <td>SERVIÇO</td>\n",
       "      <td>1</td>\n",
       "      <td>SIM</td>\n",
       "      <td>CINZA</td>\n",
       "      <td>1</td>\n",
       "      <td>1</td>\n",
       "    </tr>\n",
       "    <tr>\n",
       "      <th>4a7e5069a397f12fdd7fd57111d6dc5d3ba558958efc02edc5147bc2a2535b08</th>\n",
       "      <td>AM</td>\n",
       "      <td>OUTROS</td>\n",
       "      <td>SERVIÇO</td>\n",
       "      <td>2</td>\n",
       "      <td>SIM</td>\n",
       "      <td>AMARELO</td>\n",
       "      <td>2</td>\n",
       "      <td>0</td>\n",
       "    </tr>\n",
       "    <tr>\n",
       "      <th>3348900fe63216a439d2e5238c79ddd46ede454df7b9d8c24ac33eb21d4b21ef</th>\n",
       "      <td>AM</td>\n",
       "      <td>OUTROS</td>\n",
       "      <td>SERVIÇO</td>\n",
       "      <td>2</td>\n",
       "      <td>SIM</td>\n",
       "      <td>AMARELO</td>\n",
       "      <td>2</td>\n",
       "      <td>1</td>\n",
       "    </tr>\n",
       "    <tr>\n",
       "      <th>1f9bcabc9d3173c1fe769899e4fac14b053037b953a1e4b102c769f7611ab29f</th>\n",
       "      <td>RN</td>\n",
       "      <td>OUTROS</td>\n",
       "      <td>SERVIÇO</td>\n",
       "      <td>1</td>\n",
       "      <td>SIM</td>\n",
       "      <td>VERDE</td>\n",
       "      <td>3</td>\n",
       "      <td>1</td>\n",
       "    </tr>\n",
       "  </tbody>\n",
       "</table>\n",
       "</div>"
      ],
      "text/plain": [
       "                                                   sg_uf  \\\n",
       "id                                                         \n",
       "a6984c3ae395090e3bee8ad63c3758b110de096d5d81958...    RN   \n",
       "6178f41ade1365e44bc2c46654c2c8c0eaae27dcb476c47...    PI   \n",
       "4a7e5069a397f12fdd7fd57111d6dc5d3ba558958efc02e...    AM   \n",
       "3348900fe63216a439d2e5238c79ddd46ede454df7b9d8c...    AM   \n",
       "1f9bcabc9d3173c1fe769899e4fac14b053037b953a1e4b...    RN   \n",
       "\n",
       "                                                   natureza_juridica_macro  \\\n",
       "id                                                                           \n",
       "a6984c3ae395090e3bee8ad63c3758b110de096d5d81958...  ENTIDADES EMPRESARIAIS   \n",
       "6178f41ade1365e44bc2c46654c2c8c0eaae27dcb476c47...                  OUTROS   \n",
       "4a7e5069a397f12fdd7fd57111d6dc5d3ba558958efc02e...                  OUTROS   \n",
       "3348900fe63216a439d2e5238c79ddd46ede454df7b9d8c...                  OUTROS   \n",
       "1f9bcabc9d3173c1fe769899e4fac14b053037b953a1e4b...                  OUTROS   \n",
       "\n",
       "                                                               setor  \\\n",
       "id                                                                     \n",
       "a6984c3ae395090e3bee8ad63c3758b110de096d5d81958...  CONSTRUÇÃO CIVIL   \n",
       "6178f41ade1365e44bc2c46654c2c8c0eaae27dcb476c47...           SERVIÇO   \n",
       "4a7e5069a397f12fdd7fd57111d6dc5d3ba558958efc02e...           SERVIÇO   \n",
       "3348900fe63216a439d2e5238c79ddd46ede454df7b9d8c...           SERVIÇO   \n",
       "1f9bcabc9d3173c1fe769899e4fac14b053037b953a1e4b...           SERVIÇO   \n",
       "\n",
       "                                                   idade_emp_cat fl_rm  \\\n",
       "id                                                                       \n",
       "a6984c3ae395090e3bee8ad63c3758b110de096d5d81958...             3   SIM   \n",
       "6178f41ade1365e44bc2c46654c2c8c0eaae27dcb476c47...             1   SIM   \n",
       "4a7e5069a397f12fdd7fd57111d6dc5d3ba558958efc02e...             2   SIM   \n",
       "3348900fe63216a439d2e5238c79ddd46ede454df7b9d8c...             2   SIM   \n",
       "1f9bcabc9d3173c1fe769899e4fac14b053037b953a1e4b...             1   SIM   \n",
       "\n",
       "                                                   de_saude_tributaria  \\\n",
       "id                                                                       \n",
       "a6984c3ae395090e3bee8ad63c3758b110de096d5d81958...               VERDE   \n",
       "6178f41ade1365e44bc2c46654c2c8c0eaae27dcb476c47...               CINZA   \n",
       "4a7e5069a397f12fdd7fd57111d6dc5d3ba558958efc02e...             AMARELO   \n",
       "3348900fe63216a439d2e5238c79ddd46ede454df7b9d8c...             AMARELO   \n",
       "1f9bcabc9d3173c1fe769899e4fac14b053037b953a1e4b...               VERDE   \n",
       "\n",
       "                                                   de_nivel_atividade  \\\n",
       "id                                                                      \n",
       "a6984c3ae395090e3bee8ad63c3758b110de096d5d81958...                  3   \n",
       "6178f41ade1365e44bc2c46654c2c8c0eaae27dcb476c47...                  1   \n",
       "4a7e5069a397f12fdd7fd57111d6dc5d3ba558958efc02e...                  2   \n",
       "3348900fe63216a439d2e5238c79ddd46ede454df7b9d8c...                  2   \n",
       "1f9bcabc9d3173c1fe769899e4fac14b053037b953a1e4b...                  3   \n",
       "\n",
       "                                                   de_faixa_faturamento_estimado_grupo  \n",
       "id                                                                                      \n",
       "a6984c3ae395090e3bee8ad63c3758b110de096d5d81958...                                   3  \n",
       "6178f41ade1365e44bc2c46654c2c8c0eaae27dcb476c47...                                   1  \n",
       "4a7e5069a397f12fdd7fd57111d6dc5d3ba558958efc02e...                                   0  \n",
       "3348900fe63216a439d2e5238c79ddd46ede454df7b9d8c...                                   1  \n",
       "1f9bcabc9d3173c1fe769899e4fac14b053037b953a1e4b...                                   1  "
      ]
     },
     "execution_count": 24,
     "metadata": {},
     "output_type": "execute_result"
    }
   ],
   "source": [
    "df_mkt_index.head()"
   ]
  },
  {
   "cell_type": "markdown",
   "metadata": {
    "colab_type": "text",
    "id": "DTRwXJ1T-i4a"
   },
   "source": [
    "### _OneHotEncoding_\n",
    "  - Aplicamos _OneHotEncoding_ nas demais variáveis"
   ]
  },
  {
   "cell_type": "code",
   "execution_count": 25,
   "metadata": {
    "colab": {},
    "colab_type": "code",
    "id": "kPdqBKy72uMS"
   },
   "outputs": [],
   "source": [
    "columns_obj = [\n",
    "    'sg_uf', 'natureza_juridica_macro', 'setor', 'fl_rm', 'de_saude_tributaria'                        \n",
    "]\n",
    "\n",
    "df_mkt_encoded = pd.get_dummies(df_mkt_index, columns=columns_obj)"
   ]
  },
  {
   "cell_type": "code",
   "execution_count": 26,
   "metadata": {
    "colab": {
     "base_uri": "https://localhost:8080/",
     "height": 182
    },
    "colab_type": "code",
    "id": "7bZOLrypIy4d",
    "outputId": "8601919a-fbe1-4fc5-f197-6bd41cf07ad7"
   },
   "outputs": [
    {
     "data": {
      "text/html": [
       "<style  type=\"text/css\" >\n",
       "</style><table id=\"T_97b430d6_fbf2_11e9_a9eb_d89c67fe7deb\" ><thead>    <tr>        <th class=\"col_heading level0 col0\" >idade_emp_cat</th>        <th class=\"col_heading level0 col1\" >de_nivel_atividade</th>        <th class=\"col_heading level0 col2\" >de_faixa_faturamento_estimado_grupo</th>        <th class=\"col_heading level0 col3\" >sg_uf_AC</th>        <th class=\"col_heading level0 col4\" >sg_uf_AM</th>        <th class=\"col_heading level0 col5\" >sg_uf_MA</th>        <th class=\"col_heading level0 col6\" >sg_uf_PI</th>        <th class=\"col_heading level0 col7\" >sg_uf_RN</th>        <th class=\"col_heading level0 col8\" >sg_uf_RO</th>        <th class=\"col_heading level0 col9\" >natureza_juridica_macro_ADMINISTRACAO PUBLICA</th>        <th class=\"col_heading level0 col10\" >natureza_juridica_macro_CARGO POLITICO</th>        <th class=\"col_heading level0 col11\" >natureza_juridica_macro_ENTIDADES EMPRESARIAIS</th>        <th class=\"col_heading level0 col12\" >natureza_juridica_macro_ENTIDADES SEM FINS LUCRATIVOS</th>        <th class=\"col_heading level0 col13\" >natureza_juridica_macro_INSTITUICOES EXTRATERRITORIAIS</th>        <th class=\"col_heading level0 col14\" >natureza_juridica_macro_OUTROS</th>        <th class=\"col_heading level0 col15\" >natureza_juridica_macro_PESSOAS FISICAS</th>        <th class=\"col_heading level0 col16\" >setor_AGROPECUARIA</th>        <th class=\"col_heading level0 col17\" >setor_COMERCIO</th>        <th class=\"col_heading level0 col18\" >setor_CONSTRUÇÃO CIVIL</th>        <th class=\"col_heading level0 col19\" >setor_INDUSTRIA</th>        <th class=\"col_heading level0 col20\" >setor_SERVIÇO</th>        <th class=\"col_heading level0 col21\" >fl_rm_NAO</th>        <th class=\"col_heading level0 col22\" >fl_rm_SIM</th>        <th class=\"col_heading level0 col23\" >de_saude_tributaria_AMARELO</th>        <th class=\"col_heading level0 col24\" >de_saude_tributaria_AZUL</th>        <th class=\"col_heading level0 col25\" >de_saude_tributaria_CINZA</th>        <th class=\"col_heading level0 col26\" >de_saude_tributaria_LARANJA</th>        <th class=\"col_heading level0 col27\" >de_saude_tributaria_VERDE</th>        <th class=\"col_heading level0 col28\" >de_saude_tributaria_VERMELHO</th>    </tr></thead><tbody>\n",
       "                <tr>\n",
       "                                <td id=\"T_97b430d6_fbf2_11e9_a9eb_d89c67fe7debrow0_col0\" class=\"data row0 col0\" >3</td>\n",
       "                        <td id=\"T_97b430d6_fbf2_11e9_a9eb_d89c67fe7debrow0_col1\" class=\"data row0 col1\" >3</td>\n",
       "                        <td id=\"T_97b430d6_fbf2_11e9_a9eb_d89c67fe7debrow0_col2\" class=\"data row0 col2\" >3</td>\n",
       "                        <td id=\"T_97b430d6_fbf2_11e9_a9eb_d89c67fe7debrow0_col3\" class=\"data row0 col3\" >0</td>\n",
       "                        <td id=\"T_97b430d6_fbf2_11e9_a9eb_d89c67fe7debrow0_col4\" class=\"data row0 col4\" >0</td>\n",
       "                        <td id=\"T_97b430d6_fbf2_11e9_a9eb_d89c67fe7debrow0_col5\" class=\"data row0 col5\" >0</td>\n",
       "                        <td id=\"T_97b430d6_fbf2_11e9_a9eb_d89c67fe7debrow0_col6\" class=\"data row0 col6\" >0</td>\n",
       "                        <td id=\"T_97b430d6_fbf2_11e9_a9eb_d89c67fe7debrow0_col7\" class=\"data row0 col7\" >1</td>\n",
       "                        <td id=\"T_97b430d6_fbf2_11e9_a9eb_d89c67fe7debrow0_col8\" class=\"data row0 col8\" >0</td>\n",
       "                        <td id=\"T_97b430d6_fbf2_11e9_a9eb_d89c67fe7debrow0_col9\" class=\"data row0 col9\" >0</td>\n",
       "                        <td id=\"T_97b430d6_fbf2_11e9_a9eb_d89c67fe7debrow0_col10\" class=\"data row0 col10\" >0</td>\n",
       "                        <td id=\"T_97b430d6_fbf2_11e9_a9eb_d89c67fe7debrow0_col11\" class=\"data row0 col11\" >1</td>\n",
       "                        <td id=\"T_97b430d6_fbf2_11e9_a9eb_d89c67fe7debrow0_col12\" class=\"data row0 col12\" >0</td>\n",
       "                        <td id=\"T_97b430d6_fbf2_11e9_a9eb_d89c67fe7debrow0_col13\" class=\"data row0 col13\" >0</td>\n",
       "                        <td id=\"T_97b430d6_fbf2_11e9_a9eb_d89c67fe7debrow0_col14\" class=\"data row0 col14\" >0</td>\n",
       "                        <td id=\"T_97b430d6_fbf2_11e9_a9eb_d89c67fe7debrow0_col15\" class=\"data row0 col15\" >0</td>\n",
       "                        <td id=\"T_97b430d6_fbf2_11e9_a9eb_d89c67fe7debrow0_col16\" class=\"data row0 col16\" >0</td>\n",
       "                        <td id=\"T_97b430d6_fbf2_11e9_a9eb_d89c67fe7debrow0_col17\" class=\"data row0 col17\" >0</td>\n",
       "                        <td id=\"T_97b430d6_fbf2_11e9_a9eb_d89c67fe7debrow0_col18\" class=\"data row0 col18\" >1</td>\n",
       "                        <td id=\"T_97b430d6_fbf2_11e9_a9eb_d89c67fe7debrow0_col19\" class=\"data row0 col19\" >0</td>\n",
       "                        <td id=\"T_97b430d6_fbf2_11e9_a9eb_d89c67fe7debrow0_col20\" class=\"data row0 col20\" >0</td>\n",
       "                        <td id=\"T_97b430d6_fbf2_11e9_a9eb_d89c67fe7debrow0_col21\" class=\"data row0 col21\" >0</td>\n",
       "                        <td id=\"T_97b430d6_fbf2_11e9_a9eb_d89c67fe7debrow0_col22\" class=\"data row0 col22\" >1</td>\n",
       "                        <td id=\"T_97b430d6_fbf2_11e9_a9eb_d89c67fe7debrow0_col23\" class=\"data row0 col23\" >0</td>\n",
       "                        <td id=\"T_97b430d6_fbf2_11e9_a9eb_d89c67fe7debrow0_col24\" class=\"data row0 col24\" >0</td>\n",
       "                        <td id=\"T_97b430d6_fbf2_11e9_a9eb_d89c67fe7debrow0_col25\" class=\"data row0 col25\" >0</td>\n",
       "                        <td id=\"T_97b430d6_fbf2_11e9_a9eb_d89c67fe7debrow0_col26\" class=\"data row0 col26\" >0</td>\n",
       "                        <td id=\"T_97b430d6_fbf2_11e9_a9eb_d89c67fe7debrow0_col27\" class=\"data row0 col27\" >1</td>\n",
       "                        <td id=\"T_97b430d6_fbf2_11e9_a9eb_d89c67fe7debrow0_col28\" class=\"data row0 col28\" >0</td>\n",
       "            </tr>\n",
       "            <tr>\n",
       "                                <td id=\"T_97b430d6_fbf2_11e9_a9eb_d89c67fe7debrow1_col0\" class=\"data row1 col0\" >1</td>\n",
       "                        <td id=\"T_97b430d6_fbf2_11e9_a9eb_d89c67fe7debrow1_col1\" class=\"data row1 col1\" >1</td>\n",
       "                        <td id=\"T_97b430d6_fbf2_11e9_a9eb_d89c67fe7debrow1_col2\" class=\"data row1 col2\" >1</td>\n",
       "                        <td id=\"T_97b430d6_fbf2_11e9_a9eb_d89c67fe7debrow1_col3\" class=\"data row1 col3\" >0</td>\n",
       "                        <td id=\"T_97b430d6_fbf2_11e9_a9eb_d89c67fe7debrow1_col4\" class=\"data row1 col4\" >0</td>\n",
       "                        <td id=\"T_97b430d6_fbf2_11e9_a9eb_d89c67fe7debrow1_col5\" class=\"data row1 col5\" >0</td>\n",
       "                        <td id=\"T_97b430d6_fbf2_11e9_a9eb_d89c67fe7debrow1_col6\" class=\"data row1 col6\" >1</td>\n",
       "                        <td id=\"T_97b430d6_fbf2_11e9_a9eb_d89c67fe7debrow1_col7\" class=\"data row1 col7\" >0</td>\n",
       "                        <td id=\"T_97b430d6_fbf2_11e9_a9eb_d89c67fe7debrow1_col8\" class=\"data row1 col8\" >0</td>\n",
       "                        <td id=\"T_97b430d6_fbf2_11e9_a9eb_d89c67fe7debrow1_col9\" class=\"data row1 col9\" >0</td>\n",
       "                        <td id=\"T_97b430d6_fbf2_11e9_a9eb_d89c67fe7debrow1_col10\" class=\"data row1 col10\" >0</td>\n",
       "                        <td id=\"T_97b430d6_fbf2_11e9_a9eb_d89c67fe7debrow1_col11\" class=\"data row1 col11\" >0</td>\n",
       "                        <td id=\"T_97b430d6_fbf2_11e9_a9eb_d89c67fe7debrow1_col12\" class=\"data row1 col12\" >0</td>\n",
       "                        <td id=\"T_97b430d6_fbf2_11e9_a9eb_d89c67fe7debrow1_col13\" class=\"data row1 col13\" >0</td>\n",
       "                        <td id=\"T_97b430d6_fbf2_11e9_a9eb_d89c67fe7debrow1_col14\" class=\"data row1 col14\" >1</td>\n",
       "                        <td id=\"T_97b430d6_fbf2_11e9_a9eb_d89c67fe7debrow1_col15\" class=\"data row1 col15\" >0</td>\n",
       "                        <td id=\"T_97b430d6_fbf2_11e9_a9eb_d89c67fe7debrow1_col16\" class=\"data row1 col16\" >0</td>\n",
       "                        <td id=\"T_97b430d6_fbf2_11e9_a9eb_d89c67fe7debrow1_col17\" class=\"data row1 col17\" >0</td>\n",
       "                        <td id=\"T_97b430d6_fbf2_11e9_a9eb_d89c67fe7debrow1_col18\" class=\"data row1 col18\" >0</td>\n",
       "                        <td id=\"T_97b430d6_fbf2_11e9_a9eb_d89c67fe7debrow1_col19\" class=\"data row1 col19\" >0</td>\n",
       "                        <td id=\"T_97b430d6_fbf2_11e9_a9eb_d89c67fe7debrow1_col20\" class=\"data row1 col20\" >1</td>\n",
       "                        <td id=\"T_97b430d6_fbf2_11e9_a9eb_d89c67fe7debrow1_col21\" class=\"data row1 col21\" >0</td>\n",
       "                        <td id=\"T_97b430d6_fbf2_11e9_a9eb_d89c67fe7debrow1_col22\" class=\"data row1 col22\" >1</td>\n",
       "                        <td id=\"T_97b430d6_fbf2_11e9_a9eb_d89c67fe7debrow1_col23\" class=\"data row1 col23\" >0</td>\n",
       "                        <td id=\"T_97b430d6_fbf2_11e9_a9eb_d89c67fe7debrow1_col24\" class=\"data row1 col24\" >0</td>\n",
       "                        <td id=\"T_97b430d6_fbf2_11e9_a9eb_d89c67fe7debrow1_col25\" class=\"data row1 col25\" >1</td>\n",
       "                        <td id=\"T_97b430d6_fbf2_11e9_a9eb_d89c67fe7debrow1_col26\" class=\"data row1 col26\" >0</td>\n",
       "                        <td id=\"T_97b430d6_fbf2_11e9_a9eb_d89c67fe7debrow1_col27\" class=\"data row1 col27\" >0</td>\n",
       "                        <td id=\"T_97b430d6_fbf2_11e9_a9eb_d89c67fe7debrow1_col28\" class=\"data row1 col28\" >0</td>\n",
       "            </tr>\n",
       "            <tr>\n",
       "                                <td id=\"T_97b430d6_fbf2_11e9_a9eb_d89c67fe7debrow2_col0\" class=\"data row2 col0\" >2</td>\n",
       "                        <td id=\"T_97b430d6_fbf2_11e9_a9eb_d89c67fe7debrow2_col1\" class=\"data row2 col1\" >2</td>\n",
       "                        <td id=\"T_97b430d6_fbf2_11e9_a9eb_d89c67fe7debrow2_col2\" class=\"data row2 col2\" >0</td>\n",
       "                        <td id=\"T_97b430d6_fbf2_11e9_a9eb_d89c67fe7debrow2_col3\" class=\"data row2 col3\" >0</td>\n",
       "                        <td id=\"T_97b430d6_fbf2_11e9_a9eb_d89c67fe7debrow2_col4\" class=\"data row2 col4\" >1</td>\n",
       "                        <td id=\"T_97b430d6_fbf2_11e9_a9eb_d89c67fe7debrow2_col5\" class=\"data row2 col5\" >0</td>\n",
       "                        <td id=\"T_97b430d6_fbf2_11e9_a9eb_d89c67fe7debrow2_col6\" class=\"data row2 col6\" >0</td>\n",
       "                        <td id=\"T_97b430d6_fbf2_11e9_a9eb_d89c67fe7debrow2_col7\" class=\"data row2 col7\" >0</td>\n",
       "                        <td id=\"T_97b430d6_fbf2_11e9_a9eb_d89c67fe7debrow2_col8\" class=\"data row2 col8\" >0</td>\n",
       "                        <td id=\"T_97b430d6_fbf2_11e9_a9eb_d89c67fe7debrow2_col9\" class=\"data row2 col9\" >0</td>\n",
       "                        <td id=\"T_97b430d6_fbf2_11e9_a9eb_d89c67fe7debrow2_col10\" class=\"data row2 col10\" >0</td>\n",
       "                        <td id=\"T_97b430d6_fbf2_11e9_a9eb_d89c67fe7debrow2_col11\" class=\"data row2 col11\" >0</td>\n",
       "                        <td id=\"T_97b430d6_fbf2_11e9_a9eb_d89c67fe7debrow2_col12\" class=\"data row2 col12\" >0</td>\n",
       "                        <td id=\"T_97b430d6_fbf2_11e9_a9eb_d89c67fe7debrow2_col13\" class=\"data row2 col13\" >0</td>\n",
       "                        <td id=\"T_97b430d6_fbf2_11e9_a9eb_d89c67fe7debrow2_col14\" class=\"data row2 col14\" >1</td>\n",
       "                        <td id=\"T_97b430d6_fbf2_11e9_a9eb_d89c67fe7debrow2_col15\" class=\"data row2 col15\" >0</td>\n",
       "                        <td id=\"T_97b430d6_fbf2_11e9_a9eb_d89c67fe7debrow2_col16\" class=\"data row2 col16\" >0</td>\n",
       "                        <td id=\"T_97b430d6_fbf2_11e9_a9eb_d89c67fe7debrow2_col17\" class=\"data row2 col17\" >0</td>\n",
       "                        <td id=\"T_97b430d6_fbf2_11e9_a9eb_d89c67fe7debrow2_col18\" class=\"data row2 col18\" >0</td>\n",
       "                        <td id=\"T_97b430d6_fbf2_11e9_a9eb_d89c67fe7debrow2_col19\" class=\"data row2 col19\" >0</td>\n",
       "                        <td id=\"T_97b430d6_fbf2_11e9_a9eb_d89c67fe7debrow2_col20\" class=\"data row2 col20\" >1</td>\n",
       "                        <td id=\"T_97b430d6_fbf2_11e9_a9eb_d89c67fe7debrow2_col21\" class=\"data row2 col21\" >0</td>\n",
       "                        <td id=\"T_97b430d6_fbf2_11e9_a9eb_d89c67fe7debrow2_col22\" class=\"data row2 col22\" >1</td>\n",
       "                        <td id=\"T_97b430d6_fbf2_11e9_a9eb_d89c67fe7debrow2_col23\" class=\"data row2 col23\" >1</td>\n",
       "                        <td id=\"T_97b430d6_fbf2_11e9_a9eb_d89c67fe7debrow2_col24\" class=\"data row2 col24\" >0</td>\n",
       "                        <td id=\"T_97b430d6_fbf2_11e9_a9eb_d89c67fe7debrow2_col25\" class=\"data row2 col25\" >0</td>\n",
       "                        <td id=\"T_97b430d6_fbf2_11e9_a9eb_d89c67fe7debrow2_col26\" class=\"data row2 col26\" >0</td>\n",
       "                        <td id=\"T_97b430d6_fbf2_11e9_a9eb_d89c67fe7debrow2_col27\" class=\"data row2 col27\" >0</td>\n",
       "                        <td id=\"T_97b430d6_fbf2_11e9_a9eb_d89c67fe7debrow2_col28\" class=\"data row2 col28\" >0</td>\n",
       "            </tr>\n",
       "            <tr>\n",
       "                                <td id=\"T_97b430d6_fbf2_11e9_a9eb_d89c67fe7debrow3_col0\" class=\"data row3 col0\" >2</td>\n",
       "                        <td id=\"T_97b430d6_fbf2_11e9_a9eb_d89c67fe7debrow3_col1\" class=\"data row3 col1\" >2</td>\n",
       "                        <td id=\"T_97b430d6_fbf2_11e9_a9eb_d89c67fe7debrow3_col2\" class=\"data row3 col2\" >1</td>\n",
       "                        <td id=\"T_97b430d6_fbf2_11e9_a9eb_d89c67fe7debrow3_col3\" class=\"data row3 col3\" >0</td>\n",
       "                        <td id=\"T_97b430d6_fbf2_11e9_a9eb_d89c67fe7debrow3_col4\" class=\"data row3 col4\" >1</td>\n",
       "                        <td id=\"T_97b430d6_fbf2_11e9_a9eb_d89c67fe7debrow3_col5\" class=\"data row3 col5\" >0</td>\n",
       "                        <td id=\"T_97b430d6_fbf2_11e9_a9eb_d89c67fe7debrow3_col6\" class=\"data row3 col6\" >0</td>\n",
       "                        <td id=\"T_97b430d6_fbf2_11e9_a9eb_d89c67fe7debrow3_col7\" class=\"data row3 col7\" >0</td>\n",
       "                        <td id=\"T_97b430d6_fbf2_11e9_a9eb_d89c67fe7debrow3_col8\" class=\"data row3 col8\" >0</td>\n",
       "                        <td id=\"T_97b430d6_fbf2_11e9_a9eb_d89c67fe7debrow3_col9\" class=\"data row3 col9\" >0</td>\n",
       "                        <td id=\"T_97b430d6_fbf2_11e9_a9eb_d89c67fe7debrow3_col10\" class=\"data row3 col10\" >0</td>\n",
       "                        <td id=\"T_97b430d6_fbf2_11e9_a9eb_d89c67fe7debrow3_col11\" class=\"data row3 col11\" >0</td>\n",
       "                        <td id=\"T_97b430d6_fbf2_11e9_a9eb_d89c67fe7debrow3_col12\" class=\"data row3 col12\" >0</td>\n",
       "                        <td id=\"T_97b430d6_fbf2_11e9_a9eb_d89c67fe7debrow3_col13\" class=\"data row3 col13\" >0</td>\n",
       "                        <td id=\"T_97b430d6_fbf2_11e9_a9eb_d89c67fe7debrow3_col14\" class=\"data row3 col14\" >1</td>\n",
       "                        <td id=\"T_97b430d6_fbf2_11e9_a9eb_d89c67fe7debrow3_col15\" class=\"data row3 col15\" >0</td>\n",
       "                        <td id=\"T_97b430d6_fbf2_11e9_a9eb_d89c67fe7debrow3_col16\" class=\"data row3 col16\" >0</td>\n",
       "                        <td id=\"T_97b430d6_fbf2_11e9_a9eb_d89c67fe7debrow3_col17\" class=\"data row3 col17\" >0</td>\n",
       "                        <td id=\"T_97b430d6_fbf2_11e9_a9eb_d89c67fe7debrow3_col18\" class=\"data row3 col18\" >0</td>\n",
       "                        <td id=\"T_97b430d6_fbf2_11e9_a9eb_d89c67fe7debrow3_col19\" class=\"data row3 col19\" >0</td>\n",
       "                        <td id=\"T_97b430d6_fbf2_11e9_a9eb_d89c67fe7debrow3_col20\" class=\"data row3 col20\" >1</td>\n",
       "                        <td id=\"T_97b430d6_fbf2_11e9_a9eb_d89c67fe7debrow3_col21\" class=\"data row3 col21\" >0</td>\n",
       "                        <td id=\"T_97b430d6_fbf2_11e9_a9eb_d89c67fe7debrow3_col22\" class=\"data row3 col22\" >1</td>\n",
       "                        <td id=\"T_97b430d6_fbf2_11e9_a9eb_d89c67fe7debrow3_col23\" class=\"data row3 col23\" >1</td>\n",
       "                        <td id=\"T_97b430d6_fbf2_11e9_a9eb_d89c67fe7debrow3_col24\" class=\"data row3 col24\" >0</td>\n",
       "                        <td id=\"T_97b430d6_fbf2_11e9_a9eb_d89c67fe7debrow3_col25\" class=\"data row3 col25\" >0</td>\n",
       "                        <td id=\"T_97b430d6_fbf2_11e9_a9eb_d89c67fe7debrow3_col26\" class=\"data row3 col26\" >0</td>\n",
       "                        <td id=\"T_97b430d6_fbf2_11e9_a9eb_d89c67fe7debrow3_col27\" class=\"data row3 col27\" >0</td>\n",
       "                        <td id=\"T_97b430d6_fbf2_11e9_a9eb_d89c67fe7debrow3_col28\" class=\"data row3 col28\" >0</td>\n",
       "            </tr>\n",
       "            <tr>\n",
       "                                <td id=\"T_97b430d6_fbf2_11e9_a9eb_d89c67fe7debrow4_col0\" class=\"data row4 col0\" >1</td>\n",
       "                        <td id=\"T_97b430d6_fbf2_11e9_a9eb_d89c67fe7debrow4_col1\" class=\"data row4 col1\" >3</td>\n",
       "                        <td id=\"T_97b430d6_fbf2_11e9_a9eb_d89c67fe7debrow4_col2\" class=\"data row4 col2\" >1</td>\n",
       "                        <td id=\"T_97b430d6_fbf2_11e9_a9eb_d89c67fe7debrow4_col3\" class=\"data row4 col3\" >0</td>\n",
       "                        <td id=\"T_97b430d6_fbf2_11e9_a9eb_d89c67fe7debrow4_col4\" class=\"data row4 col4\" >0</td>\n",
       "                        <td id=\"T_97b430d6_fbf2_11e9_a9eb_d89c67fe7debrow4_col5\" class=\"data row4 col5\" >0</td>\n",
       "                        <td id=\"T_97b430d6_fbf2_11e9_a9eb_d89c67fe7debrow4_col6\" class=\"data row4 col6\" >0</td>\n",
       "                        <td id=\"T_97b430d6_fbf2_11e9_a9eb_d89c67fe7debrow4_col7\" class=\"data row4 col7\" >1</td>\n",
       "                        <td id=\"T_97b430d6_fbf2_11e9_a9eb_d89c67fe7debrow4_col8\" class=\"data row4 col8\" >0</td>\n",
       "                        <td id=\"T_97b430d6_fbf2_11e9_a9eb_d89c67fe7debrow4_col9\" class=\"data row4 col9\" >0</td>\n",
       "                        <td id=\"T_97b430d6_fbf2_11e9_a9eb_d89c67fe7debrow4_col10\" class=\"data row4 col10\" >0</td>\n",
       "                        <td id=\"T_97b430d6_fbf2_11e9_a9eb_d89c67fe7debrow4_col11\" class=\"data row4 col11\" >0</td>\n",
       "                        <td id=\"T_97b430d6_fbf2_11e9_a9eb_d89c67fe7debrow4_col12\" class=\"data row4 col12\" >0</td>\n",
       "                        <td id=\"T_97b430d6_fbf2_11e9_a9eb_d89c67fe7debrow4_col13\" class=\"data row4 col13\" >0</td>\n",
       "                        <td id=\"T_97b430d6_fbf2_11e9_a9eb_d89c67fe7debrow4_col14\" class=\"data row4 col14\" >1</td>\n",
       "                        <td id=\"T_97b430d6_fbf2_11e9_a9eb_d89c67fe7debrow4_col15\" class=\"data row4 col15\" >0</td>\n",
       "                        <td id=\"T_97b430d6_fbf2_11e9_a9eb_d89c67fe7debrow4_col16\" class=\"data row4 col16\" >0</td>\n",
       "                        <td id=\"T_97b430d6_fbf2_11e9_a9eb_d89c67fe7debrow4_col17\" class=\"data row4 col17\" >0</td>\n",
       "                        <td id=\"T_97b430d6_fbf2_11e9_a9eb_d89c67fe7debrow4_col18\" class=\"data row4 col18\" >0</td>\n",
       "                        <td id=\"T_97b430d6_fbf2_11e9_a9eb_d89c67fe7debrow4_col19\" class=\"data row4 col19\" >0</td>\n",
       "                        <td id=\"T_97b430d6_fbf2_11e9_a9eb_d89c67fe7debrow4_col20\" class=\"data row4 col20\" >1</td>\n",
       "                        <td id=\"T_97b430d6_fbf2_11e9_a9eb_d89c67fe7debrow4_col21\" class=\"data row4 col21\" >0</td>\n",
       "                        <td id=\"T_97b430d6_fbf2_11e9_a9eb_d89c67fe7debrow4_col22\" class=\"data row4 col22\" >1</td>\n",
       "                        <td id=\"T_97b430d6_fbf2_11e9_a9eb_d89c67fe7debrow4_col23\" class=\"data row4 col23\" >0</td>\n",
       "                        <td id=\"T_97b430d6_fbf2_11e9_a9eb_d89c67fe7debrow4_col24\" class=\"data row4 col24\" >0</td>\n",
       "                        <td id=\"T_97b430d6_fbf2_11e9_a9eb_d89c67fe7debrow4_col25\" class=\"data row4 col25\" >0</td>\n",
       "                        <td id=\"T_97b430d6_fbf2_11e9_a9eb_d89c67fe7debrow4_col26\" class=\"data row4 col26\" >0</td>\n",
       "                        <td id=\"T_97b430d6_fbf2_11e9_a9eb_d89c67fe7debrow4_col27\" class=\"data row4 col27\" >1</td>\n",
       "                        <td id=\"T_97b430d6_fbf2_11e9_a9eb_d89c67fe7debrow4_col28\" class=\"data row4 col28\" >0</td>\n",
       "            </tr>\n",
       "    </tbody></table>"
      ],
      "text/plain": [
       "<pandas.io.formats.style.Styler at 0x7f18093f8b38>"
      ]
     },
     "execution_count": 26,
     "metadata": {},
     "output_type": "execute_result"
    }
   ],
   "source": [
    "df_mkt_encoded.head().style.hide_index()"
   ]
  },
  {
   "cell_type": "markdown",
   "metadata": {
    "colab_type": "text",
    "id": "XdEuIORJzj3b"
   },
   "source": [
    "## Redução de dimensionalidade com PCA"
   ]
  },
  {
   "cell_type": "markdown",
   "metadata": {
    "colab_type": "text",
    "id": "FwGQz6KI7Qdc"
   },
   "source": [
    " - Os dois primeiros componentes principais retornados com o PCA tem a maior explicabilidade i.e. 34% e 19%, os demais tem uma explicabilidade inferior à 1%, contudo optamos por utilizar os componentes principais para alcançar uma explicabilidade dos dados de 95%\n"
   ]
  },
  {
   "cell_type": "code",
   "execution_count": 27,
   "metadata": {
    "colab": {
     "base_uri": "https://localhost:8080/",
     "height": 68
    },
    "colab_type": "code",
    "id": "e2pErB8RJLjg",
    "outputId": "4692dbf7-feb6-4f7e-9294-e13751c3200a"
   },
   "outputs": [
    {
     "data": {
      "text/plain": [
       "array([0.35813185, 0.19899241, 0.08726782, 0.064731  , 0.05690668,\n",
       "       0.03408579, 0.03280143, 0.02763277, 0.02458328, 0.0242518 ,\n",
       "       0.01923075, 0.01453262, 0.01366435])"
      ]
     },
     "execution_count": 27,
     "metadata": {},
     "output_type": "execute_result"
    }
   ],
   "source": [
    "pca = PCA(0.95) \n",
    "pca.fit(df_mkt_encoded)\n",
    "pca.explained_variance_ratio_"
   ]
  },
  {
   "cell_type": "code",
   "execution_count": 28,
   "metadata": {
    "colab": {},
    "colab_type": "code",
    "id": "2ix-DmJ26FmZ"
   },
   "outputs": [],
   "source": [
    "X = pca.transform(df_mkt_encoded)"
   ]
  },
  {
   "cell_type": "markdown",
   "metadata": {
    "colab_type": "text",
    "id": "2_3wmBuVVeqb"
   },
   "source": [
    "# Consolidação dos dados e Aplicação do Modelo"
   ]
  },
  {
   "cell_type": "markdown",
   "metadata": {
    "colab_type": "text",
    "id": "VDWqVB-JguCr"
   },
   "source": [
    "## `MeanShift`"
   ]
  },
  {
   "cell_type": "markdown",
   "metadata": {},
   "source": [
    "Pensamos em utilizar o `MeanShift` de acordo com [Choosing the right estimator](https://scikit-learn.org/stable/tutorial/machine_learning_map/index.html), porém demorou muito para rodar inviabilizando o uso devido aos requisitos da _codenation_"
   ]
  },
  {
   "cell_type": "markdown",
   "metadata": {
    "colab_type": "text",
    "id": "tKpL_-uDdevm"
   },
   "source": [
    "## `KMeans`"
   ]
  },
  {
   "cell_type": "markdown",
   "metadata": {
    "colab_type": "text",
    "id": "LS9Bb4pCdnR0"
   },
   "source": [
    "### Encontrando a quantidade otimizada de _clusters_"
   ]
  },
  {
   "cell_type": "markdown",
   "metadata": {
    "colab_type": "text",
    "id": "OxxO7P9y4i4n"
   },
   "source": [
    "#### Método cotovelo (_elbow method_)\n",
    "  - Para saber a quantidade de clusters necessários utilizamos a inércia, ou seja, a soma dos quadrados das distâncias das amostras do centro do _cluster_\n",
    "  \n",
    "  - A ideia para definição do número de _clusters_ ótimo é encontrar a quantidade em que a soma dos quadrados intra-clusters é minimizada. O método cotovelo sugere escolher o número de _clusters_ que adicionando outro _cluster_ não melhora (diminui) a soma dos quadrados significativamente\n",
    "  \n",
    "    - Realiza a _clusterização_ para diferentes valores de `k` e.g. 2 a 8 _clusters_\n",
    "    - Para cada valore de `k`, calcula-se a soma dos quadrados intra-cluster\n",
    "    - Visualiza a curva da soma dos quadrados e acordo com o número de _clusters_ `k`\n",
    "    - O ponto que \"dobra o cotovelo\" é normalmente considerado um indicador do número de _clusters_\n",
    "\n",
    "  - A variável `k` representa o máximo de _clusters_ que iremos avaliar começando com o valor 2"
   ]
  },
  {
   "cell_type": "code",
   "execution_count": 29,
   "metadata": {
    "colab": {},
    "colab_type": "code",
    "id": "nJF_bWN74m5s"
   },
   "outputs": [],
   "source": [
    "x1, x2 = 2, 8\n",
    "intervalo = range(x1,x2+1)\n",
    "\n",
    "k = 8\n",
    "\n",
    "sum_of_squares = []\n",
    "for n in range(2, 9): \n",
    "    kmeans = KMeans(n_clusters=n)\n",
    "    kmeans.fit(X)\n",
    "    sum_of_squares.append(kmeans.inertia_)"
   ]
  },
  {
   "cell_type": "code",
   "execution_count": 31,
   "metadata": {
    "colab": {},
    "colab_type": "code",
    "id": "miWHbfef5PSg"
   },
   "outputs": [
    {
     "data": {
      "image/png": "[encoded data removed]",
      "text/plain": [
       "<Figure size 1080x360 with 1 Axes>"
      ]
     },
     "metadata": {
      "needs_background": "light"
     },
     "output_type": "display_data"
    }
   ],
   "source": [
    "plt.figure(figsize=(15,5))\n",
    "plt.title('Método do cotovelo')\n",
    "plt.xlabel('Quantidade de clusters')\n",
    "plt.ylabel('Soma dos quadrados intra-clusters')\n",
    "plt.grid()\n",
    "plt.xticks(intervalo)\n",
    "plt.plot(intervalo, sum_of_squares) \n",
    "plt.plot(intervalo, sum_of_squares, '.') \n",
    "for x,y in zip(intervalo, sum_of_squares): \n",
    "    label = \"a{}\".format(x-1)\n",
    "    plt.annotate(label,\n",
    "                 (x,y),\n",
    "                 textcoords=\"offset points\",\n",
    "                 xytext=(-5,-10),\n",
    "                 ha='right')\n",
    "plt.show()"
   ]
  },
  {
   "cell_type": "markdown",
   "metadata": {},
   "source": [
    "Neste gráfico, não temos muito bem definido a \"dobra do cotovelo\". Assim optamos por utilizar um método que indica o ponto de equilíbrio entre maior homogeneidade dentro do cluster e a maior diferença entre clusters, é o ponto da curva mais distante de uma reta traçada no gráfico"
   ]
  },
  {
   "cell_type": "code",
   "execution_count": 32,
   "metadata": {
    "colab": {
     "base_uri": "https://localhost:8080/",
     "height": 231
    },
    "colab_type": "code",
    "id": "zrBAw_HPkzHe",
    "outputId": "29a3685d-16e4-4545-acbe-cf00eb2fd82a"
   },
   "outputs": [
    {
     "data": {
      "image/png": "[encoded data removed]",
      "text/plain": [
       "<Figure size 1080x360 with 1 Axes>"
      ]
     },
     "metadata": {
      "needs_background": "light"
     },
     "output_type": "display_data"
    }
   ],
   "source": [
    "plt.figure(figsize=(15,5))\n",
    "plt.title('Método do cotovelo')\n",
    "plt.xlabel('Quantidade de clusters')\n",
    "plt.ylabel('Soma dos quadrados intra-clusters')\n",
    "plt.grid()\n",
    "plt.xticks(intervalo)\n",
    "plt.plot(intervalo, sum_of_squares)      # pontos laranjas\n",
    "plt.plot(intervalo, sum_of_squares, '.') # linha azul\n",
    "\n",
    "y2 = sum_of_squares[len(sum_of_squares)-1]\n",
    "y1 = sum_of_squares[0]\n",
    "\n",
    "plt.plot([x2, x1], [y2,y1])                   # linha verde\n",
    "for x,y in zip(intervalo,sum_of_squares):   # colocando nome nos pontos\n",
    "    label = \"a{}\".format(x-2)\n",
    "    if label in ['a0', 'a1', 'a2', 'a6']:\n",
    "        plt.annotate(label,\n",
    "                     (x,y),\n",
    "                     textcoords=\"offset points\",\n",
    "                     xytext=(-5,-10),\n",
    "                     ha='right')\n",
    "plt.show()"
   ]
  },
  {
   "cell_type": "code",
   "execution_count": 33,
   "metadata": {},
   "outputs": [],
   "source": [
    "def optimal_number_of_clusters(wcss):\n",
    "    x1, y1 = 2, wcss[0]\n",
    "    x2, y2 = 8, wcss[len(wcss)-1]\n",
    "\n",
    "    distances = []\n",
    "    for i in range(len(wcss)):\n",
    "        x0 = i+2\n",
    "        y0 = wcss[i]\n",
    "        numerator = abs((y2-y1)*x0 - (x2-x1)*y0 + x2*y1 - y2*x1)\n",
    "        denominator = sqrt((y2 - y1)**2 + (x2 - x1)**2)\n",
    "        distances.append(numerator/denominator)\n",
    "    \n",
    "    return distances.index(max(distances)) + 2"
   ]
  },
  {
   "cell_type": "code",
   "execution_count": 34,
   "metadata": {},
   "outputs": [
    {
     "data": {
      "text/plain": [
       "4"
      ]
     },
     "execution_count": 34,
     "metadata": {},
     "output_type": "execute_result"
    }
   ],
   "source": [
    "n = optimal_number_of_clusters(sum_of_squares)\n",
    "n"
   ]
  },
  {
   "cell_type": "code",
   "execution_count": 35,
   "metadata": {
    "colab": {},
    "colab_type": "code",
    "id": "H1bDTrsI-fRt"
   },
   "outputs": [],
   "source": [
    "kmeans = KMeans(n_clusters=n, random_state=42) # garantindo reprodutibilidade\n",
    "cl = kmeans.fit(X)"
   ]
  },
  {
   "cell_type": "markdown",
   "metadata": {
    "colab_type": "text",
    "id": "Em3q3AKxV8oc"
   },
   "source": [
    "## Visualização dos _clusters_"
   ]
  },
  {
   "cell_type": "code",
   "execution_count": 36,
   "metadata": {
    "colab": {},
    "colab_type": "code",
    "id": "M8QpTWPWV7tY"
   },
   "outputs": [
    {
     "data": {
      "image/png": "[encoded data removed]",
      "text/plain": [
       "<Figure size 432x288 with 1 Axes>"
      ]
     },
     "metadata": {
      "needs_background": "light"
     },
     "output_type": "display_data"
    }
   ],
   "source": [
    "plt.figure(1)\n",
    "plt.clf()\n",
    "\n",
    "colors = cycle('bgrcmykbgrcmykbgrcmykbgrcmyk')\n",
    "for k, col in zip(range(len(np.unique(cl.labels_))), colors):\n",
    "    my_members = cl.labels_ == k\n",
    "    cluster_center = cl.cluster_centers_[k]\n",
    "    plt.plot(X[my_members, 0], X[my_members, 1], col + '.')\n",
    "    plt.plot(cluster_center[0], cluster_center[1], 'o', markerfacecolor=col,\n",
    "             markeredgecolor='k', markersize=14)\n",
    "plt.title('Estimated number of clusters: %d' % len(np.unique(cl.labels_)))\n",
    "plt.show()"
   ]
  },
  {
   "cell_type": "code",
   "execution_count": 37,
   "metadata": {},
   "outputs": [
    {
     "data": {
      "image/png": "[encoded data removed]",
      "text/plain": [
       "<Figure size 432x288 with 1 Axes>"
      ]
     },
     "metadata": {
      "needs_background": "light"
     },
     "output_type": "display_data"
    }
   ],
   "source": [
    "plt.figure(1)\n",
    "plt.clf()\n",
    "\n",
    "colors = cycle('bgrcmykbgrcmykbgrcmykbgrcmyk')\n",
    "for k, col in zip(range(len(np.unique(cl.labels_))), colors):\n",
    "    my_members = cl.labels_ == k\n",
    "    cluster_center = cl.cluster_centers_[k]\n",
    "    plt.plot(X[my_members, 0], X[my_members, 2], col + '.')\n",
    "    plt.plot(cluster_center[0], cluster_center[2], 'o', markerfacecolor=col,\n",
    "             markeredgecolor='k', markersize=14)\n",
    "plt.title('Estimated number of clusters: %d' % len(np.unique(cl.labels_)))\n",
    "plt.show()"
   ]
  },
  {
   "cell_type": "code",
   "execution_count": 38,
   "metadata": {},
   "outputs": [
    {
     "data": {
      "image/png": "[encoded data removed]",
      "text/plain": [
       "<Figure size 432x288 with 1 Axes>"
      ]
     },
     "metadata": {
      "needs_background": "light"
     },
     "output_type": "display_data"
    }
   ],
   "source": [
    "plt.figure(1)\n",
    "plt.clf()\n",
    "\n",
    "colors = cycle('bgrcmykbgrcmykbgrcmykbgrcmyk')\n",
    "for k, col in zip(range(len(np.unique(cl.labels_))), colors):\n",
    "    my_members = cl.labels_ == k\n",
    "    cluster_center = cl.cluster_centers_[k]\n",
    "    plt.plot(X[my_members, 0], X[my_members, 3], col + '.')\n",
    "    plt.plot(cluster_center[0], cluster_center[3], 'o', markerfacecolor=col,\n",
    "             markeredgecolor='k', markersize=14)\n",
    "plt.title('Estimated number of clusters: %d' % len(np.unique(cl.labels_)))\n",
    "plt.show()"
   ]
  },
  {
   "cell_type": "code",
   "execution_count": 39,
   "metadata": {},
   "outputs": [
    {
     "data": {
      "image/png": "[encoded data removed]",
      "text/plain": [
       "<Figure size 432x288 with 1 Axes>"
      ]
     },
     "metadata": {
      "needs_background": "light"
     },
     "output_type": "display_data"
    }
   ],
   "source": [
    "plt.figure(1)\n",
    "plt.clf()\n",
    "\n",
    "colors = cycle('bgrcmykbgrcmykbgrcmykbgrcmyk')\n",
    "for k, col in zip(range(len(np.unique(cl.labels_))), colors):\n",
    "    my_members = cl.labels_ == k\n",
    "    cluster_center = cl.cluster_centers_[k]\n",
    "    plt.plot(X[my_members, 0], X[my_members, 4], col + '.')\n",
    "    plt.plot(cluster_center[0], cluster_center[4], 'o', markerfacecolor=col,\n",
    "             markeredgecolor='k', markersize=14)\n",
    "plt.title('Estimated number of clusters: %d' % len(np.unique(cl.labels_)))\n",
    "plt.show()"
   ]
  },
  {
   "cell_type": "code",
   "execution_count": 40,
   "metadata": {},
   "outputs": [
    {
     "data": {
      "image/png": "[encoded data removed]",
      "text/plain": [
       "<Figure size 720x576 with 1 Axes>"
      ]
     },
     "metadata": {
      "needs_background": "light"
     },
     "output_type": "display_data"
    }
   ],
   "source": [
    "from __future__ import division\n",
    "\n",
    "import numpy as np\n",
    "import matplotlib.pyplot as plt\n",
    "from mpl_toolkits.mplot3d import Axes3D\n",
    "\n",
    "fig = plt.figure(figsize=(10,8))\n",
    "ax = fig.add_subplot(111, projection='3d')\n",
    "\n",
    "# Point generation by using normal standard distribution\n",
    "# 3D plotting and its projection to xy plane\n",
    "\n",
    "z_offset = 3\n",
    "\n",
    "colors = cycle('bgrcmykbgrcmykbgrcmykbgrcmyk')\n",
    "for k, col in zip(range(len(np.unique(cl.labels_))), colors):\n",
    "    my_members = cl.labels_ == k\n",
    "    cluster_center = cl.cluster_centers_[k]\n",
    "# Cluster of points #1\n",
    "# Plotting 3D points\n",
    "    ax.plot(X[my_members, 0], X[my_members, 1], X[my_members, 2], col + '.')"
   ]
  },
  {
   "cell_type": "markdown",
   "metadata": {
    "colab_type": "text",
    "id": "jNrhHNVQUlUN"
   },
   "source": [
    "# Análise e Apresentação dos resultados"
   ]
  },
  {
   "cell_type": "markdown",
   "metadata": {
    "colab_type": "text",
    "id": "s6xemfVy3CyG"
   },
   "source": [
    "## Distribuição dos _clusters_ no mercado"
   ]
  },
  {
   "cell_type": "code",
   "execution_count": 41,
   "metadata": {
    "colab": {},
    "colab_type": "code",
    "id": "Npdm4OooN5Ow"
   },
   "outputs": [
    {
     "data": {
      "text/plain": [
       "Text(0.5, 1.0, 'clusters')"
      ]
     },
     "execution_count": 41,
     "metadata": {},
     "output_type": "execute_result"
    },
    {
     "data": {
      "image/png": "[encoded data removed]",
      "text/plain": [
       "<Figure size 432x288 with 1 Axes>"
      ]
     },
     "metadata": {
      "needs_background": "light"
     },
     "output_type": "display_data"
    }
   ],
   "source": [
    "df_mkt_clusters = pd.DataFrame(df_mkt_encoded.index)\n",
    "df_mkt_clusters['clusters'] = cl.labels_\n",
    "\n",
    "plt.hist(df_mkt_clusters['clusters'])\n",
    "plt.title('clusters')"
   ]
  },
  {
   "cell_type": "code",
   "execution_count": 42,
   "metadata": {},
   "outputs": [
    {
     "data": {
      "text/html": [
       "<div>\n",
       "<style scoped>\n",
       "    .dataframe tbody tr th:only-of-type {\n",
       "        vertical-align: middle;\n",
       "    }\n",
       "\n",
       "    .dataframe tbody tr th {\n",
       "        vertical-align: top;\n",
       "    }\n",
       "\n",
       "    .dataframe thead th {\n",
       "        text-align: right;\n",
       "    }\n",
       "</style>\n",
       "<table border=\"1\" class=\"dataframe\">\n",
       "  <thead>\n",
       "    <tr style=\"text-align: right;\">\n",
       "      <th></th>\n",
       "      <th>id</th>\n",
       "      <th>clusters</th>\n",
       "    </tr>\n",
       "  </thead>\n",
       "  <tbody>\n",
       "    <tr>\n",
       "      <th>0</th>\n",
       "      <td>a6984c3ae395090e3bee8ad63c3758b110de096d5d8195...</td>\n",
       "      <td>3</td>\n",
       "    </tr>\n",
       "    <tr>\n",
       "      <th>1</th>\n",
       "      <td>6178f41ade1365e44bc2c46654c2c8c0eaae27dcb476c4...</td>\n",
       "      <td>1</td>\n",
       "    </tr>\n",
       "    <tr>\n",
       "      <th>2</th>\n",
       "      <td>4a7e5069a397f12fdd7fd57111d6dc5d3ba558958efc02...</td>\n",
       "      <td>3</td>\n",
       "    </tr>\n",
       "    <tr>\n",
       "      <th>3</th>\n",
       "      <td>3348900fe63216a439d2e5238c79ddd46ede454df7b9d8...</td>\n",
       "      <td>3</td>\n",
       "    </tr>\n",
       "    <tr>\n",
       "      <th>4</th>\n",
       "      <td>1f9bcabc9d3173c1fe769899e4fac14b053037b953a1e4...</td>\n",
       "      <td>1</td>\n",
       "    </tr>\n",
       "  </tbody>\n",
       "</table>\n",
       "</div>"
      ],
      "text/plain": [
       "                                                  id  clusters\n",
       "0  a6984c3ae395090e3bee8ad63c3758b110de096d5d8195...         3\n",
       "1  6178f41ade1365e44bc2c46654c2c8c0eaae27dcb476c4...         1\n",
       "2  4a7e5069a397f12fdd7fd57111d6dc5d3ba558958efc02...         3\n",
       "3  3348900fe63216a439d2e5238c79ddd46ede454df7b9d8...         3\n",
       "4  1f9bcabc9d3173c1fe769899e4fac14b053037b953a1e4...         1"
      ]
     },
     "execution_count": 42,
     "metadata": {},
     "output_type": "execute_result"
    }
   ],
   "source": [
    "df_mkt_clusters.head()"
   ]
  },
  {
   "cell_type": "markdown",
   "metadata": {
    "colab_type": "text",
    "id": "OC09NvmmBIRH"
   },
   "source": [
    "# Predição"
   ]
  },
  {
   "cell_type": "markdown",
   "metadata": {
    "colab_type": "text",
    "id": "gwiB3GZu3XDB"
   },
   "source": [
    "## Portifólio 1"
   ]
  },
  {
   "cell_type": "markdown",
   "metadata": {
    "colab_type": "text",
    "id": "aie61C37Anu7"
   },
   "source": [
    "### Entrando com o CSV"
   ]
  },
  {
   "cell_type": "code",
   "execution_count": 67,
   "metadata": {
    "colab": {},
    "colab_type": "code",
    "id": "21j2BnmbjEru"
   },
   "outputs": [],
   "source": [
    "df_portfolio_1 = pd.read_csv('../data/estaticos_portfolio1.csv')"
   ]
  },
  {
   "cell_type": "markdown",
   "metadata": {
    "colab_type": "text",
    "id": "S02k-H81AxlO"
   },
   "source": [
    "### Mapeando os _clusters_ das empresas do portifolio"
   ]
  },
  {
   "cell_type": "markdown",
   "metadata": {
    "colab_type": "text",
    "id": "OHRX5YMz4A0V"
   },
   "source": [
    "  - Nesta etapa vamos:\n",
    "      - Mapear os _clusters_ do portifolio para saber em quais _clusters_ as empresas do portifolio pertencem\n",
    "      - Remover as empresas do portfolio do mercado\n",
    "      - Apresentar a distribuição das empresas pelos _clusters_ encontrados"
   ]
  },
  {
   "cell_type": "code",
   "execution_count": 68,
   "metadata": {},
   "outputs": [
    {
     "data": {
      "text/plain": [
       "Text(0.5, 1.0, 'clusters')"
      ]
     },
     "execution_count": 68,
     "metadata": {},
     "output_type": "execute_result"
    },
    {
     "data": {
      "image/png": "[encoded data removed]",
      "text/plain": [
       "<Figure size 576x360 with 1 Axes>"
      ]
     },
     "metadata": {
      "needs_background": "light"
     },
     "output_type": "display_data"
    }
   ],
   "source": [
    "df_clusters_portfolio_1 = pd.merge(df_portfolio_1, df_mkt_clusters, on='id', how='left')\n",
    "df_mkt_without_portfolio_1 = pd.concat([df_clusters_portfolio_1[['id', 'clusters']], df_mkt_clusters]).drop_duplicates(keep=False)\n",
    "\n",
    "plt.figure(figsize=(8, 5))\n",
    "sns.countplot(x='clusters', data=df_mkt_without_portfolio_1);\n",
    "plt.title('clusters')"
   ]
  },
  {
   "cell_type": "code",
   "execution_count": 69,
   "metadata": {
    "colab": {},
    "colab_type": "code",
    "id": "gibFCSFxqnnH"
   },
   "outputs": [
    {
     "data": {
      "text/html": [
       "<div>\n",
       "<style scoped>\n",
       "    .dataframe tbody tr th:only-of-type {\n",
       "        vertical-align: middle;\n",
       "    }\n",
       "\n",
       "    .dataframe tbody tr th {\n",
       "        vertical-align: top;\n",
       "    }\n",
       "\n",
       "    .dataframe thead th {\n",
       "        text-align: right;\n",
       "    }\n",
       "</style>\n",
       "<table border=\"1\" class=\"dataframe\">\n",
       "  <thead>\n",
       "    <tr style=\"text-align: right;\">\n",
       "      <th></th>\n",
       "      <th>clusters</th>\n",
       "    </tr>\n",
       "  </thead>\n",
       "  <tbody>\n",
       "    <tr>\n",
       "      <th>1</th>\n",
       "      <td>0.372973</td>\n",
       "    </tr>\n",
       "    <tr>\n",
       "      <th>3</th>\n",
       "      <td>0.347748</td>\n",
       "    </tr>\n",
       "    <tr>\n",
       "      <th>0</th>\n",
       "      <td>0.255856</td>\n",
       "    </tr>\n",
       "    <tr>\n",
       "      <th>2</th>\n",
       "      <td>0.023423</td>\n",
       "    </tr>\n",
       "  </tbody>\n",
       "</table>\n",
       "</div>"
      ],
      "text/plain": [
       "   clusters\n",
       "1  0.372973\n",
       "3  0.347748\n",
       "0  0.255856\n",
       "2  0.023423"
      ]
     },
     "execution_count": 69,
     "metadata": {},
     "output_type": "execute_result"
    }
   ],
   "source": [
    "df_clusters_values = pd.DataFrame(df_clusters_portfolio_1['clusters'].value_counts(normalize=True))\n",
    "df_clusters_values"
   ]
  },
  {
   "cell_type": "markdown",
   "metadata": {
    "colab_type": "text",
    "id": "i69Uks8E4SpA"
   },
   "source": [
    " - Podemos ver que a maioria das empresas do portifolio se encontram no _cluster_ 1, contudo a porcentagem está bem próxima do _cluster_ 3. Assim, vamos apresentar uma lista ordenada para o cliente com as empresas com maior probabilidade de aderência baseado na porcentagem de clientes em cada _cluster_"
   ]
  },
  {
   "cell_type": "code",
   "execution_count": 70,
   "metadata": {
    "colab": {},
    "colab_type": "code",
    "id": "xMKo6Nx1yjhg"
   },
   "outputs": [
    {
     "data": {
      "text/html": [
       "<div>\n",
       "<style scoped>\n",
       "    .dataframe tbody tr th:only-of-type {\n",
       "        vertical-align: middle;\n",
       "    }\n",
       "\n",
       "    .dataframe tbody tr th {\n",
       "        vertical-align: top;\n",
       "    }\n",
       "\n",
       "    .dataframe thead th {\n",
       "        text-align: right;\n",
       "    }\n",
       "</style>\n",
       "<table border=\"1\" class=\"dataframe\">\n",
       "  <thead>\n",
       "    <tr style=\"text-align: right;\">\n",
       "      <th></th>\n",
       "      <th>id</th>\n",
       "    </tr>\n",
       "    <tr>\n",
       "      <th>clusters</th>\n",
       "      <th></th>\n",
       "    </tr>\n",
       "  </thead>\n",
       "  <tbody>\n",
       "    <tr>\n",
       "      <th>1</th>\n",
       "      <td>6178f41ade1365e44bc2c46654c2c8c0eaae27dcb476c4...</td>\n",
       "    </tr>\n",
       "    <tr>\n",
       "      <th>1</th>\n",
       "      <td>1f9bcabc9d3173c1fe769899e4fac14b053037b953a1e4...</td>\n",
       "    </tr>\n",
       "    <tr>\n",
       "      <th>1</th>\n",
       "      <td>0114fd3fbdc347c561843cde6aece12e8e53cb5d32c77d...</td>\n",
       "    </tr>\n",
       "  </tbody>\n",
       "</table>\n",
       "</div>"
      ],
      "text/plain": [
       "                                                         id\n",
       "clusters                                                   \n",
       "1         6178f41ade1365e44bc2c46654c2c8c0eaae27dcb476c4...\n",
       "1         1f9bcabc9d3173c1fe769899e4fac14b053037b953a1e4...\n",
       "1         0114fd3fbdc347c561843cde6aece12e8e53cb5d32c77d..."
      ]
     },
     "execution_count": 70,
     "metadata": {},
     "output_type": "execute_result"
    }
   ],
   "source": [
    "ordered_clusters_by_prob = list(df_clusters_values.T.columns)\n",
    "\n",
    "df_mkt_without_portfolio_1.set_index('clusters', inplace=True)\n",
    "recomendation_list_port_1 = df_mkt_without_portfolio_1.loc[ordered_clusters_by_prob]\n",
    "recomendation_list_port_1.head(3)"
   ]
  },
  {
   "cell_type": "markdown",
   "metadata": {
    "colab_type": "text",
    "id": "a-1Y5mfYndl4"
   },
   "source": [
    "## Portifolio 2"
   ]
  },
  {
   "cell_type": "markdown",
   "metadata": {
    "colab_type": "text",
    "id": "SrQmnOZV6MYx"
   },
   "source": [
    "### Entrando com o CSV"
   ]
  },
  {
   "cell_type": "code",
   "execution_count": 71,
   "metadata": {
    "colab": {},
    "colab_type": "code",
    "id": "Pha4ZivU6OFl"
   },
   "outputs": [],
   "source": [
    "df_portfolio_2 = pd.read_csv('../data/estaticos_portfolio2.csv')"
   ]
  },
  {
   "cell_type": "markdown",
   "metadata": {
    "colab_type": "text",
    "id": "uYpD9LeX6Y5H"
   },
   "source": [
    "### Mapeando os _clusters_ das empresas do portifolio"
   ]
  },
  {
   "cell_type": "code",
   "execution_count": 72,
   "metadata": {
    "colab": {},
    "colab_type": "code",
    "id": "nhi_IpRm6Y5N"
   },
   "outputs": [
    {
     "data": {
      "text/plain": [
       "Text(0.5, 1.0, 'clusters')"
      ]
     },
     "execution_count": 72,
     "metadata": {},
     "output_type": "execute_result"
    },
    {
     "data": {
      "image/png": "[encoded data removed]",
      "text/plain": [
       "<Figure size 576x360 with 1 Axes>"
      ]
     },
     "metadata": {
      "needs_background": "light"
     },
     "output_type": "display_data"
    }
   ],
   "source": [
    "df_clusters_portfolio_2 = pd.merge(df_portfolio_2, df_mkt_clusters, on='id', how='left')\n",
    "df_mkt_without_portfolio_2 = pd.concat([df_clusters_portfolio_2[['id', 'clusters']], df_mkt_clusters]).drop_duplicates(keep=False)\n",
    "\n",
    "plt.figure(figsize=(8, 5))\n",
    "sns.countplot(x='clusters', data=df_mkt_without_portfolio_2);\n",
    "plt.title('clusters')"
   ]
  },
  {
   "cell_type": "code",
   "execution_count": 73,
   "metadata": {
    "colab": {},
    "colab_type": "code",
    "id": "Ym8fF1XG6Y5R"
   },
   "outputs": [
    {
     "data": {
      "text/html": [
       "<div>\n",
       "<style scoped>\n",
       "    .dataframe tbody tr th:only-of-type {\n",
       "        vertical-align: middle;\n",
       "    }\n",
       "\n",
       "    .dataframe tbody tr th {\n",
       "        vertical-align: top;\n",
       "    }\n",
       "\n",
       "    .dataframe thead th {\n",
       "        text-align: right;\n",
       "    }\n",
       "</style>\n",
       "<table border=\"1\" class=\"dataframe\">\n",
       "  <thead>\n",
       "    <tr style=\"text-align: right;\">\n",
       "      <th></th>\n",
       "      <th>clusters</th>\n",
       "    </tr>\n",
       "  </thead>\n",
       "  <tbody>\n",
       "    <tr>\n",
       "      <th>2</th>\n",
       "      <td>1.0</td>\n",
       "    </tr>\n",
       "  </tbody>\n",
       "</table>\n",
       "</div>"
      ],
      "text/plain": [
       "   clusters\n",
       "2       1.0"
      ]
     },
     "execution_count": 73,
     "metadata": {},
     "output_type": "execute_result"
    }
   ],
   "source": [
    "df_clusters_values = pd.DataFrame(df_clusters_portfolio_2['clusters'].value_counts(normalize=True))\n",
    "\n",
    "df_clusters_values"
   ]
  },
  {
   "cell_type": "markdown",
   "metadata": {
    "colab_type": "text",
    "id": "8SdiTcnc6Y5Y"
   },
   "source": [
    " - Podemos ver que todas as empresas do portifolio se encontram no _cluster_ 2. Assim, vamos recomendar para o cliente as empresas que não são clientes ainda que se encontram no _cluster_ 2."
   ]
  },
  {
   "cell_type": "code",
   "execution_count": 74,
   "metadata": {
    "colab": {},
    "colab_type": "code",
    "id": "ewPCZMvw6Y5Y"
   },
   "outputs": [
    {
     "data": {
      "text/html": [
       "<div>\n",
       "<style scoped>\n",
       "    .dataframe tbody tr th:only-of-type {\n",
       "        vertical-align: middle;\n",
       "    }\n",
       "\n",
       "    .dataframe tbody tr th {\n",
       "        vertical-align: top;\n",
       "    }\n",
       "\n",
       "    .dataframe thead th {\n",
       "        text-align: right;\n",
       "    }\n",
       "</style>\n",
       "<table border=\"1\" class=\"dataframe\">\n",
       "  <thead>\n",
       "    <tr style=\"text-align: right;\">\n",
       "      <th></th>\n",
       "      <th>id</th>\n",
       "    </tr>\n",
       "    <tr>\n",
       "      <th>clusters</th>\n",
       "      <th></th>\n",
       "    </tr>\n",
       "  </thead>\n",
       "  <tbody>\n",
       "    <tr>\n",
       "      <th>2</th>\n",
       "      <td>474c4d2ec42aaa7feaacb73a0eec10516c9fae98919c84...</td>\n",
       "    </tr>\n",
       "    <tr>\n",
       "      <th>2</th>\n",
       "      <td>8a584390e7b2fba5ef33a51b2f8fd63bd202194db3e5ee...</td>\n",
       "    </tr>\n",
       "    <tr>\n",
       "      <th>2</th>\n",
       "      <td>c5e70d47fe82cf519287e51c21d9557f821c74dde25eb2...</td>\n",
       "    </tr>\n",
       "  </tbody>\n",
       "</table>\n",
       "</div>"
      ],
      "text/plain": [
       "                                                         id\n",
       "clusters                                                   \n",
       "2         474c4d2ec42aaa7feaacb73a0eec10516c9fae98919c84...\n",
       "2         8a584390e7b2fba5ef33a51b2f8fd63bd202194db3e5ee...\n",
       "2         c5e70d47fe82cf519287e51c21d9557f821c74dde25eb2..."
      ]
     },
     "execution_count": 74,
     "metadata": {},
     "output_type": "execute_result"
    }
   ],
   "source": [
    "ordered_clusters_by_prob = list(df_clusters_values.T.columns)\n",
    "\n",
    "df_mkt_without_portfolio_2.set_index('clusters', inplace=True)\n",
    "recomendation_list_port_2 = df_mkt_without_portfolio_2.loc[ordered_clusters_by_prob]\n",
    "recomendation_list_port_2.head(3)"
   ]
  },
  {
   "cell_type": "markdown",
   "metadata": {
    "colab_type": "text",
    "id": "pbFshtGWngQW"
   },
   "source": [
    "### Portifolio 3"
   ]
  },
  {
   "cell_type": "markdown",
   "metadata": {
    "colab_type": "text",
    "id": "4oVpFwKG7urO"
   },
   "source": [
    "### Entrando com o CSV"
   ]
  },
  {
   "cell_type": "code",
   "execution_count": 75,
   "metadata": {
    "colab": {},
    "colab_type": "code",
    "id": "NQtDJDK27urX"
   },
   "outputs": [],
   "source": [
    "df_portfolio_3 = pd.read_csv('../data/estaticos_portfolio3.csv')"
   ]
  },
  {
   "cell_type": "markdown",
   "metadata": {
    "colab_type": "text",
    "id": "rEzsliSk7urh"
   },
   "source": [
    "### Mapeando os _clusters_ das empresas do portifolio"
   ]
  },
  {
   "cell_type": "code",
   "execution_count": 76,
   "metadata": {
    "colab": {},
    "colab_type": "code",
    "id": "MmjvKt0-7uri"
   },
   "outputs": [
    {
     "data": {
      "text/plain": [
       "Text(0.5, 1.0, 'clusters')"
      ]
     },
     "execution_count": 76,
     "metadata": {},
     "output_type": "execute_result"
    },
    {
     "data": {
      "image/png": "[encoded data removed]",
      "text/plain": [
       "<Figure size 576x360 with 1 Axes>"
      ]
     },
     "metadata": {
      "needs_background": "light"
     },
     "output_type": "display_data"
    }
   ],
   "source": [
    "df_clusters_portfolio_3 = pd.merge(df_portfolio_3, df_mkt_clusters, on='id', how='left')\n",
    "df_mkt_without_portfolio_3 = pd.concat([df_clusters_portfolio_3[['id', 'clusters']], df_mkt_clusters]).drop_duplicates(keep=False)\n",
    "\n",
    "\n",
    "plt.figure(figsize=(8, 5))\n",
    "sns.countplot(x='clusters', data=df_mkt_without_portfolio_3);\n",
    "plt.title('clusters')"
   ]
  },
  {
   "cell_type": "code",
   "execution_count": 78,
   "metadata": {
    "colab": {},
    "colab_type": "code",
    "id": "z8RnxuDE7urm"
   },
   "outputs": [
    {
     "data": {
      "text/html": [
       "<div>\n",
       "<style scoped>\n",
       "    .dataframe tbody tr th:only-of-type {\n",
       "        vertical-align: middle;\n",
       "    }\n",
       "\n",
       "    .dataframe tbody tr th {\n",
       "        vertical-align: top;\n",
       "    }\n",
       "\n",
       "    .dataframe thead th {\n",
       "        text-align: right;\n",
       "    }\n",
       "</style>\n",
       "<table border=\"1\" class=\"dataframe\">\n",
       "  <thead>\n",
       "    <tr style=\"text-align: right;\">\n",
       "      <th></th>\n",
       "      <th>clusters</th>\n",
       "    </tr>\n",
       "  </thead>\n",
       "  <tbody>\n",
       "    <tr>\n",
       "      <th>2</th>\n",
       "      <td>1.0</td>\n",
       "    </tr>\n",
       "  </tbody>\n",
       "</table>\n",
       "</div>"
      ],
      "text/plain": [
       "   clusters\n",
       "2       1.0"
      ]
     },
     "execution_count": 78,
     "metadata": {},
     "output_type": "execute_result"
    }
   ],
   "source": [
    "df_clusters_values = pd.DataFrame(df_clusters_portfolio_3['clusters'].value_counts(normalize=True))\n",
    "\n",
    "df_clusters_values"
   ]
  },
  {
   "cell_type": "markdown",
   "metadata": {
    "colab_type": "text",
    "id": "iLm7Rc-X7urq"
   },
   "source": [
    " - Podemos ver que todas as empresas do portifolio se encontram no _cluster_ 2. Assim, vamos recomendar para o cliente as empresas que não são clientes ainda que se encontram no _cluster_ 2."
   ]
  },
  {
   "cell_type": "code",
   "execution_count": 79,
   "metadata": {
    "colab": {},
    "colab_type": "code",
    "id": "ET2Tqvmx7urs"
   },
   "outputs": [
    {
     "data": {
      "text/html": [
       "<div>\n",
       "<style scoped>\n",
       "    .dataframe tbody tr th:only-of-type {\n",
       "        vertical-align: middle;\n",
       "    }\n",
       "\n",
       "    .dataframe tbody tr th {\n",
       "        vertical-align: top;\n",
       "    }\n",
       "\n",
       "    .dataframe thead th {\n",
       "        text-align: right;\n",
       "    }\n",
       "</style>\n",
       "<table border=\"1\" class=\"dataframe\">\n",
       "  <thead>\n",
       "    <tr style=\"text-align: right;\">\n",
       "      <th></th>\n",
       "      <th>id</th>\n",
       "    </tr>\n",
       "    <tr>\n",
       "      <th>clusters</th>\n",
       "      <th></th>\n",
       "    </tr>\n",
       "  </thead>\n",
       "  <tbody>\n",
       "    <tr>\n",
       "      <th>2</th>\n",
       "      <td>474c4d2ec42aaa7feaacb73a0eec10516c9fae98919c84...</td>\n",
       "    </tr>\n",
       "    <tr>\n",
       "      <th>2</th>\n",
       "      <td>8a584390e7b2fba5ef33a51b2f8fd63bd202194db3e5ee...</td>\n",
       "    </tr>\n",
       "    <tr>\n",
       "      <th>2</th>\n",
       "      <td>c5e70d47fe82cf519287e51c21d9557f821c74dde25eb2...</td>\n",
       "    </tr>\n",
       "  </tbody>\n",
       "</table>\n",
       "</div>"
      ],
      "text/plain": [
       "                                                         id\n",
       "clusters                                                   \n",
       "2         474c4d2ec42aaa7feaacb73a0eec10516c9fae98919c84...\n",
       "2         8a584390e7b2fba5ef33a51b2f8fd63bd202194db3e5ee...\n",
       "2         c5e70d47fe82cf519287e51c21d9557f821c74dde25eb2..."
      ]
     },
     "execution_count": 79,
     "metadata": {},
     "output_type": "execute_result"
    }
   ],
   "source": [
    "ordered_clusters_by_prob = list(df_clusters_values.T.columns)\n",
    "\n",
    "df_mkt_without_portfolio_3.set_index('clusters', inplace=True)\n",
    "recomendation_list_port_3 = df_mkt_without_portfolio_3.loc[ordered_clusters_by_prob]\n",
    "recomendation_list_port_3.head(3)"
   ]
  },
  {
   "cell_type": "markdown",
   "metadata": {},
   "source": [
    "# Analisando as características dos clusters"
   ]
  },
  {
   "cell_type": "markdown",
   "metadata": {},
   "source": [
    "Preparando o ambiente para as análises:\n",
    "\n",
    "Sabendo que a variável 'id' segue sendo a mesma para o dataset recomendation_list_port_ e o dataset do mercado, é possível segmentar o dataset mercado pelos clusters criados, retornando as principais características de cada cluster.\n",
    "\n",
    "Daqui pra baixo, os resultados mais importantes foram também apresentados na apresentaçao de Slides do Demoday, de forma a torná-los mais sucintos."
   ]
  },
  {
   "cell_type": "code",
   "execution_count": 119,
   "metadata": {},
   "outputs": [],
   "source": [
    "#df_mkt_clusters\n",
    "#é o dataframe com os IDs e clusters\n",
    "\n",
    "#df_mkt_index\n",
    "#é o dataframe com as demais colunas\n",
    "\n",
    "df_mkt_c0 = df_mkt_clusters[df_mkt_clusters.clusters == 0]\n",
    "df_mkt_c1 = df_mkt_clusters[df_mkt_clusters.clusters == 1]\n",
    "df_mkt_c2 = df_mkt_clusters[df_mkt_clusters.clusters == 2]\n",
    "df_mkt_c3 = df_mkt_clusters[df_mkt_clusters.clusters == 3]"
   ]
  },
  {
   "cell_type": "code",
   "execution_count": 120,
   "metadata": {},
   "outputs": [],
   "source": [
    "#fazendo o merge\n",
    "\n",
    "df_mkt_total_com_cluster = pd.merge(df_mkt_clusters,df_mkt_index, on='id', how='left')\n",
    "\n",
    "df_mkt_cluster0 = pd.merge(df_mkt_c0,df_mkt_index, on='id', how='left')\n",
    "df_mkt_cluster1 = pd.merge(df_mkt_c1,df_mkt_index, on='id', how='left')\n",
    "df_mkt_cluster2 = pd.merge(df_mkt_c2,df_mkt_index, on='id', how='left')\n",
    "df_mkt_cluster3 = pd.merge(df_mkt_c3,df_mkt_index, on='id', how='left')\n",
    "\n",
    "df_p1_total = pd.merge(df_clusters_portfolio_1, df_mkt_index, on='id', how='left')\n",
    "df_p2_total = pd.merge(df_clusters_portfolio_2, df_mkt_index, on='id', how='left')\n",
    "df_p3_total = pd.merge(df_clusters_portfolio_3, df_mkt_index, on='id', how='left')"
   ]
  },
  {
   "cell_type": "code",
   "execution_count": 121,
   "metadata": {},
   "outputs": [],
   "source": [
    "#vamos normalizar individualmente cada variavel de cada um desses datasets, pra saber quantos % cada valor de cada \n",
    "#variavel representa nele\n",
    "\n",
    "#criando os dataframes\n",
    "df_norm_sg_uf = pd.DataFrame(columns = ['C0','C1','C2','C3'])\n",
    "df_norm_natureza_juridica_macro = pd.DataFrame(columns = ['C0','C1','C2','C3'])\n",
    "df_norm_setor = pd.DataFrame(columns = ['C0','C1','C2','C3'])\n",
    "df_norm_idade_emp_cat = pd.DataFrame(index = [0,1,2,3,4,5], columns = ['C0','C1','C2','C3'])\n",
    "df_norm_de_saude_tributaria = pd.DataFrame(columns = ['C0','C1','C2','C3'])\n",
    "df_norm_de_nivel_atividade = pd.DataFrame(columns = ['C0','C1','C2','C3'])\n",
    "df_norm_de_faixa_faturamento_estimado_grupo = pd.DataFrame(index = [0,1,2,3,4,5,6,7,8,9,10],\n",
    "                                                           columns = ['C0','C1','C2','C3'])\n",
    "\n",
    "#sg_uf\n",
    "df_norm_sg_uf['C0'] = df_mkt_cluster0.sg_uf.value_counts(normalize=True)*100\n",
    "df_norm_sg_uf['C1'] = df_mkt_cluster1.sg_uf.value_counts(normalize=True)*100\n",
    "df_norm_sg_uf['C2'] = df_mkt_cluster2.sg_uf.value_counts(normalize=True)*100\n",
    "df_norm_sg_uf['C3'] = df_mkt_cluster3.sg_uf.value_counts(normalize=True)*100\n",
    "\n",
    "#natureza_juridica_macro\n",
    "df_norm_natureza_juridica_macro['C0'] = df_mkt_cluster0.natureza_juridica_macro.value_counts(normalize=True)*100\n",
    "df_norm_natureza_juridica_macro['C1'] = df_mkt_cluster1.natureza_juridica_macro.value_counts(normalize=True)*100\n",
    "df_norm_natureza_juridica_macro['C2'] = df_mkt_cluster2.natureza_juridica_macro.value_counts(normalize=True)*100\n",
    "df_norm_natureza_juridica_macro['C3'] = df_mkt_cluster3.natureza_juridica_macro.value_counts(normalize=True)*100\n",
    "\n",
    "#setor\n",
    "df_norm_setor['C0'] = df_mkt_cluster0.setor.value_counts(normalize=True)*100\n",
    "df_norm_setor['C1'] = df_mkt_cluster1.setor.value_counts(normalize=True)*100\n",
    "df_norm_setor['C2'] = df_mkt_cluster2.setor.value_counts(normalize=True)*100\n",
    "df_norm_setor['C3'] = df_mkt_cluster3.setor.value_counts(normalize=True)*100\n",
    "\n",
    "#idade_emp_cat\n",
    "df_norm_idade_emp_cat['C0'] = df_mkt_cluster0.idade_emp_cat.value_counts(normalize=True)*100\n",
    "df_norm_idade_emp_cat['C1'] = df_mkt_cluster1.idade_emp_cat.value_counts(normalize=True)*100\n",
    "df_norm_idade_emp_cat['C2'] = df_mkt_cluster2.idade_emp_cat.value_counts(normalize=True)*100\n",
    "df_norm_idade_emp_cat['C3'] = df_mkt_cluster3.idade_emp_cat.value_counts(normalize=True)*100\n",
    "\n",
    "#de_saude_tributaria\n",
    "df_norm_de_saude_tributaria['C0'] = df_mkt_cluster0.de_saude_tributaria.value_counts(normalize=True)*100\n",
    "df_norm_de_saude_tributaria['C1'] = df_mkt_cluster1.de_saude_tributaria.value_counts(normalize=True)*100\n",
    "df_norm_de_saude_tributaria['C2'] = df_mkt_cluster2.de_saude_tributaria.value_counts(normalize=True)*100\n",
    "df_norm_de_saude_tributaria['C3'] = df_mkt_cluster3.de_saude_tributaria.value_counts(normalize=True)*100\n",
    "\n",
    "#de_nivel_atividade\n",
    "df_norm_de_nivel_atividade['C0'] = df_mkt_cluster0.de_nivel_atividade.value_counts(normalize=True)*100\n",
    "df_norm_de_nivel_atividade['C1'] = df_mkt_cluster1.de_nivel_atividade.value_counts(normalize=True)*100\n",
    "df_norm_de_nivel_atividade['C2'] = df_mkt_cluster2.de_nivel_atividade.value_counts(normalize=True)*100\n",
    "df_norm_de_nivel_atividade['C3'] = df_mkt_cluster3.de_nivel_atividade.value_counts(normalize=True)*100\n",
    "\n",
    "#de_faixa_faturamento_estimado_grupo\n",
    "#preciso criar os indices pra esses daqui\n",
    "\n",
    "df_norm_de_faixa_faturamento_estimado_grupo['C2'] = df_mkt_cluster2.de_faixa_faturamento_estimado_grupo.value_counts(normalize=True)*100\n",
    "df_norm_de_faixa_faturamento_estimado_grupo['C0'] = df_mkt_cluster0.de_faixa_faturamento_estimado_grupo.value_counts(normalize=True)*100\n",
    "df_norm_de_faixa_faturamento_estimado_grupo['C1'] = df_mkt_cluster1.de_faixa_faturamento_estimado_grupo.value_counts(normalize=True)*100\n",
    "df_norm_de_faixa_faturamento_estimado_grupo['C3'] = df_mkt_cluster3.de_faixa_faturamento_estimado_grupo.value_counts(normalize=True)*100"
   ]
  },
  {
   "cell_type": "markdown",
   "metadata": {},
   "source": [
    "Visualização em gráfico da porcentagem de cada cluster\n",
    "\n",
    "A única variável que nao será plotada percentualmente é a fl_rm, uma vez que ela é booleana, e um plot absoluto (o qual será apresentado posteriormente) já fornece informaçao suficiente sobre a mesma\n",
    "\n",
    "Fonte: https://medium.com/horadecodar/gr%C3%A1ficos-de-barra-com-matplotlib-85628bfc4351"
   ]
  },
  {
   "cell_type": "code",
   "execution_count": 122,
   "metadata": {},
   "outputs": [
    {
     "data": {
      "text/plain": [
       "<matplotlib.legend.Legend at 0x7f1801788470>"
      ]
     },
     "execution_count": 122,
     "metadata": {},
     "output_type": "execute_result"
    },
    {
     "data": {
      "image/png": "[encoded data removed]",
      "text/plain": [
       "<Figure size 720x360 with 1 Axes>"
      ]
     },
     "metadata": {
      "needs_background": "light"
     },
     "output_type": "display_data"
    }
   ],
   "source": [
    "#sg_uf\n",
    "\n",
    "barWidth = 0.15\n",
    "\n",
    "r1 = np.arange(len(df_norm_sg_uf))\n",
    "r2 = [x + barWidth for x in r1]\n",
    "r3 = [x + barWidth for x in r2]\n",
    "r4 = [x + barWidth for x in r3]\n",
    "\n",
    "plt.figure(figsize=(10,5))\n",
    "\n",
    "plt.bar(r1, df_norm_sg_uf.C0, width=barWidth, label='C0')\n",
    "plt.bar(r2, df_norm_sg_uf.C1, width=barWidth, label='C0')\n",
    "plt.bar(r3, df_norm_sg_uf.C2, width=barWidth, label='C0')\n",
    "plt.bar(r4, df_norm_sg_uf.C3, width=barWidth, label='C0')\n",
    "\n",
    "\n",
    "#adicinando legenda as barras\n",
    "plt.xlabel('Estados')\n",
    "plt.xticks([r + barWidth for r in range(len(df_norm_sg_uf))], \n",
    "          df_norm_sg_uf.index.tolist())\n",
    "plt.ylabel('Porcentagem')\n",
    "plt.title('Porcentagem de cada estado em cada Cluster')\n",
    "\n",
    "plt.legend(df_norm_sg_uf.columns,loc='upper right')"
   ]
  },
  {
   "cell_type": "code",
   "execution_count": 123,
   "metadata": {},
   "outputs": [
    {
     "data": {
      "text/plain": [
       "<matplotlib.legend.Legend at 0x7f18016734e0>"
      ]
     },
     "execution_count": 123,
     "metadata": {},
     "output_type": "execute_result"
    },
    {
     "data": {
      "image/png": "[encoded data removed]",
      "text/plain": [
       "<Figure size 720x360 with 1 Axes>"
      ]
     },
     "metadata": {
      "needs_background": "light"
     },
     "output_type": "display_data"
    }
   ],
   "source": [
    "#natureza_juridica_macro\n",
    "\n",
    "barWidth = 0.15\n",
    "\n",
    "r1 = np.arange(len(df_norm_natureza_juridica_macro))\n",
    "r2 = [x + barWidth for x in r1]\n",
    "r3 = [x + barWidth for x in r2]\n",
    "r4 = [x + barWidth for x in r3]\n",
    "\n",
    "plt.figure(figsize=(10,5))\n",
    "\n",
    "plt.bar(r1, df_norm_natureza_juridica_macro.C0, width=barWidth, label='C0')\n",
    "plt.bar(r2, df_norm_natureza_juridica_macro.C1, width=barWidth, label='C0')\n",
    "plt.bar(r3, df_norm_natureza_juridica_macro.C2, width=barWidth, label='C0')\n",
    "plt.bar(r4, df_norm_natureza_juridica_macro.C3, width=barWidth, label='C0')\n",
    "\n",
    "\n",
    "#adicinando legenda as barras\n",
    "plt.xlabel('Natureza Jurídica')\n",
    "plt.xticks([r + barWidth for r in range(len(df_norm_sg_uf))], \n",
    "          ['OUTROS','ENT. EMPRESARIAIS','ENT. S.F.L.','P.F.s','ADM. PUB.','INST. EXTRATERR.'])\n",
    "plt.ylabel('Porcentagem')\n",
    "plt.title('Porcentagem de tipos de natureza jurídica em cada Cluster')\n",
    "\n",
    "plt.legend(df_norm_natureza_juridica_macro.columns,loc='upper right')"
   ]
  },
  {
   "cell_type": "code",
   "execution_count": 124,
   "metadata": {},
   "outputs": [
    {
     "data": {
      "text/plain": [
       "<matplotlib.legend.Legend at 0x7f1801609978>"
      ]
     },
     "execution_count": 124,
     "metadata": {},
     "output_type": "execute_result"
    },
    {
     "data": {
      "image/png": "[encoded data removed]",
      "text/plain": [
       "<Figure size 720x360 with 1 Axes>"
      ]
     },
     "metadata": {
      "needs_background": "light"
     },
     "output_type": "display_data"
    }
   ],
   "source": [
    "#setor\n",
    "\n",
    "barWidth = 0.15\n",
    "\n",
    "r1 = np.arange(len(df_norm_setor))\n",
    "r2 = [x + barWidth for x in r1]\n",
    "r3 = [x + barWidth for x in r2]\n",
    "r4 = [x + barWidth for x in r3]\n",
    "\n",
    "plt.figure(figsize=(10,5))\n",
    "\n",
    "plt.bar(r1, df_norm_setor.C0, width=barWidth, label='C0')\n",
    "plt.bar(r2, df_norm_setor.C1, width=barWidth, label='C0')\n",
    "plt.bar(r3, df_norm_setor.C2, width=barWidth, label='C0')\n",
    "plt.bar(r4, df_norm_setor.C3, width=barWidth, label='C0')\n",
    "\n",
    "\n",
    "#adicinando legenda as barras\n",
    "plt.xlabel('Setor')\n",
    "plt.xticks([r + barWidth for r in range(len(df_norm_sg_uf))], \n",
    "          df_norm_setor.index.tolist())\n",
    "plt.ylabel('Porcentagem')\n",
    "plt.title('Porcentagem de tipos de setor em cada Cluster')\n",
    "\n",
    "plt.legend(df_norm_setor.columns,loc='upper right')"
   ]
  },
  {
   "cell_type": "code",
   "execution_count": 125,
   "metadata": {},
   "outputs": [
    {
     "data": {
      "text/plain": [
       "<matplotlib.legend.Legend at 0x7f1801532a58>"
      ]
     },
     "execution_count": 125,
     "metadata": {},
     "output_type": "execute_result"
    },
    {
     "data": {
      "image/png": "[encoded data removed]",
      "text/plain": [
       "<Figure size 720x360 with 1 Axes>"
      ]
     },
     "metadata": {
      "needs_background": "light"
     },
     "output_type": "display_data"
    }
   ],
   "source": [
    "#idade_emp_cat\n",
    "\n",
    "barWidth = 0.15\n",
    "\n",
    "r1 = np.arange(len(df_norm_idade_emp_cat))\n",
    "r2 = [x + barWidth for x in r1]\n",
    "r3 = [x + barWidth for x in r2]\n",
    "r4 = [x + barWidth for x in r3]\n",
    "\n",
    "plt.figure(figsize=(10,5))\n",
    "\n",
    "plt.bar(r1, df_norm_idade_emp_cat.C0, width=barWidth, label='C0')\n",
    "plt.bar(r2, df_norm_idade_emp_cat.C1, width=barWidth, label='C0')\n",
    "plt.bar(r3, df_norm_idade_emp_cat.C2, width=barWidth, label='C0')\n",
    "plt.bar(r4, df_norm_idade_emp_cat.C3, width=barWidth, label='C0')\n",
    "\n",
    "\n",
    "#adicinando legenda as barras\n",
    "plt.xlabel('Faixa de idade das empresas')\n",
    "plt.xticks([r + barWidth for r in range(len(df_norm_idade_emp_cat))], \n",
    "         ['<=1','1 a 5','5 a 10','10 a 15','15 a 20','>20'])\n",
    "plt.ylabel('Porcentagem')\n",
    "plt.title('Porcentagem de faixa de idades das empresas em cada Cluster')\n",
    "\n",
    "plt.legend(df_norm_idade_emp_cat.columns,loc='upper right')"
   ]
  },
  {
   "cell_type": "code",
   "execution_count": 126,
   "metadata": {},
   "outputs": [
    {
     "data": {
      "text/plain": [
       "<matplotlib.legend.Legend at 0x7f180145f710>"
      ]
     },
     "execution_count": 126,
     "metadata": {},
     "output_type": "execute_result"
    },
    {
     "data": {
      "image/png": "[encoded data removed]",
      "text/plain": [
       "<Figure size 720x360 with 1 Axes>"
      ]
     },
     "metadata": {
      "needs_background": "light"
     },
     "output_type": "display_data"
    }
   ],
   "source": [
    "#de_saude_tributaria\n",
    "\n",
    "barWidth = 0.15\n",
    "\n",
    "r1 = np.arange(len(df_norm_de_saude_tributaria))\n",
    "r2 = [x + barWidth for x in r1]\n",
    "r3 = [x + barWidth for x in r2]\n",
    "r4 = [x + barWidth for x in r3]\n",
    "\n",
    "plt.figure(figsize=(10,5))\n",
    "\n",
    "plt.bar(r1, df_norm_de_saude_tributaria.C0, width=barWidth, label='C0')\n",
    "plt.bar(r2, df_norm_de_saude_tributaria.C1, width=barWidth, label='C0')\n",
    "plt.bar(r3, df_norm_de_saude_tributaria.C2, width=barWidth, label='C0')\n",
    "plt.bar(r4, df_norm_de_saude_tributaria.C3, width=barWidth, label='C0')\n",
    "\n",
    "\n",
    "#adicinando legenda as barras\n",
    "plt.xlabel('Label de Saúde Tributária')\n",
    "plt.xticks([r + barWidth for r in range(len(df_norm_de_saude_tributaria))], \n",
    "          df_norm_de_saude_tributaria.index.tolist())\n",
    "plt.ylabel('Porcentagem')\n",
    "plt.title('Porcentagem de tipos de saude tributária das empresas em cada Cluster')\n",
    "\n",
    "plt.legend(df_norm_de_saude_tributaria.columns,loc='upper right')"
   ]
  },
  {
   "cell_type": "code",
   "execution_count": 127,
   "metadata": {},
   "outputs": [
    {
     "data": {
      "text/plain": [
       "<matplotlib.legend.Legend at 0x7f18013f62e8>"
      ]
     },
     "execution_count": 127,
     "metadata": {},
     "output_type": "execute_result"
    },
    {
     "data": {
      "image/png": "[encoded data removed]",
      "text/plain": [
       "<Figure size 720x360 with 1 Axes>"
      ]
     },
     "metadata": {
      "needs_background": "light"
     },
     "output_type": "display_data"
    }
   ],
   "source": [
    "#de_nivel_atividade\n",
    "\n",
    "#FAZER DE BARRAS EMPILHADAS TAMBÉM\n",
    "\n",
    "barWidth = 0.15\n",
    "\n",
    "r1 = np.arange(len(df_norm_de_nivel_atividade))\n",
    "r2 = [x + barWidth for x in r1]\n",
    "r3 = [x + barWidth for x in r2]\n",
    "r4 = [x + barWidth for x in r3]\n",
    "\n",
    "plt.figure(figsize=(10,5))\n",
    "\n",
    "plt.bar(r1, df_norm_de_nivel_atividade.C0, width=barWidth, label='C0')\n",
    "plt.bar(r2, df_norm_de_nivel_atividade.C1, width=barWidth, label='C0')\n",
    "plt.bar(r3, df_norm_de_nivel_atividade.C2, width=barWidth, label='C0')\n",
    "plt.bar(r4, df_norm_de_nivel_atividade.C3, width=barWidth, label='C0')\n",
    "\n",
    "\n",
    "#adicinando legenda as barras\n",
    "plt.xlabel('Label de Nível atividade')\n",
    "plt.xticks([r + barWidth for r in range(len(df_norm_de_nivel_atividade))], \n",
    "         ['MEDIA','ALTA','BAIXA','MUITO BAIXA'])\n",
    "plt.ylabel('Porcentagem')\n",
    "plt.title('Porcentagem de nível de atividade das empresas em cada Cluster')\n",
    "\n",
    "plt.legend(df_norm_de_nivel_atividade.columns,loc='upper right')"
   ]
  },
  {
   "cell_type": "code",
   "execution_count": 128,
   "metadata": {},
   "outputs": [
    {
     "data": {
      "text/plain": [
       "<matplotlib.legend.Legend at 0x7f18012e7240>"
      ]
     },
     "execution_count": 128,
     "metadata": {},
     "output_type": "execute_result"
    },
    {
     "data": {
      "image/png": "[encoded data removed]",
      "text/plain": [
       "<Figure size 720x360 with 1 Axes>"
      ]
     },
     "metadata": {
      "needs_background": "light"
     },
     "output_type": "display_data"
    }
   ],
   "source": [
    "#de_faixa_faturamento_estimado_grupo\n",
    "\n",
    "barWidth = 0.15\n",
    "\n",
    "r1 = np.arange(len(df_norm_de_faixa_faturamento_estimado_grupo))\n",
    "r2 = [x + barWidth for x in r1]\n",
    "r3 = [x + barWidth for x in r2]\n",
    "r4 = [x + barWidth for x in r3]\n",
    "\n",
    "plt.figure(figsize=(10,5))\n",
    "\n",
    "plt.bar(r1, df_norm_de_faixa_faturamento_estimado_grupo.C0, width=barWidth, label='C0')\n",
    "plt.bar(r2, df_norm_de_faixa_faturamento_estimado_grupo.C1, width=barWidth, label='C0')\n",
    "plt.bar(r3, df_norm_de_faixa_faturamento_estimado_grupo.C2, width=barWidth, label='C0')\n",
    "plt.bar(r4, df_norm_de_faixa_faturamento_estimado_grupo.C3, width=barWidth, label='C0')\n",
    "\n",
    "\n",
    "# #legenda:\n",
    "# 'ATE R$ 81.000,00', 'de_faixa_faturamento_estimado_grupo'] = 0\n",
    "# 'DE R$ 81.000,01 A R$ 360.000,00', 'de_faixa_faturamento_estimado_grupo'] = 1\n",
    "# 'DE R$ 360.000,01 A R$ 1.500.000,00', 'de_faixa_faturamento_estimado_grupo'] = 2\n",
    "# 'DE R$ 1.500.000,01 A R$ 4.800.000,00', 'de_faixa_faturamento_estimado_grupo'] = 3\n",
    "# 'DE R$ 4.800.000,01 A R$ 10.000.000,00', 'de_faixa_faturamento_estimado_grupo'] = 4\n",
    "# 'DE R$ 10.000.000,01 A R$ 30.000.000,00', 'de_faixa_faturamento_estimado_grupo'] = 5\n",
    "# 'DE R$ 30.000.000,01 A R$ 100.000.000,00', 'de_faixa_faturamento_estimado_grupo'] = 6\n",
    "# 'DE R$ 100.000.000,01 A R$ 300.000.000,00', 'de_faixa_faturamento_estimado_grupo'] = 7\n",
    "# 'DE R$ 300.000.000,01 A R$ 500.000.000,00', 'de_faixa_faturamento_estimado_grupo'] = 8\n",
    "# 'DE R$ 500.000.000,01 A 1 BILHAO DE REAIS', 'de_faixa_faturamento_estimado_grupo'] = 9\n",
    "# 'ACIMA DE 1 BILHAO DE REAIS', 'de_faixa_faturamento_estimado_grupo'] = 10\n",
    "\n",
    "#adicinando legenda as barras\n",
    "plt.xlabel('Label de faturamento estimado')\n",
    "plt.xticks([r + barWidth for r in range(len(df_norm_de_faixa_faturamento_estimado_grupo))], \n",
    "          df_norm_de_faixa_faturamento_estimado_grupo.index.tolist())\n",
    "plt.ylabel('Porcentagem')\n",
    "plt.title('Porcentagem de faixas de faturamento estimadas das empresas em cada Cluster')\n",
    "\n",
    "plt.legend(df_norm_de_faixa_faturamento_estimado_grupo.columns,loc='upper right')"
   ]
  },
  {
   "cell_type": "markdown",
   "metadata": {},
   "source": [
    "Conclusões:\n",
    "    Pela análise visual dos gráficos, conseguimos ver que nem todas as features diferenciam bem os clusters. Entretanto, algumas geram boas distinções, e por isso listamos elas abaixo, com destaque para as duas primeiras:\n",
    "    \n",
    "        -Faturamento estimado das empresas\n",
    "        -Faixa de idade das empresas\n",
    "        -Saúde tributária das empresas\n",
    "        -Natureza jurídica (macro) das empresas\n",
    "        \n",
    "Uma vez que estes gráficos apenas nos dão entendimento do percentual de cada valor único das features por cluster, não conseguimos comparar o valor absoluto entre os valores das features. Por este motivo, abaixo faremos gráficos com a mesma separação, mas sem normalizar os dados, de forma a termos entendimento de qual o volume que cada valor representa na feature, e também da diferença de volume entre os clusters em si.       "
   ]
  },
  {
   "cell_type": "code",
   "execution_count": 129,
   "metadata": {},
   "outputs": [
    {
     "data": {
      "text/plain": [
       "Text(0.5, 0.98, 'sg_uf')"
      ]
     },
     "execution_count": 129,
     "metadata": {},
     "output_type": "execute_result"
    },
    {
     "data": {
      "image/png": "[encoded data removed]",
      "text/plain": [
       "<Figure size 1152x648 with 1 Axes>"
      ]
     },
     "metadata": {
      "needs_background": "light"
     },
     "output_type": "display_data"
    }
   ],
   "source": [
    "plt.figure(figsize=(16, 9))\n",
    "sns.countplot(x='sg_uf', data=df_mkt_total_com_cluster, hue='clusters');\n",
    "\n",
    "plt.suptitle('sg_uf')"
   ]
  },
  {
   "cell_type": "code",
   "execution_count": 130,
   "metadata": {},
   "outputs": [
    {
     "data": {
      "text/plain": [
       "Text(0.5, 0.98, 'natureza_juridica_macro')"
      ]
     },
     "execution_count": 130,
     "metadata": {},
     "output_type": "execute_result"
    },
    {
     "data": {
      "image/png": "[encoded data removed]",
      "text/plain": [
       "<Figure size 1152x648 with 1 Axes>"
      ]
     },
     "metadata": {
      "needs_background": "light"
     },
     "output_type": "display_data"
    }
   ],
   "source": [
    "plt.figure(figsize=(16, 9))\n",
    "sns.countplot(y='natureza_juridica_macro', data=df_mkt_total_com_cluster, hue='clusters');\n",
    "\n",
    "plt.suptitle('natureza_juridica_macro')"
   ]
  },
  {
   "cell_type": "code",
   "execution_count": 131,
   "metadata": {},
   "outputs": [
    {
     "data": {
      "text/plain": [
       "Text(0.5, 0.98, 'setor')"
      ]
     },
     "execution_count": 131,
     "metadata": {},
     "output_type": "execute_result"
    },
    {
     "data": {
      "image/png": "[encoded data removed]",
      "text/plain": [
       "<Figure size 1152x648 with 1 Axes>"
      ]
     },
     "metadata": {
      "needs_background": "light"
     },
     "output_type": "display_data"
    }
   ],
   "source": [
    "plt.figure(figsize=(16, 9))\n",
    "sns.countplot(x='setor', data=df_mkt_total_com_cluster, hue='clusters');\n",
    "plt.suptitle('setor')"
   ]
  },
  {
   "cell_type": "code",
   "execution_count": 132,
   "metadata": {},
   "outputs": [
    {
     "data": {
      "text/plain": [
       "Text(0.5, 0.98, 'idade_emp_cat')"
      ]
     },
     "execution_count": 132,
     "metadata": {},
     "output_type": "execute_result"
    },
    {
     "data": {
      "image/png": "[encoded data removed]",
      "text/plain": [
       "<Figure size 1152x648 with 1 Axes>"
      ]
     },
     "metadata": {
      "needs_background": "light"
     },
     "output_type": "display_data"
    }
   ],
   "source": [
    "plt.figure(figsize=(16, 9))\n",
    "sns.countplot(x='idade_emp_cat', data=df_mkt_total_com_cluster, hue='clusters');\n",
    "\n",
    "plt.suptitle('idade_emp_cat')"
   ]
  },
  {
   "cell_type": "code",
   "execution_count": 133,
   "metadata": {},
   "outputs": [
    {
     "data": {
      "text/plain": [
       "Text(0.5, 0.98, 'de_saude_tributaria')"
      ]
     },
     "execution_count": 133,
     "metadata": {},
     "output_type": "execute_result"
    },
    {
     "data": {
      "image/png": "[encoded data removed]",
      "text/plain": [
       "<Figure size 1152x648 with 1 Axes>"
      ]
     },
     "metadata": {
      "needs_background": "light"
     },
     "output_type": "display_data"
    }
   ],
   "source": [
    "plt.figure(figsize=(16, 9))\n",
    "sns.countplot(x='de_saude_tributaria', data=df_mkt_total_com_cluster, hue='clusters');\n",
    "\n",
    "plt.suptitle('de_saude_tributaria')"
   ]
  },
  {
   "cell_type": "code",
   "execution_count": 134,
   "metadata": {},
   "outputs": [
    {
     "data": {
      "text/plain": [
       "Text(0.5, 0.98, 'de_nivel_atividade')"
      ]
     },
     "execution_count": 134,
     "metadata": {},
     "output_type": "execute_result"
    },
    {
     "data": {
      "image/png": "[encoded data removed]",
      "text/plain": [
       "<Figure size 1152x648 with 1 Axes>"
      ]
     },
     "metadata": {
      "needs_background": "light"
     },
     "output_type": "display_data"
    }
   ],
   "source": [
    "plt.figure(figsize=(16, 9))\n",
    "sns.countplot(x='de_nivel_atividade', data=df_mkt_total_com_cluster, hue='clusters');\n",
    "\n",
    "plt.suptitle('de_nivel_atividade')"
   ]
  },
  {
   "cell_type": "code",
   "execution_count": 135,
   "metadata": {},
   "outputs": [
    {
     "data": {
      "text/plain": [
       "Text(0.5, 0.98, 'de_faixa_faturamento_estimado_grupo')"
      ]
     },
     "execution_count": 135,
     "metadata": {},
     "output_type": "execute_result"
    },
    {
     "data": {
      "image/png": "[encoded data removed]",
      "text/plain": [
       "<Figure size 1152x648 with 1 Axes>"
      ]
     },
     "metadata": {
      "needs_background": "light"
     },
     "output_type": "display_data"
    }
   ],
   "source": [
    "plt.figure(figsize=(16, 9))\n",
    "sns.countplot(x='de_faixa_faturamento_estimado_grupo', data=df_mkt_total_com_cluster, hue='clusters');\n",
    "\n",
    "plt.suptitle('de_faixa_faturamento_estimado_grupo')"
   ]
  },
  {
   "cell_type": "code",
   "execution_count": 136,
   "metadata": {},
   "outputs": [
    {
     "data": {
      "text/plain": [
       "Text(0.5, 0.98, 'fl_rm')"
      ]
     },
     "execution_count": 136,
     "metadata": {},
     "output_type": "execute_result"
    },
    {
     "data": {
      "image/png": "[encoded data removed]",
      "text/plain": [
       "<Figure size 1152x648 with 1 Axes>"
      ]
     },
     "metadata": {
      "needs_background": "light"
     },
     "output_type": "display_data"
    }
   ],
   "source": [
    "plt.figure(figsize=(16, 9))\n",
    "sns.countplot(x='fl_rm', data=df_mkt_total_com_cluster, hue='clusters');\n",
    "\n",
    "plt.suptitle('fl_rm')"
   ]
  },
  {
   "cell_type": "markdown",
   "metadata": {},
   "source": [
    "Com estas análises e gráficos, somos capazes de gerar insights de negócio para as empresas que contrataram nosso serviço.\n",
    "\n",
    "Antes de apresentar os insights, é valido dizer que também analisamos as distribuições de dos valores das features separadamente em cada cluster. Decidimos não mostrar o resultado delas, uma vez que elas não dão nenhuma informação a mais em relação ao que já foi apresentado. De toda a forma, o código para executar os gráficos segue abaixo, comentado, para caso haja interesse nesse tipo de visualização."
   ]
  },
  {
   "cell_type": "code",
   "execution_count": 137,
   "metadata": {},
   "outputs": [],
   "source": [
    "# plt.figure(figsize=(16, 4))\n",
    "\n",
    "# plt.subplot(141)\n",
    "# sns.countplot(y='sg_uf', data=df_mkt_cluster0_, color=\"c\");\n",
    "\n",
    "# plt.subplot(142)\n",
    "# sns.countplot(y='sg_uf', data=df_mkt_cluster1_, color=\"c\");\n",
    "\n",
    "# plt.subplot(143)\n",
    "# sns.countplot(y='sg_uf', data=df_mkt_cluster2_, color=\"c\");\n",
    "\n",
    "# plt.subplot(144)\n",
    "# sns.countplot(y='sg_uf', data=df_mkt_cluster3_, color=\"c\");\n",
    "\n",
    "# plt.suptitle('sg_uf')\n",
    "# plt.show()"
   ]
  },
  {
   "cell_type": "code",
   "execution_count": 138,
   "metadata": {},
   "outputs": [],
   "source": [
    "# plt.figure(figsize=(16, 4))\n",
    "\n",
    "# plt.subplot(141)\n",
    "# sns.countplot(y='natureza_juridica_macro', data=df_mkt_cluster0_, color=\"c\");\n",
    "\n",
    "# plt.subplot(142)\n",
    "# sns.countplot(y='natureza_juridica_macro', data=df_mkt_cluster1_, color=\"c\");\n",
    "\n",
    "# plt.subplot(143)\n",
    "# sns.countplot(y='natureza_juridica_macro', data=df_mkt_cluster2_, color=\"c\");\n",
    "\n",
    "# plt.subplot(144)\n",
    "# sns.countplot(y='natureza_juridica_macro', data=df_mkt_cluster3_, color=\"c\");\n",
    "\n",
    "# plt.suptitle('natureza_juridica_macro')\n",
    "# plt.show()"
   ]
  },
  {
   "cell_type": "code",
   "execution_count": 139,
   "metadata": {},
   "outputs": [],
   "source": [
    "# plt.figure(figsize=(16, 4))\n",
    "\n",
    "# plt.subplot(141)\n",
    "# sns.countplot(y='setor', data=df_mkt_cluster0_, color=\"c\");\n",
    "\n",
    "# plt.subplot(142)\n",
    "# sns.countplot(y='setor', data=df_mkt_cluster1_, color=\"c\");\n",
    "\n",
    "# plt.subplot(143)\n",
    "# sns.countplot(y='setor', data=df_mkt_cluster2_, color=\"c\");\n",
    "\n",
    "# plt.subplot(144)\n",
    "# sns.countplot(y='setor', data=df_mkt_cluster3_, color=\"c\");\n",
    "\n",
    "# plt.suptitle('setor')\n",
    "# plt.show()\n"
   ]
  },
  {
   "cell_type": "code",
   "execution_count": 140,
   "metadata": {},
   "outputs": [],
   "source": [
    "# plt.figure(figsize=(16, 4))\n",
    "\n",
    "# plt.subplot(141)\n",
    "# sns.countplot(y='fl_rm', data=df_mkt_cluster0_, color=\"c\");\n",
    "\n",
    "# plt.subplot(142)\n",
    "# sns.countplot(y='fl_rm', data=df_mkt_cluster1_, color=\"c\");\n",
    "\n",
    "# plt.subplot(143)\n",
    "# sns.countplot(y='fl_rm', data=df_mkt_cluster2_, color=\"c\");\n",
    "\n",
    "# plt.subplot(144)\n",
    "# sns.countplot(y='fl_rm', data=df_mkt_cluster3_, color=\"c\");\n",
    "\n",
    "# plt.suptitle('fl_rm')\n",
    "# plt.show()"
   ]
  },
  {
   "cell_type": "code",
   "execution_count": 141,
   "metadata": {},
   "outputs": [],
   "source": [
    "# plt.figure(figsize=(16, 4))\n",
    "\n",
    "# plt.subplot(141)\n",
    "# sns.countplot(y='de_saude_tributaria', data=df_mkt_cluster0_, color=\"c\");\n",
    "\n",
    "# plt.subplot(142)\n",
    "# sns.countplot(y='de_saude_tributaria', data=df_mkt_cluster1_, color=\"c\");\n",
    "\n",
    "# plt.subplot(143)\n",
    "# sns.countplot(y='de_saude_tributaria', data=df_mkt_cluster2_, color=\"c\");\n",
    "\n",
    "# plt.subplot(144)\n",
    "# sns.countplot(y='de_saude_tributaria', data=df_mkt_cluster3_, color=\"c\");\n",
    "\n",
    "# plt.suptitle('de_saude_tributaria')\n",
    "# plt.show()"
   ]
  },
  {
   "cell_type": "code",
   "execution_count": 142,
   "metadata": {},
   "outputs": [],
   "source": [
    "# plt.figure(figsize=(16, 4))\n",
    "\n",
    "# plt.subplot(141)\n",
    "# plt.hist(df_mkt_cluster0_['de_faixa_faturamento_estimado_grupo'])\n",
    "\n",
    "# plt.subplot(142)\n",
    "# plt.hist(df_mkt_cluster1_['de_faixa_faturamento_estimado_grupo'])\n",
    "\n",
    "# plt.subplot(143)\n",
    "# plt.hist(df_mkt_cluster2_['de_faixa_faturamento_estimado_grupo'])\n",
    "\n",
    "# plt.subplot(144)\n",
    "# plt.hist(df_mkt_cluster3_['de_faixa_faturamento_estimado_grupo'])\n",
    "\n",
    "# plt.suptitle('de_faixa_faturamento_estimado_grupo')\n",
    "# plt.show()"
   ]
  },
  {
   "cell_type": "code",
   "execution_count": 143,
   "metadata": {},
   "outputs": [],
   "source": [
    "# plt.figure(figsize=(16, 4))\n",
    "\n",
    "# plt.subplot(141)\n",
    "# plt.hist(df_mkt_cluster0_['de_nivel_atividade'])\n",
    "\n",
    "# plt.subplot(142)\n",
    "# plt.hist(df_mkt_cluster1_['de_nivel_atividade'])\n",
    "\n",
    "# plt.subplot(143)\n",
    "# plt.hist(df_mkt_cluster2_['de_nivel_atividade'])\n",
    "\n",
    "# plt.subplot(144)\n",
    "# plt.hist(df_mkt_cluster3_['de_nivel_atividade'])\n",
    "\n",
    "# plt.suptitle('de_nivel_atividade')\n",
    "# plt.show()"
   ]
  },
  {
   "cell_type": "code",
   "execution_count": 144,
   "metadata": {},
   "outputs": [],
   "source": [
    "# plt.figure(figsize=(16, 4))\n",
    "\n",
    "# plt.subplot(141)\n",
    "# plt.hist(df_mkt_cluster0_['idade_emp_cat'])\n",
    "\n",
    "# plt.subplot(142)\n",
    "# plt.hist(df_mkt_cluster1_['idade_emp_cat'])\n",
    "\n",
    "# plt.subplot(143)\n",
    "# plt.hist(df_mkt_cluster2_['idade_emp_cat'])\n",
    "\n",
    "# plt.subplot(144)\n",
    "# plt.hist(df_mkt_cluster3_['idade_emp_cat'])\n",
    "\n",
    "# plt.suptitle('idade_emp_cat')\n",
    "# plt.show()"
   ]
  },
  {
   "cell_type": "markdown",
   "metadata": {},
   "source": [
    "# Insights de Negócio "
   ]
  },
  {
   "cell_type": "markdown",
   "metadata": {},
   "source": [
    "Vamos primeiro preparar o ambiente para gerar os insights. Para isto, vamos criar algumas variáveis auxiliares."
   ]
  },
  {
   "cell_type": "code",
   "execution_count": 145,
   "metadata": {},
   "outputs": [],
   "source": [
    "p1_qt_emp_cluster = df_clusters_portfolio_1.clusters.value_counts()\n",
    "p2_qt_emp_cluster = df_clusters_portfolio_2.clusters.value_counts()\n",
    "p3_qt_emp_cluster = df_clusters_portfolio_3.clusters.value_counts()\n",
    "\n",
    "mkt_qt_emp_cluster_0 = df_mkt_cluster0.clusters.value_counts()\n",
    "mkt_qt_emp_cluster_1 = df_mkt_cluster1.clusters.value_counts()\n",
    "mkt_qt_emp_cluster_2 = df_mkt_cluster2.clusters.value_counts()\n",
    "mkt_qt_emp_cluster_3 = df_mkt_cluster3.clusters.value_counts()"
   ]
  },
  {
   "cell_type": "markdown",
   "metadata": {},
   "source": [
    "# Análise do Portfolio 2 (P2)"
   ]
  },
  {
   "cell_type": "code",
   "execution_count": 146,
   "metadata": {
    "scrolled": true
   },
   "outputs": [
    {
     "name": "stdout",
     "output_type": "stream",
     "text": [
      "Quantidade de empresas que estão presentes no P2, por cluster:\n",
      "2    566\n",
      "Name: clusters, dtype: int64\n",
      "\n",
      "\n",
      "Quantidade de empresas que estão presentes no mercado que são C2:\n",
      "2    15333\n",
      "Name: clusters, dtype: int64\n",
      "\n",
      "\n",
      "Porcentagem de quantas empresas no mercado que são C2 já são clientes do P2:\n",
      "2    3.691385\n",
      "Name: clusters, dtype: float64\n",
      "n\n",
      "Porcentagem de qual o crescimento que P2 terá se todas as empresas no mercado que são C2 virarem clientes:\n",
      "2    15329.0\n",
      "Name: clusters, dtype: float64 1\n",
      "\n",
      "\n",
      "Quantidade de empresas que estão presentes no mercado que são C2, divididas por range de idade:\n",
      "idade_emp_cat\n",
      "0     583\n",
      "1    2960\n",
      "2    3971\n",
      "3    2626\n",
      "4    1504\n",
      "5    3689\n",
      "Name: clusters, dtype: int64\n",
      "\n",
      "\n",
      "Quantidade de empresas que são do P2, divididas por idade:\n",
      "idade_emp_cat\n",
      "3     98\n",
      "4     89\n",
      "5    379\n",
      "Name: clusters, dtype: int64\n",
      "\n",
      "\n",
      "Porcentagem de quantas empresas no mercado que são C2 já são clientes do P2, dividido por por range de idade:\n",
      "idade_emp_cat\n",
      "0          NaN\n",
      "1          NaN\n",
      "2          NaN\n",
      "3     3.731912\n",
      "4     5.917553\n",
      "5    10.273787\n",
      "Name: clusters, dtype: float64\n",
      "\n",
      "\n",
      "Potencial de crescimento, em %, do P2, só considerando quem do mercado é C2, dividido por por range de idade:\n",
      "idade_emp_cat\n",
      "0       NaN\n",
      "1       NaN\n",
      "2       NaN\n",
      "3    2580.0\n",
      "4    1590.0\n",
      "5     873.0\n",
      "Name: clusters, dtype: float64 1\n",
      "\n",
      "\n",
      "Quantidade de empresas que estão presentes no mercado que são C2, divididas por range de idade e faturamento estimado:\n",
      "idade_emp_cat  de_faixa_faturamento_estimado_grupo\n",
      "0              5                                       158\n",
      "               6                                       145\n",
      "               7                                        66\n",
      "               8                                        56\n",
      "               9                                        40\n",
      "               10                                      118\n",
      "1              4                                       534\n",
      "               5                                       724\n",
      "               6                                       509\n",
      "               7                                       387\n",
      "               8                                       119\n",
      "               9                                       139\n",
      "               10                                      548\n",
      "2              4                                       933\n",
      "               5                                       882\n",
      "               6                                       738\n",
      "               7                                       331\n",
      "               8                                       125\n",
      "               9                                       158\n",
      "               10                                      804\n",
      "3              4                                       608\n",
      "               5                                       553\n",
      "               6                                       514\n",
      "               7                                       206\n",
      "               8                                        61\n",
      "               9                                        94\n",
      "               10                                      590\n",
      "4              4                                       205\n",
      "               5                                       353\n",
      "               6                                       324\n",
      "               7                                       155\n",
      "               8                                        41\n",
      "               9                                        47\n",
      "               10                                      379\n",
      "5              5                                       928\n",
      "               6                                       831\n",
      "               7                                       438\n",
      "               8                                       120\n",
      "               9                                       198\n",
      "               10                                     1174\n",
      "Name: clusters, dtype: int64\n",
      "\n",
      "\n",
      "Quantidade de empresas que são do P2, divididas por faturamento estimado e idade:\n",
      "idade_emp_cat  de_faixa_faturamento_estimado_grupo\n",
      "3              5                                       52\n",
      "               6                                       29\n",
      "               7                                       11\n",
      "               8                                        1\n",
      "               9                                        3\n",
      "               10                                       2\n",
      "4              5                                       45\n",
      "               6                                       33\n",
      "               7                                        9\n",
      "               8                                        1\n",
      "               10                                       1\n",
      "5              5                                      150\n",
      "               6                                      148\n",
      "               7                                       58\n",
      "               8                                       12\n",
      "               9                                        6\n",
      "               10                                       5\n",
      "Name: clusters, dtype: int64\n",
      "\n",
      "\n",
      "Porcentagem de quantas empresas no mercado que são C2 já são clientes do P2, dividido por por range de idade:\n",
      "idade_emp_cat  de_faixa_faturamento_estimado_grupo\n",
      "0              5                                            NaN\n",
      "               6                                            NaN\n",
      "               7                                            NaN\n",
      "               8                                            NaN\n",
      "               9                                            NaN\n",
      "               10                                           NaN\n",
      "1              4                                            NaN\n",
      "               5                                            NaN\n",
      "               6                                            NaN\n",
      "               7                                            NaN\n",
      "               8                                            NaN\n",
      "               9                                            NaN\n",
      "               10                                           NaN\n",
      "2              4                                            NaN\n",
      "               5                                            NaN\n",
      "               6                                            NaN\n",
      "               7                                            NaN\n",
      "               8                                            NaN\n",
      "               9                                            NaN\n",
      "               10                                           NaN\n",
      "3              4                                            NaN\n",
      "               5                                       9.403255\n",
      "               6                                       5.642023\n",
      "               7                                       5.339806\n",
      "               8                                       1.639344\n",
      "               9                                       3.191489\n",
      "               10                                      0.338983\n",
      "4              4                                            NaN\n",
      "               5                                      12.747875\n",
      "               6                                      10.185185\n",
      "               7                                       5.806452\n",
      "               8                                       2.439024\n",
      "               9                                            NaN\n",
      "               10                                      0.263852\n",
      "5              5                                      16.163793\n",
      "               6                                      17.809868\n",
      "               7                                      13.242009\n",
      "               8                                      10.000000\n",
      "               9                                       3.030303\n",
      "               10                                      0.425894\n",
      "Name: clusters, dtype: float64\n",
      "\n",
      "\n",
      "Potencial de crescimento, em %, do P2, só considerando quem do mercado é C2, dividido por por range de idade:\n",
      "idade_emp_cat  de_faixa_faturamento_estimado_grupo\n",
      "0              5                                          NaN\n",
      "               6                                          NaN\n",
      "               7                                          NaN\n",
      "               8                                          NaN\n",
      "               9                                          NaN\n",
      "               10                                         NaN\n",
      "1              4                                          NaN\n",
      "               5                                          NaN\n",
      "               6                                          NaN\n",
      "               7                                          NaN\n",
      "               8                                          NaN\n",
      "               9                                          NaN\n",
      "               10                                         NaN\n",
      "2              4                                          NaN\n",
      "               5                                          NaN\n",
      "               6                                          NaN\n",
      "               7                                          NaN\n",
      "               8                                          NaN\n",
      "               9                                          NaN\n",
      "               10                                         NaN\n",
      "3              4                                          NaN\n",
      "               5                                        963.0\n",
      "               6                                       1672.0\n",
      "               7                                       1773.0\n",
      "               8                                       6000.0\n",
      "               9                                       3033.0\n",
      "               10                                     29400.0\n",
      "4              4                                          NaN\n",
      "               5                                        684.0\n",
      "               6                                        882.0\n",
      "               7                                       1622.0\n",
      "               8                                       4000.0\n",
      "               9                                          NaN\n",
      "               10                                     37800.0\n",
      "5              5                                        519.0\n",
      "               6                                        461.0\n",
      "               7                                        655.0\n",
      "               8                                        900.0\n",
      "               9                                       3200.0\n",
      "               10                                     23380.0\n",
      "Name: clusters, dtype: float64 1\n",
      "\n",
      "\n"
     ]
    }
   ],
   "source": [
    "print('Quantidade de empresas que estão presentes no P2, por cluster:')\n",
    "print(p2_qt_emp_cluster)\n",
    "print('\\n')\n",
    "\n",
    "print('Quantidade de empresas que estão presentes no mercado que são C2:')\n",
    "print(mkt_qt_emp_cluster_2)\n",
    "print('\\n')\n",
    "\n",
    "print('Porcentagem de quantas empresas no mercado que são C2 já são clientes do P2:')\n",
    "print(p2_qt_emp_cluster/mkt_qt_emp_cluster_2*100)\n",
    "print('n')\n",
    "\n",
    "print('Porcentagem de qual o crescimento que P2 terá se todas as empresas no mercado que são C2 virarem clientes:')\n",
    "print(round((mkt_qt_emp_cluster_2)-(p2_qt_emp_cluster)/mkt_qt_emp_cluster_2*100),1)\n",
    "print('\\n')\n",
    "\n",
    "#Agora, brincando com possibilidades\n",
    "print('Quantidade de empresas que estão presentes no mercado que são C2, divididas por range de idade:')\n",
    "print(df_mkt_cluster2.groupby(['idade_emp_cat']).clusters.count())\n",
    "print('\\n')\n",
    "\n",
    "print('Quantidade de empresas que são do P2, divididas por idade:')\n",
    "print(df_p2_total.groupby(['idade_emp_cat']).clusters.count())\n",
    "print('\\n')\n",
    "\n",
    "print('Porcentagem de quantas empresas no mercado que são C2 já são clientes do P2, dividido por por range de idade:')\n",
    "print(df_p2_total.groupby(['idade_emp_cat']).clusters.count()/df_mkt_cluster2.groupby(['idade_emp_cat']).clusters.count()*100)\n",
    "print('\\n')\n",
    "\n",
    "print('Potencial de crescimento, em %, do P2, só considerando quem do mercado é C2, dividido por por range de idade:')\n",
    "print(round((df_mkt_cluster2.groupby(['idade_emp_cat']).clusters.count()-df_p2_total.groupby(['idade_emp_cat']).clusters.count())/(df_p2_total.groupby(['idade_emp_cat']).clusters.count())*100),1)\n",
    "print('\\n')\n",
    "\n",
    "#Brincando mais ainda\n",
    "print('Quantidade de empresas que estão presentes no mercado que são C2, divididas por range de idade e faturamento estimado:')\n",
    "print(df_mkt_cluster2.groupby(['idade_emp_cat','de_faixa_faturamento_estimado_grupo']).clusters.count())\n",
    "print('\\n')\n",
    "\n",
    "print('Quantidade de empresas que são do P2, divididas por faturamento estimado e idade:')\n",
    "print(df_p2_total.groupby(['idade_emp_cat','de_faixa_faturamento_estimado_grupo']).clusters.count())\n",
    "print('\\n')\n",
    "\n",
    "print('Porcentagem de quantas empresas no mercado que são C2 já são clientes do P2, dividido por por range de idade:')\n",
    "print(df_p2_total.groupby(['idade_emp_cat','de_faixa_faturamento_estimado_grupo']).clusters.count()/df_mkt_cluster2.groupby(['idade_emp_cat','de_faixa_faturamento_estimado_grupo']).clusters.count()*100)\n",
    "print('\\n')\n",
    "\n",
    "print('Potencial de crescimento, em %, do P2, só considerando quem do mercado é C2, dividido por por range de idade:')\n",
    "print(round((df_mkt_cluster2.groupby(['idade_emp_cat','de_faixa_faturamento_estimado_grupo']).clusters.count()-df_p2_total.groupby(['idade_emp_cat','de_faixa_faturamento_estimado_grupo']).clusters.count())/(df_p2_total.groupby(['idade_emp_cat','de_faixa_faturamento_estimado_grupo']).clusters.count())*100),1)\n",
    "print('\\n')"
   ]
  },
  {
   "cell_type": "markdown",
   "metadata": {},
   "source": [
    "# Análise do Portfolio 3 (P3)"
   ]
  },
  {
   "cell_type": "code",
   "execution_count": 147,
   "metadata": {
    "scrolled": false
   },
   "outputs": [
    {
     "name": "stdout",
     "output_type": "stream",
     "text": [
      "Quantidade de empresas que estão presentes no P3, por cluster:\n",
      "2    265\n",
      "Name: clusters, dtype: int64\n",
      "\n",
      "\n",
      "Quantidade de empresas que estão presentes no mercado que são C2:\n",
      "2    15333\n",
      "Name: clusters, dtype: int64\n",
      "\n",
      "\n",
      "Porcentagem de quantas empresas no mercado que são C2 já são clientes do P3:\n",
      "2    1.728298\n",
      "Name: clusters, dtype: float64\n",
      "\n",
      "\n",
      "Porcentagem de qual o crescimento que P3 terá se todas as empresas no mercado que são C2 virarem clientes:\n",
      "2    15331.0\n",
      "Name: clusters, dtype: float64 1\n",
      "\n",
      "\n",
      "Quantidade de empresas que estão presentes no mercado que são C2, divididas por faturamento estimado:\n",
      "de_faixa_faturamento_estimado_grupo\n",
      "4     2280\n",
      "5     3598\n",
      "6     3061\n",
      "7     1583\n",
      "8      522\n",
      "9      676\n",
      "10    3613\n",
      "Name: clusters, dtype: int64\n",
      "\n",
      "\n",
      "Quantidade de empresas que são do P3, divididas por faturamento estimado:\n",
      "de_faixa_faturamento_estimado_grupo\n",
      "5      59\n",
      "6     135\n",
      "7      54\n",
      "8       7\n",
      "9       7\n",
      "10      3\n",
      "Name: clusters, dtype: int64\n",
      "\n",
      "\n",
      "Porcentagem de quantas empresas no mercado que são C2 já são clientes do P3, dividido por faturamento estimado:\n",
      "de_faixa_faturamento_estimado_grupo\n",
      "4          NaN\n",
      "5     1.639800\n",
      "6     4.410323\n",
      "7     3.411244\n",
      "8     1.340996\n",
      "9     1.035503\n",
      "10    0.083033\n",
      "Name: clusters, dtype: float64\n",
      "\n",
      "\n",
      "Potencial de crescimento, em %, do P3, só considerando quem do mercado é C2, dividido por faturamento estimado:\n",
      "de_faixa_faturamento_estimado_grupo\n",
      "4          NaN\n",
      "5       5998.0\n",
      "6       2167.0\n",
      "7       2831.0\n",
      "8       7357.0\n",
      "9       9557.0\n",
      "10    120333.0\n",
      "Name: clusters, dtype: float64 1\n",
      "\n",
      "\n",
      "Quantidade de empresas que estão presentes no mercado que são C2, divididas por range de idade e faturamento estimado:\n",
      "idade_emp_cat  de_faixa_faturamento_estimado_grupo\n",
      "0              5                                       158\n",
      "               6                                       145\n",
      "               7                                        66\n",
      "               8                                        56\n",
      "               9                                        40\n",
      "               10                                      118\n",
      "1              4                                       534\n",
      "               5                                       724\n",
      "               6                                       509\n",
      "               7                                       387\n",
      "               8                                       119\n",
      "               9                                       139\n",
      "               10                                      548\n",
      "2              4                                       933\n",
      "               5                                       882\n",
      "               6                                       738\n",
      "               7                                       331\n",
      "               8                                       125\n",
      "               9                                       158\n",
      "               10                                      804\n",
      "3              4                                       608\n",
      "               5                                       553\n",
      "               6                                       514\n",
      "               7                                       206\n",
      "               8                                        61\n",
      "               9                                        94\n",
      "               10                                      590\n",
      "4              4                                       205\n",
      "               5                                       353\n",
      "               6                                       324\n",
      "               7                                       155\n",
      "               8                                        41\n",
      "               9                                        47\n",
      "               10                                      379\n",
      "5              5                                       928\n",
      "               6                                       831\n",
      "               7                                       438\n",
      "               8                                       120\n",
      "               9                                       198\n",
      "               10                                     1174\n",
      "Name: clusters, dtype: int64\n",
      "\n",
      "\n",
      "Quantidade de empresas que são do P3, divididas por faturamento estimado e idade:\n",
      "idade_emp_cat  de_faixa_faturamento_estimado_grupo\n",
      "0              7                                       1\n",
      "1              5                                       4\n",
      "               6                                       1\n",
      "               7                                       2\n",
      "2              5                                      11\n",
      "               6                                      12\n",
      "               7                                       1\n",
      "               8                                       1\n",
      "               9                                       1\n",
      "               10                                      1\n",
      "3              5                                       2\n",
      "               6                                      15\n",
      "               7                                       2\n",
      "               8                                       1\n",
      "               9                                       1\n",
      "4              5                                       9\n",
      "               6                                      13\n",
      "               7                                       8\n",
      "               8                                       1\n",
      "               9                                       1\n",
      "               10                                      1\n",
      "5              5                                      33\n",
      "               6                                      94\n",
      "               7                                      40\n",
      "               8                                       4\n",
      "               9                                       4\n",
      "               10                                      1\n",
      "Name: clusters, dtype: int64\n",
      "\n",
      "\n",
      "Porcentagem de quantas empresas no mercado que são C2 já são clientes do P3, dividido por por range de idade:\n",
      "idade_emp_cat  de_faixa_faturamento_estimado_grupo\n",
      "0              5                                            NaN\n",
      "               6                                            NaN\n",
      "               7                                       1.515152\n",
      "               8                                            NaN\n",
      "               9                                            NaN\n",
      "               10                                           NaN\n",
      "1              4                                            NaN\n",
      "               5                                       0.552486\n",
      "               6                                       0.196464\n",
      "               7                                       0.516796\n",
      "               8                                            NaN\n",
      "               9                                            NaN\n",
      "               10                                           NaN\n",
      "2              4                                            NaN\n",
      "               5                                       1.247166\n",
      "               6                                       1.626016\n",
      "               7                                       0.302115\n",
      "               8                                       0.800000\n",
      "               9                                       0.632911\n",
      "               10                                      0.124378\n",
      "3              4                                            NaN\n",
      "               5                                       0.361664\n",
      "               6                                       2.918288\n",
      "               7                                       0.970874\n",
      "               8                                       1.639344\n",
      "               9                                       1.063830\n",
      "               10                                           NaN\n",
      "4              4                                            NaN\n",
      "               5                                       2.549575\n",
      "               6                                       4.012346\n",
      "               7                                       5.161290\n",
      "               8                                       2.439024\n",
      "               9                                       2.127660\n",
      "               10                                      0.263852\n",
      "5              5                                       3.556034\n",
      "               6                                      11.311673\n",
      "               7                                       9.132420\n",
      "               8                                       3.333333\n",
      "               9                                       2.020202\n",
      "               10                                      0.085179\n",
      "Name: clusters, dtype: float64\n",
      "\n",
      "\n",
      "Potencial de crescimento, em %, do P3, só considerando quem do mercado é C2, dividido por por range de idade:\n",
      "idade_emp_cat  de_faixa_faturamento_estimado_grupo\n",
      "0              5                                           NaN\n",
      "               6                                           NaN\n",
      "               7                                        6500.0\n",
      "               8                                           NaN\n",
      "               9                                           NaN\n",
      "               10                                          NaN\n",
      "1              4                                           NaN\n",
      "               5                                       18000.0\n",
      "               6                                       50800.0\n",
      "               7                                       19250.0\n",
      "               8                                           NaN\n",
      "               9                                           NaN\n",
      "               10                                          NaN\n",
      "2              4                                           NaN\n",
      "               5                                        7918.0\n",
      "               6                                        6050.0\n",
      "               7                                       33000.0\n",
      "               8                                       12400.0\n",
      "               9                                       15700.0\n",
      "               10                                      80300.0\n",
      "3              4                                           NaN\n",
      "               5                                       27550.0\n",
      "               6                                        3327.0\n",
      "               7                                       10200.0\n",
      "               8                                        6000.0\n",
      "               9                                        9300.0\n",
      "               10                                          NaN\n",
      "4              4                                           NaN\n",
      "               5                                        3822.0\n",
      "               6                                        2392.0\n",
      "               7                                        1838.0\n",
      "               8                                        4000.0\n",
      "               9                                        4600.0\n",
      "               10                                      37800.0\n",
      "5              5                                        2712.0\n",
      "               6                                         784.0\n",
      "               7                                         995.0\n",
      "               8                                        2900.0\n",
      "               9                                        4850.0\n",
      "               10                                     117300.0\n",
      "Name: clusters, dtype: float64 1\n",
      "\n",
      "\n"
     ]
    }
   ],
   "source": [
    "print('Quantidade de empresas que estão presentes no P3, por cluster:')\n",
    "print(p3_qt_emp_cluster)\n",
    "print('\\n')\n",
    "\n",
    "print('Quantidade de empresas que estão presentes no mercado que são C2:')\n",
    "print(mkt_qt_emp_cluster_2)\n",
    "print('\\n')\n",
    "\n",
    "print('Porcentagem de quantas empresas no mercado que são C2 já são clientes do P3:')\n",
    "print(p3_qt_emp_cluster/mkt_qt_emp_cluster_2*100)\n",
    "print('\\n')\n",
    "\n",
    "print('Porcentagem de qual o crescimento que P3 terá se todas as empresas no mercado que são C2 virarem clientes:')\n",
    "print(round((mkt_qt_emp_cluster_2)-(p3_qt_emp_cluster)/mkt_qt_emp_cluster_2*100),1)\n",
    "print('\\n')\n",
    "\n",
    "#Agora, brincando com possibilidades\n",
    "print('Quantidade de empresas que estão presentes no mercado que são C2, divididas por faturamento estimado:')\n",
    "print(df_mkt_cluster2.groupby(['de_faixa_faturamento_estimado_grupo']).clusters.count())\n",
    "print('\\n')\n",
    "\n",
    "print('Quantidade de empresas que são do P3, divididas por faturamento estimado:')\n",
    "print(df_p3_total.groupby(['de_faixa_faturamento_estimado_grupo']).clusters.count())\n",
    "print('\\n')\n",
    "\n",
    "print('Porcentagem de quantas empresas no mercado que são C2 já são clientes do P3, dividido por faturamento estimado:')\n",
    "print(df_p3_total.groupby(['de_faixa_faturamento_estimado_grupo']).clusters.count()/df_mkt_cluster2.groupby(['de_faixa_faturamento_estimado_grupo']).clusters.count()*100)\n",
    "print('\\n')\n",
    "\n",
    "print('Potencial de crescimento, em %, do P3, só considerando quem do mercado é C2, dividido por faturamento estimado:')\n",
    "print(round((df_mkt_cluster2.groupby(['de_faixa_faturamento_estimado_grupo']).clusters.count()-df_p3_total.groupby(['de_faixa_faturamento_estimado_grupo']).clusters.count())/(df_p3_total.groupby(['de_faixa_faturamento_estimado_grupo']).clusters.count())*100),1)\n",
    "print('\\n')\n",
    "\n",
    "#Brincando mais ainda\n",
    "print('Quantidade de empresas que estão presentes no mercado que são C2, divididas por range de idade e faturamento estimado:')\n",
    "print(df_mkt_cluster2.groupby(['idade_emp_cat','de_faixa_faturamento_estimado_grupo']).clusters.count())\n",
    "print('\\n')\n",
    "\n",
    "print('Quantidade de empresas que são do P3, divididas por faturamento estimado e idade:')\n",
    "print(df_p3_total.groupby(['idade_emp_cat','de_faixa_faturamento_estimado_grupo']).clusters.count())\n",
    "print('\\n')\n",
    "\n",
    "print('Porcentagem de quantas empresas no mercado que são C2 já são clientes do P3, dividido por por range de idade:')\n",
    "print(df_p3_total.groupby(['idade_emp_cat','de_faixa_faturamento_estimado_grupo']).clusters.count()/df_mkt_cluster2.groupby(['idade_emp_cat','de_faixa_faturamento_estimado_grupo']).clusters.count()*100)\n",
    "print('\\n')\n",
    "\n",
    "print('Potencial de crescimento, em %, do P3, só considerando quem do mercado é C2, dividido por por range de idade:')\n",
    "print(round((df_mkt_cluster2.groupby(['idade_emp_cat','de_faixa_faturamento_estimado_grupo']).clusters.count()-df_p3_total.groupby(['idade_emp_cat','de_faixa_faturamento_estimado_grupo']).clusters.count())/(df_p3_total.groupby(['idade_emp_cat','de_faixa_faturamento_estimado_grupo']).clusters.count())*100),1)\n",
    "print('\\n')"
   ]
  },
  {
   "cell_type": "markdown",
   "metadata": {},
   "source": [
    "# Análise do Portfolio 1 (P1)"
   ]
  },
  {
   "cell_type": "code",
   "execution_count": 148,
   "metadata": {},
   "outputs": [],
   "source": [
    "df_p1_total_apenas_C1 = df_p1_total[df_p1_total.clusters == 1]\n",
    "df_p1_total_apenas_C1.rename(columns={'de_faixa_faturamento_estimado_grupo_y':'de_faixa_faturamento_estimado_grupo'}, inplace=True)\n",
    "df_p1_total_apenas_C1.rename(columns={'idade_emp_cat_y':'idade_emp_cat'}, inplace=True)"
   ]
  },
  {
   "cell_type": "code",
   "execution_count": 149,
   "metadata": {
    "scrolled": false
   },
   "outputs": [
    {
     "name": "stdout",
     "output_type": "stream",
     "text": [
      "Quantidade de empresas que estão presentes no P1, por cluster:\n",
      "1    207\n",
      "3    193\n",
      "0    142\n",
      "2     13\n",
      "Name: clusters, dtype: int64\n",
      "\n",
      "\n",
      "Quantidade de empresas que estão presentes no mercado que são C1:\n",
      "1    179917\n",
      "Name: clusters, dtype: int64\n",
      "\n",
      "\n",
      "Porcentagem de quantas empresas no mercado que são C1 já são clientes do P1:\n",
      "0         NaN\n",
      "1    0.115053\n",
      "2         NaN\n",
      "3         NaN\n",
      "Name: clusters, dtype: float64\n",
      "\n",
      "\n",
      "Porcentagem de qual o crescimento que P1 terá se todas as empresas no mercado que são C1 virarem clientes:\n",
      "0         NaN\n",
      "1    179917.0\n",
      "2         NaN\n",
      "3         NaN\n",
      "Name: clusters, dtype: float64 1\n",
      "\n",
      "\n",
      "Quantidade de empresas que estão presentes no mercado que são C1, divididas por faturamento estimado:\n",
      "de_faixa_faturamento_estimado_grupo\n",
      "0     59537\n",
      "1    107489\n",
      "2     10042\n",
      "3      2380\n",
      "4       469\n",
      "Name: clusters, dtype: int64\n",
      "\n",
      "\n",
      "Quantidade de empresas que são do P1 C1, divididas por faturamento estimado:\n",
      "de_faixa_faturamento_estimado_grupo\n",
      "0     72\n",
      "1    119\n",
      "2     12\n",
      "3      3\n",
      "4      1\n",
      "Name: clusters, dtype: int64\n",
      "\n",
      "\n",
      "Porcentagem de quantas empresas C1 no mercado já são clientes do P1, dividido por faturamento estimado:\n",
      "de_faixa_faturamento_estimado_grupo\n",
      "0    0.120933\n",
      "1    0.110709\n",
      "2    0.119498\n",
      "3    0.126050\n",
      "4    0.213220\n",
      "Name: clusters, dtype: float64\n",
      "\n",
      "\n",
      "Potencial de crescimento, em %, do P1, só considerando quem é C1, dividido por faturamento estimado:\n",
      "de_faixa_faturamento_estimado_grupo\n",
      "0    82590.0\n",
      "1    90227.0\n",
      "2    83583.0\n",
      "3    79233.0\n",
      "4    46800.0\n",
      "Name: clusters, dtype: float64 1\n",
      "\n",
      "\n",
      "Quantidade de empresas C1 que estão presentes no mercado, divididas por range de idade e faturamento estimado:\n",
      "idade_emp_cat  de_faixa_faturamento_estimado_grupo\n",
      "0              0                                        160\n",
      "               1                                      44017\n",
      "               2                                       1372\n",
      "               3                                        461\n",
      "               4                                        201\n",
      "1              0                                      59374\n",
      "               1                                      63472\n",
      "               2                                       8670\n",
      "               3                                       1919\n",
      "               4                                        268\n",
      "2              0                                          3\n",
      "Name: clusters, dtype: int64\n",
      "\n",
      "\n",
      "Quantidade de empresas C1 que são do P1, divididas por faturamento estimado e idade:\n",
      "idade_emp_cat  de_faixa_faturamento_estimado_grupo\n",
      "0              1                                      53\n",
      "               2                                       2\n",
      "               4                                       1\n",
      "1              0                                      72\n",
      "               1                                      66\n",
      "               2                                      10\n",
      "               3                                       3\n",
      "Name: clusters, dtype: int64\n",
      "\n",
      "\n",
      "Porcentagem de quantas empresas C1 no mercado que já são clientes do P1, dividido por por range de idade:\n",
      "idade_emp_cat  de_faixa_faturamento_estimado_grupo\n",
      "0              0                                           NaN\n",
      "               1                                      0.120408\n",
      "               2                                      0.145773\n",
      "               3                                           NaN\n",
      "               4                                      0.497512\n",
      "1              0                                      0.121265\n",
      "               1                                      0.103983\n",
      "               2                                      0.115340\n",
      "               3                                      0.156331\n",
      "               4                                           NaN\n",
      "2              0                                           NaN\n",
      "Name: clusters, dtype: float64\n",
      "\n",
      "\n",
      "Potencial de crescimento, em %, do P1, só considerando quem é C1, dividido por por range de idade:\n",
      "idade_emp_cat  de_faixa_faturamento_estimado_grupo\n",
      "0              0                                          NaN\n",
      "               1                                      82951.0\n",
      "               2                                      68500.0\n",
      "               3                                          NaN\n",
      "               4                                      20000.0\n",
      "1              0                                      82364.0\n",
      "               1                                      96070.0\n",
      "               2                                      86600.0\n",
      "               3                                      63867.0\n",
      "               4                                          NaN\n",
      "2              0                                          NaN\n",
      "Name: clusters, dtype: float64 1\n",
      "\n",
      "\n"
     ]
    }
   ],
   "source": [
    "print('Quantidade de empresas que estão presentes no P1, por cluster:')\n",
    "print(p1_qt_emp_cluster)\n",
    "print('\\n')\n",
    "\n",
    "print('Quantidade de empresas que estão presentes no mercado que são C1:')\n",
    "print(mkt_qt_emp_cluster_1)\n",
    "print('\\n')\n",
    "\n",
    "print('Porcentagem de quantas empresas no mercado que são C1 já são clientes do P1:')\n",
    "print(p1_qt_emp_cluster/mkt_qt_emp_cluster_1*100)\n",
    "print('\\n')\n",
    "\n",
    "print('Porcentagem de qual o crescimento que P1 terá se todas as empresas no mercado que são C1 virarem clientes:')\n",
    "print(round((mkt_qt_emp_cluster_1)-(p1_qt_emp_cluster)/mkt_qt_emp_cluster_1*100),1)\n",
    "print('\\n')\n",
    "\n",
    "#Agora, brincando com possibilidades\n",
    "print('Quantidade de empresas que estão presentes no mercado que são C1, divididas por faturamento estimado:')\n",
    "print(df_mkt_cluster1.groupby(['de_faixa_faturamento_estimado_grupo']).clusters.count())\n",
    "print('\\n')\n",
    "\n",
    "print('Quantidade de empresas que são do P1 C1, divididas por faturamento estimado:')\n",
    "print(df_p1_total_apenas_C1.groupby(['de_faixa_faturamento_estimado_grupo']).clusters.count())\n",
    "print('\\n')\n",
    "\n",
    "print('Porcentagem de quantas empresas C1 no mercado já são clientes do P1, dividido por faturamento estimado:')\n",
    "print(df_p1_total_apenas_C1.groupby(['de_faixa_faturamento_estimado_grupo']).clusters.count()/df_mkt_cluster1.groupby(['de_faixa_faturamento_estimado_grupo']).clusters.count()*100)\n",
    "print('\\n')\n",
    "\n",
    "print('Potencial de crescimento, em %, do P1, só considerando quem é C1, dividido por faturamento estimado:')\n",
    "print(round((df_mkt_cluster1.groupby(['de_faixa_faturamento_estimado_grupo']).clusters.count()-df_p1_total_apenas_C1.groupby(['de_faixa_faturamento_estimado_grupo']).clusters.count())/(df_p1_total_apenas_C1.groupby(['de_faixa_faturamento_estimado_grupo']).clusters.count())*100),1)\n",
    "print('\\n')\n",
    "\n",
    "#Brincando mais ainda\n",
    "print('Quantidade de empresas C1 que estão presentes no mercado, divididas por range de idade e faturamento estimado:')\n",
    "print(df_mkt_cluster1.groupby(['idade_emp_cat','de_faixa_faturamento_estimado_grupo']).clusters.count())\n",
    "print('\\n')\n",
    "\n",
    "print('Quantidade de empresas C1 que são do P1, divididas por faturamento estimado e idade:')\n",
    "print(df_p1_total_apenas_C1.groupby(['idade_emp_cat','de_faixa_faturamento_estimado_grupo']).clusters.count())\n",
    "print('\\n')\n",
    "\n",
    "print('Porcentagem de quantas empresas C1 no mercado que já são clientes do P1, dividido por por range de idade:')\n",
    "print(df_p1_total_apenas_C1.groupby(['idade_emp_cat','de_faixa_faturamento_estimado_grupo']).clusters.count()/df_mkt_cluster1.groupby(['idade_emp_cat','de_faixa_faturamento_estimado_grupo']).clusters.count()*100)\n",
    "print('\\n')\n",
    "\n",
    "print('Potencial de crescimento, em %, do P1, só considerando quem é C1, dividido por por range de idade:')\n",
    "print(round((df_mkt_cluster1.groupby(['idade_emp_cat','de_faixa_faturamento_estimado_grupo']).clusters.count()-df_p1_total_apenas_C1.groupby(['idade_emp_cat','de_faixa_faturamento_estimado_grupo']).clusters.count())/(df_p1_total_apenas_C1.groupby(['idade_emp_cat','de_faixa_faturamento_estimado_grupo']).clusters.count())*100),1)\n",
    "print('\\n')"
   ]
  }
 ],
 "metadata": {
  "colab": {
   "collapsed_sections": [],
   "name": "ml-leads-squad-3",
   "provenance": []
  },
  "kernelspec": {
   "display_name": "Python 3",
   "language": "python",
   "name": "python3"
  },
  "language_info": {
   "codemirror_mode": {
    "name": "ipython",
    "version": 3
   },
   "file_extension": ".py",
   "mimetype": "text/x-python",
   "name": "python",
   "nbconvert_exporter": "python",
   "pygments_lexer": "ipython3",
   "version": "3.7.3"
  }
 },
 "nbformat": 4,
 "nbformat_minor": 1
}
