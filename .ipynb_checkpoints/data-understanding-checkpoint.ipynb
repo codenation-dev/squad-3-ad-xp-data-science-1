{
 "cells": [
  {
   "cell_type": "markdown",
   "metadata": {},
   "source": [
    "### Dúvidas\n",
    "\n",
    "- posso usar o dados do mercado apenas para analizar as variáveis?\n",
    "    - clusteriza estratificando, assim você identifica o que caracteriza os KPIs\n",
    "- posso excluir variavéis que o pandas_profiling sugere para desconsiderar fazendo apenas uma análise superficial?\n",
    "    - Posso eliminar mas tenq analisar as duas que relacionou, e escolher uma \n",
    "- posso remover variáveis intuitivamente? Por exemplo, CNPJ se é da matriz ou não?\n",
    "    - Posso"
   ]
  },
  {
   "cell_type": "code",
   "execution_count": 1,
   "metadata": {},
   "outputs": [],
   "source": [
    "# imports\n",
    "import pandas as pd\n",
    "import numpy as np\n",
    "\n",
    "# reading the datasets\n",
    "df_p1 = pd.read_csv('../data/estaticos_portfolio1.csv') # ids dos clientes da empresa um (já relacionado)\n",
    "df_p2_ids = pd.read_csv('../data/estaticos_portfolio2.csv') # ids dos clientes da empresa dois\n",
    "df_p3_ids = pd.read_csv('../data/estaticos_portfolio3.csv') # ids dos clientes da empresa três\n",
    "df_mkt = pd.read_csv('../data/estaticos_market.csv') # base contando todos os registros incluindo todo mercado"
   ]
  },
  {
   "cell_type": "code",
   "execution_count": 2,
   "metadata": {},
   "outputs": [],
   "source": [
    "# merge the dataframes\n",
    "df_p2 = pd.merge(df_p2_ids, df_mkt, on='id', how='left')\n",
    "df_p3 = pd.merge(df_p3_ids, df_mkt, on='id', how='left')"
   ]
  },
  {
   "cell_type": "code",
   "execution_count": 3,
   "metadata": {},
   "outputs": [],
   "source": [
    "# remove the column Unnamed: 0_y since it represents the id in the market \n",
    "# (we do not need it since we have the \"id\" column that already identifies the entry)\n",
    "df_p2.drop(columns=['Unnamed: 0_y'], inplace=True)\n",
    "df_p3.drop(columns=['Unnamed: 0_y'], inplace=True)"
   ]
  },
  {
   "cell_type": "code",
   "execution_count": 4,
   "metadata": {},
   "outputs": [],
   "source": [
    "# now lets rename the column 'Unnamed: 0_y' to 'Unnamed: 0' to standard it\n",
    "df_p2.rename(columns={'Unnamed: 0_x':'Unnamed: 0'}, inplace=True)\n",
    "df_p3.rename(columns={'Unnamed: 0_x':'Unnamed: 0'}, inplace=True)"
   ]
  },
  {
   "cell_type": "markdown",
   "metadata": {},
   "source": [
    "# Data undertanding\n",
    "\n",
    "#### First of all, lets verify if the columns in the datasets are the same"
   ]
  },
  {
   "cell_type": "code",
   "execution_count": 5,
   "metadata": {
    "scrolled": false
   },
   "outputs": [
    {
     "data": {
      "text/plain": [
       "True"
      ]
     },
     "execution_count": 5,
     "metadata": {},
     "output_type": "execute_result"
    }
   ],
   "source": [
    "((df_p1.columns == df_p2.columns) & (df_p2.columns == df_p3.columns) & (df_p3.columns == df_mkt.columns)).all()"
   ]
  },
  {
   "cell_type": "markdown",
   "metadata": {
    "collapsed": true
   },
   "source": [
    "#### Now that the we know that they are all the same, we can start to remove columns by intuition. Following, lets analyze the null values"
   ]
  },
  {
   "cell_type": "code",
   "execution_count": 9,
   "metadata": {},
   "outputs": [
    {
     "data": {
      "text/plain": [
       "Unnamed: 0                                         0\n",
       "id                                                 0\n",
       "fl_matriz                                          0\n",
       "de_natureza_juridica                               0\n",
       "sg_uf                                              0\n",
       "natureza_juridica_macro                            0\n",
       "de_ramo                                            0\n",
       "setor                                              0\n",
       "idade_empresa_anos                                 0\n",
       "idade_emp_cat                                      0\n",
       "fl_me                                              0\n",
       "fl_sa                                              0\n",
       "fl_epp                                             0\n",
       "fl_mei                                             0\n",
       "fl_ltda                                            0\n",
       "dt_situacao                                        0\n",
       "fl_st_especial                                     0\n",
       "fl_email                                           0\n",
       "fl_telefone                                        0\n",
       "fl_rm                                              0\n",
       "nm_divisao                                         0\n",
       "nm_segmento                                        0\n",
       "fl_spa                                             0\n",
       "fl_antt                                            0\n",
       "fl_veiculo                                         0\n",
       "vl_total_tancagem                                555\n",
       "vl_total_veiculos_antt                           555\n",
       "vl_total_veiculos_leves                          517\n",
       "vl_total_veiculos_pesados                        517\n",
       "fl_optante_simples                               101\n",
       "                                                ... \n",
       "idade_de_34_a_38                                 513\n",
       "idade_de_39_a_43                                 523\n",
       "idade_de_44_a_48                                 534\n",
       "idade_de_49_a_53                                 533\n",
       "idade_de_54_a_58                                 541\n",
       "idade_acima_de_58                                540\n",
       "grau_instrucao_macro_analfabeto                  554\n",
       "grau_instrucao_macro_escolaridade_fundamental    530\n",
       "grau_instrucao_macro_escolaridade_media          469\n",
       "grau_instrucao_macro_escolaridade_superior       532\n",
       "grau_instrucao_macro_desconhecido                555\n",
       "total                                            454\n",
       "meses_ultima_contratacaco                        424\n",
       "qt_admitidos_12meses                             424\n",
       "qt_desligados_12meses                            424\n",
       "qt_desligados                                    424\n",
       "qt_admitidos                                     424\n",
       "media_meses_servicos_all                         424\n",
       "max_meses_servicos_all                           424\n",
       "min_meses_servicos_all                           424\n",
       "media_meses_servicos                             454\n",
       "max_meses_servicos                               454\n",
       "min_meses_servicos                               454\n",
       "qt_funcionarios                                  424\n",
       "qt_funcionarios_12meses                          424\n",
       "qt_funcionarios_24meses                          424\n",
       "tx_crescimento_12meses                           458\n",
       "tx_crescimento_24meses                           464\n",
       "tx_rotatividade                                  424\n",
       "qt_filiais                                         0\n",
       "Length: 182, dtype: int64"
      ]
     },
     "execution_count": 9,
     "metadata": {},
     "output_type": "execute_result"
    }
   ],
   "source": [
    "df_p1.isna().sum()"
   ]
  },
  {
   "cell_type": "markdown",
   "metadata": {},
   "source": [
    "#### There are some columns that have a lot of null values lets analyze each one and them and see which ones we can remove"
   ]
  },
  {
   "cell_type": "code",
   "execution_count": 11,
   "metadata": {},
   "outputs": [
    {
     "data": {
      "text/plain": [
       "(555,)"
      ]
     },
     "execution_count": 11,
     "metadata": {},
     "output_type": "execute_result"
    }
   ],
   "source": [
    "df_p1['vl_total_tancagem'].shape"
   ]
  },
  {
   "cell_type": "markdown",
   "metadata": {},
   "source": [
    "#### as one can see all values are null, lets see if they are null in the other datesets"
   ]
  },
  {
   "cell_type": "code",
   "execution_count": 17,
   "metadata": {},
   "outputs": [
    {
     "data": {
      "text/plain": [
       "0.9522968197879859"
      ]
     },
     "execution_count": 17,
     "metadata": {},
     "output_type": "execute_result"
    }
   ],
   "source": [
    "df_p2['vl_total_tancagem'].isna().sum() / df_p2['vl_total_tancagem'].shape[0]"
   ]
  },
  {
   "cell_type": "markdown",
   "metadata": {},
   "source": [
    "#### Humm, lets see what this variable mean\n",
    "##### numeric, total capacity of fuel storage of the company"
   ]
  },
  {
   "cell_type": "markdown",
   "metadata": {},
   "source": [
    "#### if this variable has a lot of null values in the market and portifolio 3, I will exclude it"
   ]
  },
  {
   "cell_type": "code",
   "execution_count": 18,
   "metadata": {},
   "outputs": [
    {
     "data": {
      "text/plain": [
       "0.9622641509433962"
      ]
     },
     "execution_count": 18,
     "metadata": {},
     "output_type": "execute_result"
    }
   ],
   "source": [
    "df_p3['vl_total_tancagem'].isna().sum() / df_p3['vl_total_tancagem'].shape[0]"
   ]
  },
  {
   "cell_type": "code",
   "execution_count": 19,
   "metadata": {},
   "outputs": [
    {
     "data": {
      "text/plain": [
       "0.9993943300641578"
      ]
     },
     "execution_count": 19,
     "metadata": {},
     "output_type": "execute_result"
    }
   ],
   "source": [
    "df_mkt['vl_total_tancagem'].isna().sum() / df_mkt['vl_total_tancagem'].shape[0]"
   ]
  },
  {
   "cell_type": "markdown",
   "metadata": {},
   "source": [
    "#### Since 99% of the data is missing let drop it"
   ]
  },
  {
   "cell_type": "code",
   "execution_count": 20,
   "metadata": {},
   "outputs": [],
   "source": [
    "df_p1.drop(columns=['vl_total_tancagem'], inplace=True)\n",
    "df_p2.drop(columns=['vl_total_tancagem'], inplace=True)\n",
    "df_p3.drop(columns=['vl_total_tancagem'], inplace=True)\n",
    "df_mkt.drop(columns=['vl_total_tancagem'], inplace=True)"
   ]
  },
  {
   "cell_type": "code",
   "execution_count": null,
   "metadata": {},
   "outputs": [],
   "source": []
  }
 ],
 "metadata": {
  "kernelspec": {
   "display_name": "Python 3",
   "language": "python",
   "name": "python3"
  },
  "language_info": {
   "codemirror_mode": {
    "name": "ipython",
    "version": 3
   },
   "file_extension": ".py",
   "mimetype": "text/x-python",
   "name": "python",
   "nbconvert_exporter": "python",
   "pygments_lexer": "ipython3",
   "version": "3.7.3"
  }
 },
 "nbformat": 4,
 "nbformat_minor": 2
}
