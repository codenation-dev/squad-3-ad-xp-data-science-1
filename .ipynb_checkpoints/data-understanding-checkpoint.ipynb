{
 "cells": [
  {
   "cell_type": "code",
   "execution_count": null,
   "metadata": {},
   "outputs": [],
   "source": [
    "import pandas as pd\n",
    "import numpy as np\n",
    "\n",
    "df_p1 = pd.read_csv('../data/estaticos_portfolio1.csv') # ids dos clientes da empresa um (já relacionado)\n",
    "df_p2 = pd.read_csv('../data/estaticos_portfolio2.csv') # ids dos clientes da empresa dois\n",
    "df_p3 = pd.read_csv('../data/estaticos_portfolio3.csv')\n",
    "df_mkt = pd.read_csv('../data/estaticos_market.csv')"
   ]
  }
 ],
 "metadata": {
  "kernelspec": {
   "display_name": "Python 3",
   "language": "python",
   "name": "python3"
  },
  "language_info": {
   "codemirror_mode": {
    "name": "ipython",
    "version": 3
   },
   "file_extension": ".py",
   "mimetype": "text/x-python",
   "name": "python",
   "nbconvert_exporter": "python",
   "pygments_lexer": "ipython3",
   "version": "3.7.3"
  }
 },
 "nbformat": 4,
 "nbformat_minor": 2
}
