{
 "cells": [
  {
   "cell_type": "code",
   "execution_count": 33,
   "metadata": {},
   "outputs": [],
   "source": [
    "# imports\n",
    "\n",
    "import pandas as pd\n",
    "import numpy as np\n",
    "import pandas_profiling\n",
    "\n",
    "df_p1 = pd.read_csv('../data/estaticos_portfolio1.csv') # ids dos clientes da empresa um (já relacionado)\n",
    "df_p2_ids = pd.read_csv('../data/estaticos_portfolio2.csv') # ids dos clientes da empresa dois\n",
    "df_p3_ids = pd.read_csv('../data/estaticos_portfolio3.csv') # ids dos clientes da empresa três\n",
    "df_mkt = pd.read_csv('../data/estaticos_market.csv') # base contando todos os registros incluindo todo mercado"
   ]
  },
  {
   "cell_type": "code",
   "execution_count": 13,
   "metadata": {},
   "outputs": [],
   "source": [
    "# merge the dataframes\n",
    "\n",
    "df_p2 = pd.merge(df_p2_ids, df_mkt, on='id', how='left')\n",
    "df_p3 = pd.merge(df_p3_ids, df_mkt, on='id', how='left')"
   ]
  },
  {
   "cell_type": "code",
   "execution_count": 35,
   "metadata": {},
   "outputs": [],
   "source": [
    "# generate reports\n",
    "\n",
    "p1_report = df_p1.profile_report(style={'full_width':True})\n",
    "p2_report = df_p2.profile_report(style={'full_width':True})\n",
    "p3_report = df_p3.profile_report(style={'full_width':True})"
   ]
  },
  {
   "cell_type": "code",
   "execution_count": 36,
   "metadata": {},
   "outputs": [],
   "source": [
    "# output the profile as HTML\n",
    "\n",
    "p1_report.to_file(output_file='p1_report.html')\n",
    "p1_report.to_file(output_file='p2_report.html')\n",
    "p1_report.to_file(output_file='p3_report.html')"
   ]
  },
  {
   "cell_type": "code",
   "execution_count": null,
   "metadata": {},
   "outputs": [],
   "source": []
  }
 ],
 "metadata": {
  "kernelspec": {
   "display_name": "Python 3",
   "language": "python",
   "name": "python3"
  },
  "language_info": {
   "codemirror_mode": {
    "name": "ipython",
    "version": 3
   },
   "file_extension": ".py",
   "mimetype": "text/x-python",
   "name": "python",
   "nbconvert_exporter": "python",
   "pygments_lexer": "ipython3",
   "version": "3.7.3"
  }
 },
 "nbformat": 4,
 "nbformat_minor": 2
}
