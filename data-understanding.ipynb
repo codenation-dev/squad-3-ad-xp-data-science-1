{
 "cells": [
  {
   "cell_type": "code",
   "execution_count": 447,
   "metadata": {},
   "outputs": [],
   "source": [
    "# imports\n",
    "\n",
    "import pandas as pd\n",
    "import numpy as np\n",
    "\n",
    "df_p1 = pd.read_csv('../data/estaticos_portfolio1.csv') # ids dos clientes da empresa um (já relacionado)\n",
    "df_p2_ids = pd.read_csv('../data/estaticos_portfolio2.csv') # ids dos clientes da empresa dois\n",
    "df_p3_ids = pd.read_csv('../data/estaticos_portfolio3.csv') # ids dos clientes da empresa três\n",
    "df_mkt = pd.read_csv('../data/estaticos_market.csv') # base contando todos os registros incluindo todo mercado"
   ]
  },
  {
   "cell_type": "code",
   "execution_count": 448,
   "metadata": {},
   "outputs": [],
   "source": [
    "# auxiliar function\n",
    "\n",
    "def prop_values(df, column, boolean):\n",
    "    return df[df[column] == boolean].shape[0] / df[column].shape[0]\n",
    "\n",
    "def null_values(column):\n",
    "    return {'p1': df_p1[[column]].isna().sum() / df_p1.shape[0],\n",
    "     'p2': df_p2[[column]].isna().sum() / df_p2.shape[0],\n",
    "     'p3': df_p3[[column]].isna().sum() / df_p3.shape[0],\n",
    "     'mkt': df_mkt[[column]].isna().sum() / df_mkt.shape[0]}\n",
    "    "
   ]
  },
  {
   "cell_type": "code",
   "execution_count": 449,
   "metadata": {},
   "outputs": [],
   "source": [
    "# merge the dataframes\n",
    "\n",
    "df_p2 = pd.merge(df_p2_ids, df_mkt, on='id', how='left')\n",
    "df_p3 = pd.merge(df_p3_ids, df_mkt, on='id', how='left')"
   ]
  },
  {
   "cell_type": "code",
   "execution_count": 450,
   "metadata": {},
   "outputs": [],
   "source": [
    "# generate reports\n",
    "\n",
    "# p1_report = df_p1.profile_report(style={'full_width':True})\n",
    "# p2_report = df_p2.profile_report(style={'full_width':True})\n",
    "# p3_report = df_p3.profile_report(style={'full_width':True})"
   ]
  },
  {
   "cell_type": "code",
   "execution_count": 451,
   "metadata": {},
   "outputs": [],
   "source": [
    "# output the profile as HTML\n",
    "\n",
    "# p1_report.to_file(output_file='p1_report.html')\n",
    "# p1_report.to_file(output_file='p2_report.html')\n",
    "# p1_report.to_file(output_file='p3_report.html')"
   ]
  },
  {
   "cell_type": "code",
   "execution_count": 452,
   "metadata": {},
   "outputs": [],
   "source": [
    "# clean unimportant columns\n",
    "\n",
    "df_p1.drop(columns=['Unnamed: 0'], inplace=True)\n",
    "df_p2.drop(columns=['Unnamed: 0_x', 'Unnamed: 0_y'], inplace=True)\n",
    "df_p3.drop(columns=['Unnamed: 0_x', 'Unnamed: 0_y'], inplace=True)\n",
    "df_mkt.drop(columns=['Unnamed: 0'], inplace=True)"
   ]
  },
  {
   "cell_type": "code",
   "execution_count": 461,
   "metadata": {},
   "outputs": [],
   "source": [
    "# remove columns by null values\n",
    "\n",
    "columns_to_drop = [\n",
    "    'vl_total_tancagem', 'vl_total_veiculos_antt', 'vl_total_tancagem_grupo',\n",
    "    'vl_total_veiculos_antt_grupo', 'qt_socios_st_suspensa', 'qt_socios_pep',\n",
    "    'qt_alteracao_socio_total', 'qt_alteracao_socio_90d', 'qt_alteracao_socio_180d',\n",
    "    'qt_alteracao_socio_365d', 'qt_socios_pj_ativos', 'qt_socios_pj_nulos',\n",
    "    'qt_socios_pj_baixados', 'qt_socios_pj_suspensos', 'qt_socios_pj_inaptos',\n",
    "    'vl_idade_media_socios_pj', 'vl_idade_maxima_socios_pj', 'vl_idade_minima_socios_pj',\n",
    "    'coligada_mais_nova_baixada', 'coligada_mais_antiga_baixada', 'idade_media_coligadas_baixadas',\n",
    "    'grau_instrucao_macro_desconhecido', 'vl_potenc_cons_oleo_gas', 'total_filiais_coligados', \n",
    "    'min_filiais_coligados', 'max_filiais_coligados', 'grau_instrucao_macro_analfabeto', 'qt_art', \n",
    "    'qt_socios_feminino', 'media_funcionarios_coligados_gp', 'max_funcionarios_coligados_gp',\n",
    "    'min_funcionarios_coligados_gp', 'media_vl_folha_coligados', 'max_vl_folha_coligados', \n",
    "    'min_vl_folha_coligados', 'media_vl_folha_coligados_gp', 'max_vl_folha_coligados_gp', \n",
    "    'min_vl_folha_coligados_gp', 'media_filiais_coligados', 'idade_ate_18', 'idade_de_24_a_28', \n",
    "    'idade_de_34_a_38', 'idade_de_39_a_43', 'idade_de_44_a_48'\n",
    "]"
   ]
  },
  {
   "cell_type": "code",
   "execution_count": 462,
   "metadata": {},
   "outputs": [],
   "source": [
    "# remove based on profiling\n",
    "\n",
    "columns_to_drop.append('fl_simples_irregular')\n",
    "columns_to_drop.append('fl_optante_simei')\n",
    "columns_to_drop.append('natureza_juridica_macro')\n",
    "columns_to_drop.append('fl_me')\n",
    "columns_to_drop.append('fl_epp')\n",
    "columns_to_drop.append('fl_spa')\n",
    "columns_to_drop.append('fl_ltda')\n",
    "columns_to_drop.append('fl_st_especial')\n",
    "columns_to_drop.append('faturamento_est_coligados')\n",
    "columns_to_drop.append('grau_instrucao_macro_escolaridade_fundamental')\n",
    "columns_to_drop.append('grau_instrucao_macro_escolaridade_media')\n",
    "columns_to_drop.append('grau_instrucao_macro_escolaridade_superior')\n",
    "columns_to_drop.append('coligada_mais_antiga_ativa')\n",
    "columns_to_drop.append('coligada_mais_nova_ativa')\n",
    "columns_to_drop.append('faturamento_est_coligados')\n",
    "columns_to_drop.append('faturamento_est_coligados_gp')\n",
    "columns_to_drop.append('idade_maxima_socios')\n",
    "columns_to_drop.append('idade_minima_socios')\n",
    "columns_to_drop.append('max_faturamento_est_coligados')\n",
    "columns_to_drop.append('max_faturamento_est_coligados_gp')\n",
    "columns_to_drop.append('min_faturamento_est_coligados')\n",
    "columns_to_drop.append('min_faturamento_est_coligados_gp')\n",
    "columns_to_drop.append('media_faturamento_est_coligados')\n",
    "columns_to_drop.append('media_faturamento_est_coligados_gp')\n",
    "columns_to_drop.append('max_meses_servicos')\n",
    "columns_to_drop.append('max_meses_servicos_all')\n",
    "columns_to_drop.append('min_meses_servicos')\n",
    "columns_to_drop.append('min_meses_servicos_all')\n",
    "columns_to_drop.append('media_meses_servicos')\n",
    "columns_to_drop.append('media_meses_servicos_all')\n",
    "columns_to_drop.append('percent_func_genero_fem')\n",
    "columns_to_drop.append('percent_func_genero_masc')\n",
    "columns_to_drop.append('qt_admitidos')\n",
    "columns_to_drop.append('qt_admitidos_12meses')\n",
    "columns_to_drop.append('tx_crescimento_12meses')\n",
    "columns_to_drop.append('qt_ufs_coligados')\n",
    "columns_to_drop.append('sum_faturamento_estimado_coligadas')\n",
    "columns_to_drop.append('qt_regioes_coligados')\n",
    "columns_to_drop.append('vl_folha_coligados_gp')\n",
    "columns_to_drop.append('vl_folha_coligados')\n",
    "columns_to_drop.append('vl_frota') \n",
    "columns_to_drop.append('vl_total_veiculos_leves') \n",
    "columns_to_drop.append('vl_total_veiculos_pesados') "
   ]
  },
  {
   "cell_type": "code",
   "execution_count": 463,
   "metadata": {},
   "outputs": [],
   "source": [
    "columns_to_drop = list(set(columns_to_drop))"
   ]
  },
  {
   "cell_type": "code",
   "execution_count": 464,
   "metadata": {},
   "outputs": [],
   "source": [
    "df_p1.drop(columns=columns_to_drop, inplace=True)\n",
    "df_p2.drop(columns=columns_to_drop, inplace=True)\n",
    "df_p3.drop(columns=columns_to_drop, inplace=True)\n",
    "df_mkt.drop(columns=columns_to_drop, inplace=True)"
   ]
  },
  {
   "cell_type": "code",
   "execution_count": 469,
   "metadata": {},
   "outputs": [],
   "source": [
    "df_p1.to_csv('p1_clean.csv')\n",
    "df_p2.to_csv('p2_clean.csv')\n",
    "df_p3.to_csv('p3_clean.csv')\n",
    "df_mkt.to_csv('mkt_clean.csv')"
   ]
  },
  {
   "cell_type": "code",
   "execution_count": null,
   "metadata": {},
   "outputs": [],
   "source": [
    "# variaveis que analisamos e decidimos manter\n",
    "\n",
    "# fl_matriz\n",
    "# de_natureza_juridica\n",
    "# fl_sa\n",
    "# fl_mei\n",
    "# fl_optante_simples\n",
    "# total\n",
    "# tx_rotatividade\n",
    "# vl_faturamento_estimado_grupo_aux (importante)\n",
    "# vl_total_veiculos_pesados_grupo (quase nada nulo)\n",
    "# vl_total_veiculos_leves_grupo (quase nada nulo)"
   ]
  }
 ],
 "metadata": {
  "kernelspec": {
   "display_name": "Python 3",
   "language": "python",
   "name": "python3"
  },
  "language_info": {
   "codemirror_mode": {
    "name": "ipython",
    "version": 3
   },
   "file_extension": ".py",
   "mimetype": "text/x-python",
   "name": "python",
   "nbconvert_exporter": "python",
   "pygments_lexer": "ipython3",
   "version": "3.7.3"
  }
 },
 "nbformat": 4,
 "nbformat_minor": 2
}
