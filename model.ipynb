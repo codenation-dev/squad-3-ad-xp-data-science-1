{
 "cells": [
  {
   "cell_type": "code",
   "execution_count": 10,
   "metadata": {},
   "outputs": [],
   "source": [
    "# imports e leitura dos mercados\n",
    "import pandas as pd\n",
    "import numpy as np\n",
    "\n",
    "df_p1 = pd.read_csv('../data/p1_sem_nulos.csv')\n",
    "df_p2 = pd.read_csv('../data/p2_sem_nulos.csv')\n",
    "df_p3 = pd.read_csv('../data/p3_sem_nulos.csv')\n",
    "df_mkt = pd.read_csv('../data/mkt_sem_nulos.csv')"
   ]
  },
  {
   "cell_type": "markdown",
   "metadata": {},
   "source": [
    "# GradientBoostingClassifier \n",
    "\n",
    "### Acredito que o problema que temos que resolver no projeto final é um problema de classificação binária. Dado um conjunto de registros (portifolio X) o algoritmo precisa encontrar padrões discriminantes dentro deste conjunto, para então dado uma empresa contida na população inteira (mercado) que não esteja no portifolio X, recomendaríamos ela ou não (1 ou 0)?\n"
   ]
  },
  {
   "cell_type": "markdown",
   "metadata": {},
   "source": [
    "### Primeiro passo\n",
    "#### Precisamos criar um conjunto de dados de treinamento e outro de teste. Para isto, sugiro mapear as empresas contidas no portifolio X no mercado. Então, excluir 50% das empresas do portifolio X e excluir as outras 50% das empresas do portifolio do mercado, assim teremos empresas que são clientes já no mercado mapeadas mas que não estão no portifolio X, assim poderemos treinar o algoritmo."
   ]
  },
  {
   "cell_type": "code",
   "execution_count": 11,
   "metadata": {},
   "outputs": [],
   "source": [
    "def map_target_on_market(df_pX):\n",
    "    df = pd.merge(df_mkt, df_pX, on=['id'], how='left', indicator='target')\n",
    "    df['target'] = np.where(df['target'] == 'both', 1, 0)\n",
    "    df_ = df_mkt.copy()\n",
    "    df_['target'] = df['target']\n",
    "    return df_"
   ]
  },
  {
   "cell_type": "code",
   "execution_count": 13,
   "metadata": {},
   "outputs": [],
   "source": [
    "# import pandas as pd \n",
    "# import numpy as np\n",
    "\n",
    "# from sklearn.datasets import make_hastie_10_2\n",
    "# from sklearn.ensemble import GradientBoostingClassifier\n",
    "\n",
    "# X, y = make_hastie_10_2(random_state=0)\n",
    "# X_train, X_test = X[:2000], X[2000:]\n",
    "# y_train, y_test = y[:2000], y[2000:]\n",
    "\n",
    "# clf = GradientBoostingClassifier(n_estimators=100, learning_rate=1.0, max_depth=1, random_state=0).fit(X_train, y_train)\n",
    "# clf."
   ]
  }
 ],
 "metadata": {
  "kernelspec": {
   "display_name": "Python 3",
   "language": "python",
   "name": "python3"
  },
  "language_info": {
   "codemirror_mode": {
    "name": "ipython",
    "version": 3
   },
   "file_extension": ".py",
   "mimetype": "text/x-python",
   "name": "python",
   "nbconvert_exporter": "python",
   "pygments_lexer": "ipython3",
   "version": "3.7.3"
  }
 },
 "nbformat": 4,
 "nbformat_minor": 2
}
